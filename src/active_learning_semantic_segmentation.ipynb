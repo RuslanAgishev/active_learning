{
 "cells": [
  {
   "cell_type": "markdown",
   "metadata": {},
   "source": [
    "## Active learning"
   ]
  },
  {
   "cell_type": "markdown",
   "metadata": {},
   "source": [
    "<img src=\"./Perception_4_ActiveLearning_7_OnlineLearning.png\" alt=\"Drawing\" style=\"width: 800px;\"/>"
   ]
  },
  {
   "cell_type": "code",
   "execution_count": 10,
   "metadata": {},
   "outputs": [],
   "source": [
    "import os\n",
    "os.environ['CUDA_VISIBLE_DEVICES'] = '0'\n",
    "\n",
    "import numpy as np\n",
    "import cv2\n",
    "import matplotlib.pyplot as plt\n",
    "from utils import Dataset, visualize, pickle_load, pickle_save\n",
    "from augmentations import get_preprocessing, get_training_augmentation, get_validation_augmentation\n",
    "import torch\n",
    "import numpy as np\n",
    "from tqdm import tqdm\n",
    "import segmentation_models_pytorch as smp\n",
    "from torch.utils.data import DataLoader\n",
    "from torch.utils.data import Dataset as BaseDataset"
   ]
  },
  {
   "cell_type": "markdown",
   "metadata": {},
   "source": [
    "### Load data"
   ]
  },
  {
   "cell_type": "code",
   "execution_count": 11,
   "metadata": {},
   "outputs": [],
   "source": [
    "DATA_DIR = './data/CamVid/'\n",
    "\n",
    "x_train_dir = os.path.join(DATA_DIR, 'train')\n",
    "y_train_dir = os.path.join(DATA_DIR, 'trainannot')\n",
    "\n",
    "x_valid_dir = os.path.join(DATA_DIR, 'val')\n",
    "y_valid_dir = os.path.join(DATA_DIR, 'valannot')\n",
    "\n",
    "x_test_dir = os.path.join(DATA_DIR, 'test')\n",
    "y_test_dir = os.path.join(DATA_DIR, 'testannot')\n",
    "\n",
    "# all data paths\n",
    "X_train_paths = np.array([os.path.join(x_train_dir, image_name) for image_name in os.listdir(x_train_dir)])\n",
    "y_train_paths = np.array([os.path.join(y_train_dir, image_name) for image_name in os.listdir(y_train_dir)])\n",
    "\n",
    "X_valid_paths = np.array([os.path.join(x_valid_dir, image_name) for image_name in os.listdir(x_valid_dir)])\n",
    "y_valid_paths = np.array([os.path.join(y_valid_dir, image_name) for image_name in os.listdir(y_valid_dir)])\n",
    "\n",
    "X_test_paths = np.array([os.path.join(x_test_dir, image_name) for image_name in os.listdir(x_test_dir)])\n",
    "y_test_paths = np.array([os.path.join(y_test_dir, image_name) for image_name in os.listdir(y_test_dir)])"
   ]
  },
  {
   "cell_type": "markdown",
   "metadata": {},
   "source": [
    "### Create model"
   ]
  },
  {
   "cell_type": "code",
   "execution_count": 12,
   "metadata": {},
   "outputs": [],
   "source": [
    "class SegModel:\n",
    "\n",
    "    def __init__(self, arch=smp.Unet, encoder='resnet18', encoder_weights='imagenet'):\n",
    "        # model params\n",
    "        self.arch = arch\n",
    "        self.encoder = encoder\n",
    "        self.encoder_weights = encoder_weights\n",
    "        self.classes = ['sky', 'building', 'pole', 'road', 'pavement', \n",
    "                        'tree', 'signsymbol', 'fence', 'car', \n",
    "                        'pedestrian', 'bicyclist']\n",
    "        self.n_classes = 1 if len(self.classes) == 1 else (len(self.classes) + 1)\n",
    "        self.activation = 'sigmoid' if len(self.classes) == 1 else 'softmax2d'\n",
    "        self.device = 'cuda' if torch.cuda.is_available else 'cpu'\n",
    "        self.model = None\n",
    "        self.max_iou_score = 0\n",
    "        self.preprocessing_fn = smp.encoders.get_preprocessing_fn(self.encoder, self.encoder_weights)\n",
    "        # training params\n",
    "        self.learning_rate = 1e-4\n",
    "        self.batch_size = 8\n",
    "        self.epochs = 1\n",
    "\n",
    "    def create_epoch_runners(self, verbose=False):\n",
    "        # Dice/F1 score - https://en.wikipedia.org/wiki/S%C3%B8rensen%E2%80%93Dice_coefficient\n",
    "        # IoU/Jaccard score - https://en.wikipedia.org/wiki/Jaccard_index\n",
    "        loss = smp.utils.losses.DiceLoss()\n",
    "        metrics = [\n",
    "            smp.utils.metrics.IoU(threshold=0.5),\n",
    "        ]\n",
    "        optimizer = torch.optim.Adam([ \n",
    "            dict(params=self.model.parameters(), lr=self.learning_rate),\n",
    "        ])\n",
    "        # create epoch runners \n",
    "        # it is a simple loop of iterating over dataloader`s samples\n",
    "        train_epoch = smp.utils.train.TrainEpoch(\n",
    "            self.model, \n",
    "            loss=loss, \n",
    "            metrics=metrics, \n",
    "            optimizer=optimizer,\n",
    "            device=self.device,\n",
    "            verbose=verbose,\n",
    "        )\n",
    "        valid_epoch = smp.utils.train.ValidEpoch(\n",
    "            self.model, \n",
    "            loss=loss, \n",
    "            metrics=metrics, \n",
    "            device=self.device,\n",
    "            verbose=verbose,\n",
    "        )\n",
    "        \n",
    "        return train_epoch, valid_epoch\n",
    "        \n",
    "    def create_datasets(self, train_images_paths, train_masks_paths, valid_images_paths, valid_masks_paths):\n",
    "        train_dataset = Dataset(\n",
    "            train_images_paths, \n",
    "            train_masks_paths, \n",
    "            augmentation=get_training_augmentation(), \n",
    "            preprocessing=get_preprocessing(self.preprocessing_fn),\n",
    "            classes=self.classes,\n",
    "        )\n",
    "        valid_dataset = Dataset(\n",
    "            valid_images_paths,\n",
    "            valid_masks_paths,\n",
    "            augmentation=get_validation_augmentation(), \n",
    "            preprocessing=get_preprocessing(self.preprocessing_fn),\n",
    "            classes=self.classes,\n",
    "        )\n",
    "        return train_dataset, valid_dataset\n",
    "    \n",
    "    def create_model(self):\n",
    "        self.model = self.arch(encoder_name=self.encoder,\n",
    "                               encoder_weights=self.encoder_weights,\n",
    "                               classes=self.n_classes,\n",
    "                               activation=self.activation)\n",
    "        return self.model\n",
    "    \n",
    "    def train(self, train_images_paths, train_masks_paths, valid_images_paths, valid_masks_paths, verbose=False):\n",
    "        if self.model is None: self.create_model()\n",
    "        train_epoch, valid_epoch = self.create_epoch_runners(verbose=verbose)\n",
    "        train_dataset, valid_dataset = self.create_datasets(train_images_paths,\n",
    "                                                            train_masks_paths,\n",
    "                                                            valid_images_paths,\n",
    "                                                            valid_masks_paths)\n",
    "        train_loader = DataLoader(train_dataset, batch_size=self.batch_size, shuffle=True, num_workers=12)\n",
    "        valid_loader = DataLoader(valid_dataset, batch_size=1, shuffle=False, num_workers=4)\n",
    "        # train loop\n",
    "        max_score = 0\n",
    "        for i in range(0, self.epochs):\n",
    "            if verbose: print('\\nEpoch: {}'.format(i))\n",
    "            train_logs = train_epoch.run(train_loader)\n",
    "            valid_logs = valid_epoch.run(valid_loader)\n",
    "            # do something (save model, change lr, etc.)\n",
    "            if max_score < valid_logs['iou_score']:\n",
    "                max_score = valid_logs['iou_score']\n",
    "                torch.save(self.model, './best_model.pth')\n",
    "                if verbose: print('Model saved!')\n",
    "        # update model with the best saved\n",
    "        self.max_iou_score = max_score\n",
    "        self.model = torch.load('./best_model.pth')\n",
    "        \n",
    "    def predict(self, image_paths):\n",
    "        images = []\n",
    "        for image_path in image_paths:\n",
    "            # input preprocessing\n",
    "            image_raw = cv2.cvtColor(cv2.imread(image_path), cv2.COLOR_BGR2RGB)\n",
    "            image = np.copy(image_raw)\n",
    "            image = cv2.resize(image, (320, 320))\n",
    "            preprocessing = get_preprocessing(self.preprocessing_fn)\n",
    "            image = preprocessing(image=image)['image']\n",
    "            images.append(image)\n",
    "        # convert to torch tensor and do inference\n",
    "        x_tensor = torch.tensor(images).to(self.device)\n",
    "        predictions = self.model.predict(x_tensor)\n",
    "        return predictions\n",
    "    \n",
    "    \n",
    "def model_selection_function(name):\n",
    "    if name =='Unet':\n",
    "        arch = smp.Unet\n",
    "    elif name =='Linknet':\n",
    "        arch = smp.Linknet\n",
    "    elif name =='FPN':\n",
    "        arch = smp.FPN\n",
    "    elif name =='PSPNet':\n",
    "        arch = smp.PSPNet\n",
    "#     elif name =='PAN':\n",
    "#         arch = smp.PAN\n",
    "#     elif name =='DeepLabV3':\n",
    "#         arch = smp.DeepLabV3\n",
    "    else:\n",
    "        print('Supported sample selection functions: Unet, Linknet, FPN, PSPNet')\n",
    "        return None\n",
    "    return SegModel(arch=arch)"
   ]
  },
  {
   "cell_type": "markdown",
   "metadata": {},
   "source": [
    "### Active Learning experiment\n",
    "\n",
    "- X_train, y_train: is used partially to train a model\n",
    "- X_valid, y_valid: is used fully for validation\n",
    "- X_test, y_test: is used as an unlabelled set to detect anomalies and add labels to train set"
   ]
  },
  {
   "cell_type": "markdown",
   "metadata": {},
   "source": [
    "#### Firstly we define Anomaly detection functions here"
   ]
  },
  {
   "cell_type": "code",
   "execution_count": 13,
   "metadata": {},
   "outputs": [],
   "source": [
    "def normalize(x):\n",
    "    \"\"\"Scale image to range 0..1 for correct entropy calculation\"\"\"\n",
    "    x_max = np.percentile(x, 98)\n",
    "    x_min = np.percentile(x, 2)    \n",
    "    x = (x - x_min) / (x_max - x_min)\n",
    "    x = x.clip(0, 1)\n",
    "    return x\n",
    "def entropy(mask_np, eps=1e-9):\n",
    "    mask_np = normalize(mask_np)\n",
    "    # mask_np.shape = (3, N, M)\n",
    "    e = np.mean( (-mask_np * np.log2(mask_np+eps)).sum(axis=0) )\n",
    "    return e\n",
    "def entropy_selection(X_test_paths, n_samples, model):\n",
    "    # do inference and compute entropy for each image\n",
    "    entropies = []\n",
    "    print('Inference on unlabelled data...')\n",
    "    for img_path in tqdm(X_test_paths):\n",
    "        pr_mask = model.predict([img_path])\n",
    "        mask_np = pr_mask.squeeze().cpu().numpy()\n",
    "        entropies.append(entropy(mask_np))\n",
    "    # Model is mostly uncertain in images with High entropy\n",
    "    #print('Choosing uncertain images to label...')\n",
    "    selected_images_indexes = np.argsort(entropies)[::-1][:n_samples]\n",
    "    print(f'Min entropy: {np.min(entropies):.2f}, \\\n",
    "            Mean Entropy: {np.mean(entropies):.2f}, \\\n",
    "            Max entropy: {np.max(entropies):.2f}')\n",
    "    return selected_images_indexes\n",
    "\n",
    "def margin(mask_np):\n",
    "    mask_np = normalize(mask_np)\n",
    "    rev_probas = np.sort(mask_np, axis=0)[::-1, ...]\n",
    "    margins_matrix = rev_probas[0,...] - rev_probas[1,...]\n",
    "    mean_margin = np.mean(margins_matrix)\n",
    "    return mean_margin\n",
    "def margin_selection(X_test_paths, n_samples, model):\n",
    "    # do inference and compute entropy for each image\n",
    "    margins = []\n",
    "    print('Inference on unlabelled data...')\n",
    "    for img_path in tqdm(X_test_paths):\n",
    "        pr_mask = model.predict([img_path])\n",
    "        mask_np = pr_mask.squeeze().cpu().numpy()\n",
    "        margins.append(entropy(mask_np))\n",
    "    # Model is mostly uncertain in images with Low margin\n",
    "    #print('Choosing uncertain images to label...')\n",
    "    selected_images_indexes = np.argsort(margins)[:n_samples]\n",
    "    print(f'Min margin: {np.min(margins):.2f}, \\\n",
    "            Mean margin: {np.mean(margins):.2f}, \\\n",
    "            Max margin: {np.max(margins):.2f}')\n",
    "    return selected_images_indexes\n",
    "\n",
    "def random_samples_selection(X, n_samples, model=None):\n",
    "    selected_images_indexes = np.random.choice(len(X), n_samples, replace=False)\n",
    "    return selected_images_indexes\n",
    "\n",
    "def sample_selection_function(name):\n",
    "    if name=='Random': return random_samples_selection\n",
    "    elif name=='Entropy': return entropy_selection\n",
    "    elif name=='Margin': return margin_selection\n",
    "    else: print('Supported sample selection functions: Random, Entropy, Margin')"
   ]
  },
  {
   "cell_type": "markdown",
   "metadata": {},
   "source": [
    "#### Main AL experiment"
   ]
  },
  {
   "cell_type": "code",
   "execution_count": 14,
   "metadata": {},
   "outputs": [],
   "source": [
    "def al_experiment(model_str, samples_selection_fn, k, visualize_most_uncertain=False, verbose_train=False):\n",
    "    # define model from its name\n",
    "    model = model_selection_function(model_str)\n",
    "    model.epochs = MODEL_TRAIN_EPOCHS\n",
    "    # define samples selection function from its name\n",
    "    samples_selection_fn = sample_selection_function(samples_selection_str)\n",
    "    \n",
    "    IoUs = [0.]\n",
    "    N_train_samples = [0]\n",
    "\n",
    "    # select k random samples from initial dataset and treat it as initially labelled data\n",
    "    X = np.copy(X_train_paths)\n",
    "    y = np.copy(y_train_paths)\n",
    "    selection = np.random.choice(len(X), INITIAL_N_TRAIN_IMAGES, replace=False) # k\n",
    "    X_train_paths_part = X[selection]\n",
    "    y_train_paths_part = y[selection]\n",
    "\n",
    "    X_test = np.copy(X_test_paths)\n",
    "    y_test = np.copy(y_test_paths)\n",
    "\n",
    "    # main loop\n",
    "    while len(X_train_paths_part) <= MAX_QUEERY_IMAGES:\n",
    "        # train model\n",
    "        print('Labelled set size: ', len(X_train_paths_part))\n",
    "        print('Unlabelled set size: ', len(X_test))\n",
    "        print(f'\\nTraining a model for {MODEL_TRAIN_EPOCHS} epochs...')\n",
    "        model.train(X_train_paths_part, y_train_paths_part, X_valid_paths, y_valid_paths, verbose=verbose_train)\n",
    "\n",
    "        # remeber results\n",
    "        print(f'IoU so far: {model.max_iou_score}')\n",
    "        IoUs.append(model.max_iou_score)\n",
    "        N_train_samples.append(len(X_train_paths_part))\n",
    "        \n",
    "        if len(X_test) < k:\n",
    "            print('\\nNo more images in Unlabelled set')\n",
    "            break\n",
    "            \n",
    "        selected_images_indexes = samples_selection_fn(X_test, k, model)\n",
    "\n",
    "        # Add labels for uncertain images to train data\n",
    "        #print('Labelled set before: ', len(X_train_paths_part))\n",
    "        X_train_paths_part = np.concatenate([X_train_paths_part, X_test_paths[selected_images_indexes]])\n",
    "        y_train_paths_part = np.concatenate([y_train_paths_part, y_test_paths[selected_images_indexes]])\n",
    "        #print('Labelled set after: ', len(X_train_paths_part))\n",
    "\n",
    "        # Visualization\n",
    "        if visualize_most_uncertain:\n",
    "            print('Visualizing most uncertain results so far:')\n",
    "            for i in selected_images_indexes[:1]:\n",
    "                img_path = X_test[i]\n",
    "                image = cv2.imread(img_path)[...,(2,1,0)]\n",
    "                gt_mask = cv2.imread(y_test_paths[i])\n",
    "                pr_mask = model.predict([img_path])\n",
    "                mask_np = pr_mask.squeeze().cpu().numpy().round()\n",
    "\n",
    "                visualize(image=image, car_mask=mask_np[0,...], road_mask=mask_np[1,...])\n",
    "\n",
    "        # Remove labelled data from validation set\n",
    "        #print('Unlabelled set before: ', len(X_test))\n",
    "        X_test = np.delete(X_test, selected_images_indexes)\n",
    "        y_test = np.delete(y_test, selected_images_indexes)\n",
    "        #print('Unlabelled set after: ', len(X_test))\n",
    "        \n",
    "    print(f'Max IoU score: {np.max(IoUs)}')\n",
    "    print('----------------------------------------\\n')\n",
    "    return IoUs, N_train_samples"
   ]
  },
  {
   "cell_type": "code",
   "execution_count": 15,
   "metadata": {},
   "outputs": [],
   "source": [
    "MAX_QUEERY_IMAGES = 360 # 220 # maximum number of images to train on during AL loop\n",
    "MODEL_TRAIN_EPOCHS = 5 # 5 # number of epochs to train a model during one AL cicle\n",
    "INITIAL_N_TRAIN_IMAGES = 80 # 20, initial number of accessible labelled images\n",
    "NUM_UNCERTAIN_IMAGES = [10]#, 20, 40, 60] # k: number of uncertain images to label at each AL cicle\n",
    "SAMPLES_SELECTIONS = ['Margin', 'Random', 'Entropy']\n",
    "MODELS = ['Unet']#, 'Linknet', 'FPN', 'PSPNet']"
   ]
  },
  {
   "cell_type": "code",
   "execution_count": 16,
   "metadata": {},
   "outputs": [
    {
     "name": "stdout",
     "output_type": "stream",
     "text": [
      "Unet_epochs_5_N0_80_Ks_10_Margin_Random_Entropy_.pkl\n"
     ]
    }
   ],
   "source": [
    "name = ''\n",
    "for model in MODELS:\n",
    "    name += model + '_'\n",
    "#name += 'Nsamples_'+str(MAX_QUEERY_IMAGES)\n",
    "name += 'epochs_'+str(MODEL_TRAIN_EPOCHS)\n",
    "name += '_N0_'+str(INITIAL_N_TRAIN_IMAGES)\n",
    "name += '_Ks_'\n",
    "for k in NUM_UNCERTAIN_IMAGES:\n",
    "    name += str(k) + '_'\n",
    "for fn in SAMPLES_SELECTIONS:\n",
    "    name += fn + '_'\n",
    "RESULTS_FNAME = name+'.pkl'\n",
    "print(RESULTS_FNAME)"
   ]
  },
  {
   "cell_type": "code",
   "execution_count": 8,
   "metadata": {
    "scrolled": false
   },
   "outputs": [
    {
     "name": "stdout",
     "output_type": "stream",
     "text": [
      "\n",
      "Model name: Unet\n",
      "------------------------------------\n",
      "\n",
      "Samples selection function: Margin\n",
      "------------------------------------\n",
      "\n",
      "Number of samples to label on one iteration, k=10\n",
      "------------------------------------\n",
      "Labelled set size:  60\n",
      "Unlabelled set size:  233\n",
      "\n",
      "Training a model for 1 epochs...\n"
     ]
    },
    {
     "name": "stderr",
     "output_type": "stream",
     "text": [
      "  1%|          | 2/233 [00:00<00:13, 17.14it/s]"
     ]
    },
    {
     "name": "stdout",
     "output_type": "stream",
     "text": [
      "IoU so far: 0.008339783786519403\n",
      "Inference on unlabelled data...\n"
     ]
    },
    {
     "name": "stderr",
     "output_type": "stream",
     "text": [
      "100%|██████████| 233/233 [00:13<00:00, 16.66it/s]"
     ]
    },
    {
     "name": "stdout",
     "output_type": "stream",
     "text": [
      "Min margin: 2.82,             Mean margin: 4.16,             Max margin: 5.19\n",
      "Labelled set size:  70\n",
      "Unlabelled set size:  223\n",
      "\n",
      "Training a model for 1 epochs...\n"
     ]
    },
    {
     "name": "stderr",
     "output_type": "stream",
     "text": [
      "\n",
      "  1%|          | 2/223 [00:00<00:13, 16.93it/s]"
     ]
    },
    {
     "name": "stdout",
     "output_type": "stream",
     "text": [
      "IoU so far: 0.09982560409030104\n",
      "Inference on unlabelled data...\n"
     ]
    },
    {
     "name": "stderr",
     "output_type": "stream",
     "text": [
      "100%|██████████| 223/223 [00:13<00:00, 16.43it/s]"
     ]
    },
    {
     "name": "stdout",
     "output_type": "stream",
     "text": [
      "Min margin: 2.47,             Mean margin: 3.68,             Max margin: 5.29\n",
      "Labelled set size:  80\n",
      "Unlabelled set size:  213\n",
      "\n",
      "Training a model for 1 epochs...\n"
     ]
    },
    {
     "name": "stderr",
     "output_type": "stream",
     "text": [
      "\n",
      "  1%|          | 2/213 [00:00<00:12, 16.51it/s]"
     ]
    },
    {
     "name": "stdout",
     "output_type": "stream",
     "text": [
      "IoU so far: 0.2047110791548644\n",
      "Inference on unlabelled data...\n"
     ]
    },
    {
     "name": "stderr",
     "output_type": "stream",
     "text": [
      "100%|██████████| 213/213 [00:12<00:00, 16.89it/s]"
     ]
    },
    {
     "name": "stdout",
     "output_type": "stream",
     "text": [
      "Min margin: 2.54,             Mean margin: 3.69,             Max margin: 4.96\n",
      "Labelled set size:  90\n",
      "Unlabelled set size:  203\n",
      "\n",
      "Training a model for 1 epochs...\n"
     ]
    },
    {
     "name": "stderr",
     "output_type": "stream",
     "text": [
      "\n",
      "  1%|          | 2/203 [00:00<00:11, 17.63it/s]"
     ]
    },
    {
     "name": "stdout",
     "output_type": "stream",
     "text": [
      "IoU so far: 0.2296323358717531\n",
      "Inference on unlabelled data...\n"
     ]
    },
    {
     "name": "stderr",
     "output_type": "stream",
     "text": [
      "100%|██████████| 203/203 [00:11<00:00, 17.20it/s]"
     ]
    },
    {
     "name": "stdout",
     "output_type": "stream",
     "text": [
      "Min margin: 2.73,             Mean margin: 3.34,             Max margin: 4.32\n",
      "Labelled set size:  100\n",
      "Unlabelled set size:  193\n",
      "\n",
      "Training a model for 1 epochs...\n"
     ]
    },
    {
     "name": "stderr",
     "output_type": "stream",
     "text": [
      "\n",
      "  1%|          | 2/193 [00:00<00:11, 16.97it/s]"
     ]
    },
    {
     "name": "stdout",
     "output_type": "stream",
     "text": [
      "IoU so far: 0.250287974382391\n",
      "Inference on unlabelled data...\n"
     ]
    },
    {
     "name": "stderr",
     "output_type": "stream",
     "text": [
      "100%|██████████| 193/193 [00:10<00:00, 17.65it/s]"
     ]
    },
    {
     "name": "stdout",
     "output_type": "stream",
     "text": [
      "Min margin: 2.81,             Mean margin: 3.51,             Max margin: 4.66\n",
      "Labelled set size:  110\n",
      "Unlabelled set size:  183\n",
      "\n",
      "Training a model for 1 epochs...\n"
     ]
    },
    {
     "name": "stderr",
     "output_type": "stream",
     "text": [
      "\n",
      "  1%|          | 2/183 [00:00<00:10, 17.18it/s]"
     ]
    },
    {
     "name": "stdout",
     "output_type": "stream",
     "text": [
      "IoU so far: 0.41769500593147657\n",
      "Inference on unlabelled data...\n"
     ]
    },
    {
     "name": "stderr",
     "output_type": "stream",
     "text": [
      "100%|██████████| 183/183 [00:10<00:00, 17.20it/s]"
     ]
    },
    {
     "name": "stdout",
     "output_type": "stream",
     "text": [
      "Min margin: 2.71,             Mean margin: 3.35,             Max margin: 4.65\n",
      "Labelled set size:  120\n",
      "Unlabelled set size:  173\n",
      "\n",
      "Training a model for 1 epochs...\n"
     ]
    },
    {
     "name": "stderr",
     "output_type": "stream",
     "text": [
      "\n",
      "  1%|          | 2/173 [00:00<00:09, 17.93it/s]"
     ]
    },
    {
     "name": "stdout",
     "output_type": "stream",
     "text": [
      "IoU so far: 0.5107538632237084\n",
      "Inference on unlabelled data...\n"
     ]
    },
    {
     "name": "stderr",
     "output_type": "stream",
     "text": [
      "100%|██████████| 173/173 [00:09<00:00, 17.52it/s]\n"
     ]
    },
    {
     "name": "stdout",
     "output_type": "stream",
     "text": [
      "Min margin: 2.35,             Mean margin: 2.97,             Max margin: 4.02\n",
      "Max IoU score: 0.5107538632237084\n",
      "----------------------------------------\n",
      "\n",
      "\n",
      "Samples selection function: Random\n",
      "------------------------------------\n",
      "\n",
      "Number of samples to label on one iteration, k=10\n",
      "------------------------------------\n",
      "Labelled set size:  60\n",
      "Unlabelled set size:  233\n",
      "\n",
      "Training a model for 1 epochs...\n",
      "IoU so far: 0.009595135716279955\n",
      "Labelled set size:  70\n",
      "Unlabelled set size:  223\n",
      "\n",
      "Training a model for 1 epochs...\n",
      "IoU so far: 0.10901044080458061\n",
      "Labelled set size:  80\n",
      "Unlabelled set size:  213\n",
      "\n",
      "Training a model for 1 epochs...\n",
      "IoU so far: 0.16747095878466522\n",
      "Labelled set size:  90\n",
      "Unlabelled set size:  203\n",
      "\n",
      "Training a model for 1 epochs...\n",
      "IoU so far: 0.22805819416990375\n",
      "Labelled set size:  100\n",
      "Unlabelled set size:  193\n",
      "\n",
      "Training a model for 1 epochs...\n",
      "IoU so far: 0.22364519285683593\n",
      "Labelled set size:  110\n",
      "Unlabelled set size:  183\n",
      "\n",
      "Training a model for 1 epochs...\n",
      "IoU so far: 0.30596758985873496\n",
      "Labelled set size:  120\n",
      "Unlabelled set size:  173\n",
      "\n",
      "Training a model for 1 epochs...\n",
      "IoU so far: 0.49463866016652336\n",
      "Max IoU score: 0.49463866016652336\n",
      "----------------------------------------\n",
      "\n",
      "\n",
      "Samples selection function: Entropy\n",
      "------------------------------------\n",
      "\n",
      "Number of samples to label on one iteration, k=10\n",
      "------------------------------------\n",
      "Labelled set size:  60\n",
      "Unlabelled set size:  233\n",
      "\n",
      "Training a model for 1 epochs...\n"
     ]
    },
    {
     "name": "stderr",
     "output_type": "stream",
     "text": [
      "  1%|          | 2/233 [00:00<00:16, 14.01it/s]"
     ]
    },
    {
     "name": "stdout",
     "output_type": "stream",
     "text": [
      "IoU so far: 0.07881362098130848\n",
      "Inference on unlabelled data...\n"
     ]
    },
    {
     "name": "stderr",
     "output_type": "stream",
     "text": [
      "100%|██████████| 233/233 [00:15<00:00, 14.77it/s]"
     ]
    },
    {
     "name": "stdout",
     "output_type": "stream",
     "text": [
      "Min entropy: 4.80,             Mean Entropy: 5.47,             Max entropy: 5.62\n",
      "Labelled set size:  70\n",
      "Unlabelled set size:  223\n",
      "\n",
      "Training a model for 1 epochs...\n"
     ]
    },
    {
     "name": "stderr",
     "output_type": "stream",
     "text": [
      "\n",
      "  1%|          | 2/223 [00:00<00:13, 16.63it/s]"
     ]
    },
    {
     "name": "stdout",
     "output_type": "stream",
     "text": [
      "IoU so far: 0.23895486082771028\n",
      "Inference on unlabelled data...\n"
     ]
    },
    {
     "name": "stderr",
     "output_type": "stream",
     "text": [
      "100%|██████████| 223/223 [00:14<00:00, 15.82it/s]"
     ]
    },
    {
     "name": "stdout",
     "output_type": "stream",
     "text": [
      "Min entropy: 2.48,             Mean Entropy: 3.55,             Max entropy: 4.79\n",
      "Labelled set size:  80\n",
      "Unlabelled set size:  213\n",
      "\n",
      "Training a model for 1 epochs...\n"
     ]
    },
    {
     "name": "stderr",
     "output_type": "stream",
     "text": [
      "\n",
      "  1%|          | 2/213 [00:00<00:12, 17.04it/s]"
     ]
    },
    {
     "name": "stdout",
     "output_type": "stream",
     "text": [
      "IoU so far: 0.35976445674896246\n",
      "Inference on unlabelled data...\n"
     ]
    },
    {
     "name": "stderr",
     "output_type": "stream",
     "text": [
      "100%|██████████| 213/213 [00:12<00:00, 17.43it/s]"
     ]
    },
    {
     "name": "stdout",
     "output_type": "stream",
     "text": [
      "Min entropy: 1.73,             Mean Entropy: 2.44,             Max entropy: 3.44\n",
      "Labelled set size:  90\n",
      "Unlabelled set size:  203\n",
      "\n",
      "Training a model for 1 epochs...\n"
     ]
    },
    {
     "name": "stderr",
     "output_type": "stream",
     "text": [
      "\n",
      "  1%|          | 2/203 [00:00<00:12, 16.13it/s]"
     ]
    },
    {
     "name": "stdout",
     "output_type": "stream",
     "text": [
      "IoU so far: 0.32345420918842355\n",
      "Inference on unlabelled data...\n"
     ]
    },
    {
     "name": "stderr",
     "output_type": "stream",
     "text": [
      "100%|██████████| 203/203 [00:11<00:00, 17.00it/s]"
     ]
    },
    {
     "name": "stdout",
     "output_type": "stream",
     "text": [
      "Min entropy: 1.83,             Mean Entropy: 2.66,             Max entropy: 3.54\n",
      "Labelled set size:  100\n",
      "Unlabelled set size:  193\n",
      "\n",
      "Training a model for 1 epochs...\n"
     ]
    },
    {
     "name": "stderr",
     "output_type": "stream",
     "text": [
      "\n",
      "  1%|          | 2/193 [00:00<00:11, 16.80it/s]"
     ]
    },
    {
     "name": "stdout",
     "output_type": "stream",
     "text": [
      "IoU so far: 0.4028953706273937\n",
      "Inference on unlabelled data...\n"
     ]
    },
    {
     "name": "stderr",
     "output_type": "stream",
     "text": [
      "100%|██████████| 193/193 [00:11<00:00, 17.31it/s]"
     ]
    },
    {
     "name": "stdout",
     "output_type": "stream",
     "text": [
      "Min entropy: 1.93,             Mean Entropy: 2.40,             Max entropy: 2.78\n",
      "Labelled set size:  110\n",
      "Unlabelled set size:  183\n",
      "\n",
      "Training a model for 1 epochs...\n"
     ]
    },
    {
     "name": "stderr",
     "output_type": "stream",
     "text": [
      "\n",
      "  1%|          | 2/183 [00:00<00:10, 16.93it/s]"
     ]
    },
    {
     "name": "stdout",
     "output_type": "stream",
     "text": [
      "IoU so far: 0.4047617047730061\n",
      "Inference on unlabelled data...\n"
     ]
    },
    {
     "name": "stderr",
     "output_type": "stream",
     "text": [
      "100%|██████████| 183/183 [00:10<00:00, 17.02it/s]"
     ]
    },
    {
     "name": "stdout",
     "output_type": "stream",
     "text": [
      "Min entropy: 1.62,             Mean Entropy: 2.37,             Max entropy: 2.81\n",
      "Labelled set size:  120\n",
      "Unlabelled set size:  173\n",
      "\n",
      "Training a model for 1 epochs...\n"
     ]
    },
    {
     "name": "stderr",
     "output_type": "stream",
     "text": [
      "\n",
      "  1%|          | 2/173 [00:00<00:10, 16.71it/s]"
     ]
    },
    {
     "name": "stdout",
     "output_type": "stream",
     "text": [
      "IoU so far: 0.4273579250467885\n",
      "Inference on unlabelled data...\n"
     ]
    },
    {
     "name": "stderr",
     "output_type": "stream",
     "text": [
      "100%|██████████| 173/173 [00:10<00:00, 17.28it/s]"
     ]
    },
    {
     "name": "stdout",
     "output_type": "stream",
     "text": [
      "Min entropy: 1.99,             Mean Entropy: 2.44,             Max entropy: 2.84\n",
      "Max IoU score: 0.4273579250467885\n",
      "----------------------------------------\n",
      "\n",
      "saved Unet_epochs_1_N0_60_Ks_10_Margin_Random_Entropy_.pkl /home/ruslan/Desktop/DoEdu/src/active_learning/src ['data', 'Unet_epochs_2_N0_80_Ks_10_20_Margin_Random_Entropy_.pkl', 'test.pkl', 'Unet_epochs_5_N0_80_Ks_10_Margin_Random_Entropy_.pkl', 'Unet_epochs_1_N0_60_Ks_10_Margin_Random_Entropy_.pkl', 'augmentations.py', 'utils.py', 'unet_best_model.pth', 'many_models_entropy_results.pkl', '__pycache__', 'best_model.pth', 'active_learning_semantic_segmentation.ipynb', 'Active_Learning_Tutorial.ipynb', 'Perception_4_ActiveLearning_7_OnlineLearning.png', '.ipynb_checkpoints', '.gitignore', 'train_semantic_segmentation.ipynb']\n"
     ]
    },
    {
     "name": "stderr",
     "output_type": "stream",
     "text": [
      "\n"
     ]
    }
   ],
   "source": [
    "results = {}\n",
    "\n",
    "# choose model\n",
    "for model_str in MODELS:\n",
    "    print(f'\\nModel name: {model_str}')\n",
    "    print('------------------------------------')\n",
    "    results[model_str] = {}\n",
    "    \n",
    "    # choose samples selection function\n",
    "    for samples_selection_str in SAMPLES_SELECTIONS:\n",
    "        print(f'\\nSamples selection function: {samples_selection_str}')\n",
    "        print('------------------------------------')\n",
    "        results[model_str][samples_selection_str] = {}\n",
    "        \n",
    "        # choose number of samples to select for labelling from inference results\n",
    "        for k in NUM_UNCERTAIN_IMAGES:\n",
    "            print(f'\\nNumber of samples to label on one iteration, k={k}')\n",
    "            print('------------------------------------')\n",
    "            results[model_str][samples_selection_str][str(k)] = {}\n",
    "            \n",
    "            IoUs, N_train_samples = al_experiment(model_str, samples_selection_str, k, verbose_train=False)\n",
    "            \n",
    "            results[model_str][samples_selection_str][str(k)]['IoUs'] = IoUs\n",
    "            results[model_str][samples_selection_str][str(k)]['N_train_samples'] = N_train_samples\n",
    "            \n",
    "pickle_save(RESULTS_FNAME, results)"
   ]
  },
  {
   "cell_type": "markdown",
   "metadata": {},
   "source": [
    "## Results"
   ]
  },
  {
   "cell_type": "code",
   "execution_count": 17,
   "metadata": {},
   "outputs": [
    {
     "data": {
      "image/png": "[encoded data removed]",
      "text/plain": [
       "<Figure size 576x576 with 1 Axes>"
      ]
     },
     "metadata": {
      "needs_background": "light"
     },
     "output_type": "display_data"
    }
   ],
   "source": [
    "results = pickle_load(RESULTS_FNAME)\n",
    "\n",
    "plt.figure(figsize=(8,8))\n",
    "\n",
    "# choose model\n",
    "for model_str in MODELS:    \n",
    "    # choose samples selection function\n",
    "    for samples_selection_str in SAMPLES_SELECTIONS:        \n",
    "        # choose number of samples to select for labelling from inference results\n",
    "        for k in NUM_UNCERTAIN_IMAGES:\n",
    "\n",
    "            ious = results[model_str][samples_selection_str][str(k)]['IoUs']\n",
    "            n_train = results[model_str][samples_selection_str][str(k)]['N_train_samples']\n",
    "\n",
    "            plt.plot(np.array(n_train[1:][:10])/len(X_train_paths), ious[1:][:10], label=model_str+'_'+samples_selection_str+'_k='+str(k))\n",
    "        \n",
    "plt.grid()\n",
    "plt.title('Active Learning Results', fontsize=18)\n",
    "plt.xlabel('N images / full train set size', fontsize=16)\n",
    "plt.ylabel('IoU', fontsize=16)\n",
    "plt.legend();"
   ]
  }
 ],
 "metadata": {
  "kernelspec": {
   "display_name": "Python 3",
   "language": "python",
   "name": "python3"
  },
  "language_info": {
   "codemirror_mode": {
    "name": "ipython",
    "version": 3
   },
   "file_extension": ".py",
   "mimetype": "text/x-python",
   "name": "python",
   "nbconvert_exporter": "python",
   "pygments_lexer": "ipython3",
   "version": "3.6.10"
  }
 },
 "nbformat": 4,
 "nbformat_minor": 4
}
