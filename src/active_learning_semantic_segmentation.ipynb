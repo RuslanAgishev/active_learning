{
 "cells": [
  {
   "cell_type": "markdown",
   "metadata": {},
   "source": [
    "## Active learning"
   ]
  },
  {
   "cell_type": "markdown",
   "metadata": {},
   "source": [
    "<img src=\"./Perception_4_ActiveLearning_7_OnlineLearning.png\" alt=\"Drawing\" style=\"width: 800px;\"/>"
   ]
  },
  {
   "cell_type": "code",
   "execution_count": 1,
   "metadata": {},
   "outputs": [],
   "source": [
    "import os\n",
    "os.environ['CUDA_VISIBLE_DEVICES'] = '0'\n",
    "\n",
    "import numpy as np\n",
    "import cv2\n",
    "import matplotlib.pyplot as plt\n",
    "from utils import visualize, pickle_load, pickle_save\n",
    "import torch\n",
    "import numpy as np\n",
    "from tqdm import tqdm\n",
    "import segmentation_models_pytorch as smp\n",
    "# segmentation models wrapper\n",
    "from segmodel import SegModel, model_selection_function\n",
    "# anomaly detection functions\n",
    "from anomaly_detection import sample_selection_function\n",
    "# datasets wrapper\n",
    "from dataset import CamVid, BDD100K"
   ]
  },
  {
   "cell_type": "markdown",
   "metadata": {},
   "source": [
    "### Load data"
   ]
  },
  {
   "cell_type": "code",
   "execution_count": 2,
   "metadata": {},
   "outputs": [],
   "source": [
    "# # CamVid directories\n",
    "# DATA_DIR = './data/CamVid/'\n",
    "\n",
    "# x_train_dir = os.path.join(DATA_DIR, 'train')\n",
    "# y_train_dir = os.path.join(DATA_DIR, 'trainannot')\n",
    "\n",
    "# x_valid_dir = os.path.join(DATA_DIR, 'val')\n",
    "# y_valid_dir = os.path.join(DATA_DIR, 'valannot')\n",
    "\n",
    "# x_test_dir = os.path.join(DATA_DIR, 'test')\n",
    "# y_test_dir = os.path.join(DATA_DIR, 'testannot')\n",
    "\n",
    "# BDD100K directories\n",
    "DATA_DIR = '/home/ruslan/datasets/bdd100k/seg/'\n",
    "x_train_dir = os.path.join(DATA_DIR, 'images/train')\n",
    "y_train_dir = os.path.join(DATA_DIR, 'labels/train')\n",
    "\n",
    "x_valid_dir = os.path.join(DATA_DIR, 'images/val')\n",
    "y_valid_dir = os.path.join(DATA_DIR, 'labels/val')\n",
    "\n",
    "x_test_dir = os.path.join(DATA_DIR, 'images/test')"
   ]
  },
  {
   "cell_type": "code",
   "execution_count": 3,
   "metadata": {},
   "outputs": [],
   "source": [
    "# all data paths\n",
    "X_train_paths = np.array([os.path.join(x_train_dir, image_name) for image_name in os.listdir(x_train_dir)])\n",
    "y_train_paths = np.array([os.path.join(y_train_dir, image_name) for image_name in os.listdir(y_train_dir)])\n",
    "\n",
    "X_valid_paths = np.array([os.path.join(x_valid_dir, image_name) for image_name in os.listdir(x_valid_dir)])\n",
    "y_valid_paths = np.array([os.path.join(y_valid_dir, image_name) for image_name in os.listdir(y_valid_dir)])\n",
    "\n",
    "X_test_paths = np.array([os.path.join(x_test_dir, image_name) for image_name in os.listdir(x_test_dir)])\n",
    "#y_test_paths = np.array([os.path.join(y_test_dir, image_name) for image_name in os.listdir(y_test_dir)])"
   ]
  },
  {
   "cell_type": "markdown",
   "metadata": {},
   "source": [
    "### Active Learning experiment\n",
    "\n",
    "- X_train, y_train: is used partially to train a model\n",
    "- X_valid, y_valid: is used fully for validation\n",
    "- X_test, y_test: is used as an unlabelled set to detect anomalies and add labels to train set"
   ]
  },
  {
   "cell_type": "markdown",
   "metadata": {},
   "source": [
    "#### Main AL experiment"
   ]
  },
  {
   "cell_type": "code",
   "execution_count": 4,
   "metadata": {},
   "outputs": [],
   "source": [
    "def al_experiment(model_str,\n",
    "                  samples_selection_fn,\n",
    "                  k,\n",
    "                  visualize_most_uncertain=False,\n",
    "                  verbose_train=False,\n",
    "                  random_seed=0):\n",
    "    # define model from its name\n",
    "    model = model_selection_function(model_str)\n",
    "    model.epochs = MODEL_TRAIN_EPOCHS\n",
    "    # define samples selection function from its name\n",
    "    samples_selection_fn = sample_selection_function(samples_selection_str)\n",
    "    \n",
    "    # select k random samples from initial dataset and treat it as initially labelled data\n",
    "    X = np.copy(X_train_paths)\n",
    "    y = np.copy(y_train_paths)\n",
    "    np.random.seed(random_seed)\n",
    "    initial_selection = np.random.choice(len(X), INITIAL_N_TRAIN_IMAGES, replace=False) # k\n",
    "    X_train_paths_part = X[initial_selection]\n",
    "    y_train_paths_part = y[initial_selection]\n",
    "\n",
    "    X_test = np.delete(X, initial_selection)\n",
    "    y_test = np.delete(X, initial_selection)\n",
    "\n",
    "    IoUs = [0.]\n",
    "    N_train_samples = [len(X_train_paths_part)]\n",
    "\n",
    "    # main loop\n",
    "    while len(X_train_paths_part) <= MAX_QUEERY_IMAGES:\n",
    "        # train model\n",
    "        print('Labelled set size: ', len(X_train_paths_part))\n",
    "        print('Unlabelled set size: ', len(X_test))\n",
    "        print(f'\\nTraining a model for {MODEL_TRAIN_EPOCHS} epochs...')\n",
    "        model.train(X_train_paths_part,\n",
    "                    y_train_paths_part,\n",
    "                    X_valid_paths,\n",
    "                    y_valid_paths,\n",
    "                    Dataset=BDD100K,\n",
    "                    verbose=verbose_train)\n",
    "\n",
    "        # remeber results\n",
    "        print(f'IoU so far: {model.max_iou_score}')\n",
    "        IoUs.append(model.max_iou_score)\n",
    "        N_train_samples.append(len(X_train_paths_part))\n",
    "        \n",
    "        if len(X_test) < k:\n",
    "            print('\\nNo more images in Unlabelled set')\n",
    "            break\n",
    "            \n",
    "        selected_images_indexes = samples_selection_fn(X_test, k, model)\n",
    "\n",
    "        # Add labels for uncertain images to train data\n",
    "        #print('Labelled set before: ', len(X_train_paths_part))\n",
    "        X_train_paths_part = np.concatenate([X_train_paths_part, X_test[selected_images_indexes]])\n",
    "        y_train_paths_part = np.concatenate([y_train_paths_part, y_test[selected_images_indexes]])\n",
    "        #print('Labelled set after: ', len(X_train_paths_part))\n",
    "\n",
    "        # Visualization\n",
    "        if visualize_most_uncertain:\n",
    "            print('Visualizing most uncertain results so far:')\n",
    "            for i in selected_images_indexes[:1]:\n",
    "                img_path = X_test[i]\n",
    "                image = cv2.imread(img_path)[...,(2,1,0)]\n",
    "                gt_mask = cv2.imread(y_test_paths[i])\n",
    "                pr_mask = model.predict([img_path])\n",
    "                mask_np = pr_mask.squeeze().cpu().numpy().round()\n",
    "\n",
    "                visualize(image=image, car_mask=mask_np[0,...], road_mask=mask_np[1,...])\n",
    "\n",
    "        # Remove labelled data from validation set\n",
    "        #print('Unlabelled set before: ', len(X_test))\n",
    "        X_test = np.delete(X_test, selected_images_indexes)\n",
    "        y_test = np.delete(y_test, selected_images_indexes)\n",
    "        #print('Unlabelled set after: ', len(X_test))\n",
    "        \n",
    "    print(f'Max IoU score: {np.max(IoUs)}')\n",
    "    print('----------------------------------------\\n')\n",
    "    return IoUs, N_train_samples"
   ]
  },
  {
   "cell_type": "code",
   "execution_count": 5,
   "metadata": {},
   "outputs": [],
   "source": [
    "MAX_QUEERY_IMAGES = 500 # 220 # maximum number of images to train on during AL loop\n",
    "MODEL_TRAIN_EPOCHS = 1 # 5 # number of epochs to train a model during one AL cicle\n",
    "INITIAL_N_TRAIN_IMAGES = 500 # 20, initial number of accessible labelled images\n",
    "NUM_UNCERTAIN_IMAGES = [500]#, 20]#, 40, 60] # k: number of uncertain images to label at each AL cicle\n",
    "SAMPLES_SELECTIONS = ['Random']#, 'Margin',  'Entropy']\n",
    "MODELS = ['Unet']#, 'Linknet', 'FPN', 'PSPNet']"
   ]
  },
  {
   "cell_type": "code",
   "execution_count": 6,
   "metadata": {},
   "outputs": [
    {
     "name": "stdout",
     "output_type": "stream",
     "text": [
      "Unet_Nsamples_500_epochs_1_N0_500_Ks_500_Random_.pkl\n"
     ]
    }
   ],
   "source": [
    "name = ''\n",
    "for model in MODELS:\n",
    "    name += model + '_'\n",
    "name += 'Nsamples_'+str(MAX_QUEERY_IMAGES)\n",
    "name += '_epochs_'+str(MODEL_TRAIN_EPOCHS)\n",
    "name += '_N0_'+str(INITIAL_N_TRAIN_IMAGES)\n",
    "name += '_Ks_'\n",
    "for k in NUM_UNCERTAIN_IMAGES:\n",
    "    name += str(k) + '_'\n",
    "for fn in SAMPLES_SELECTIONS:\n",
    "    name += fn + '_'\n",
    "RESULTS_FNAME = name+'.pkl'\n",
    "print(RESULTS_FNAME)"
   ]
  },
  {
   "cell_type": "code",
   "execution_count": 7,
   "metadata": {
    "scrolled": false
   },
   "outputs": [
    {
     "name": "stdout",
     "output_type": "stream",
     "text": [
      "\n",
      "Model name: Unet\n",
      "------------------------------------\n",
      "\n",
      "Samples selection function: Random\n",
      "------------------------------------\n",
      "\n",
      "Number of samples to label on one iteration, k=500\n",
      "------------------------------------\n",
      "Labelled set size:  500\n",
      "Unlabelled set size:  6500\n",
      "\n",
      "Training a model for 1 epochs...\n",
      "\n",
      "Epoch: 0\n",
      "train: 100%|██████████| 63/63 [01:41<00:00,  1.62s/it, dice_loss - 0.9281, iou_score - 0.005872] \n",
      "valid: 100%|██████████| 1000/1000 [02:31<00:00,  6.62it/s, dice_loss - 0.8184, iou_score - 0.06828]\n",
      "Model saved!\n",
      "IoU so far: 0.06827818901475231\n",
      "Max IoU score: 0.06827818901475231\n",
      "----------------------------------------\n",
      "\n",
      "saved ./results/Unet_Nsamples_500_epochs_1_N0_500_Ks_500_Random_.pkl /home/ruslan/Desktop/DoEdu/src/active_learning/src ['anomaly_detection.py', 'weights', 'augmentations.py', 'segmodel.py', 'utils.py', 'configs', 'results', '__pycache__', 'best_model.pth', 'active_learning_semantic_segmentation.ipynb', 'Active_Learning_Tutorial.ipynb', 'Perception_4_ActiveLearning_7_OnlineLearning.png', 'dataset.py', '.ipynb_checkpoints', '.gitignore', 'train_semantic_segmentation.ipynb']\n"
     ]
    }
   ],
   "source": [
    "results = {}\n",
    "\n",
    "# choose model\n",
    "for model_str in MODELS:\n",
    "    print(f'\\nModel name: {model_str}')\n",
    "    print('------------------------------------')\n",
    "    results[model_str] = {}\n",
    "    \n",
    "    # choose samples selection function\n",
    "    for samples_selection_str in SAMPLES_SELECTIONS:\n",
    "        print(f'\\nSamples selection function: {samples_selection_str}')\n",
    "        print('------------------------------------')\n",
    "        results[model_str][samples_selection_str] = {}\n",
    "        \n",
    "        # choose number of samples to select for labelling from inference results\n",
    "        for k in NUM_UNCERTAIN_IMAGES:\n",
    "            print(f'\\nNumber of samples to label on one iteration, k={k}')\n",
    "            print('------------------------------------')\n",
    "            results[model_str][samples_selection_str][str(k)] = {}\n",
    "            \n",
    "            IoUs, N_train_samples = al_experiment(model_str, samples_selection_str, k, verbose_train=True)\n",
    "            \n",
    "            results[model_str][samples_selection_str][str(k)]['IoUs'] = IoUs\n",
    "            results[model_str][samples_selection_str][str(k)]['N_train_samples'] = N_train_samples\n",
    "            \n",
    "pickle_save('./results/'+RESULTS_FNAME, results)"
   ]
  },
  {
   "cell_type": "markdown",
   "metadata": {},
   "source": [
    "## Results"
   ]
  },
  {
   "cell_type": "code",
   "execution_count": 8,
   "metadata": {},
   "outputs": [
    {
     "data": {
      "image/png": "[encoded data removed]",
      "text/plain": [
       "<Figure size 576x576 with 1 Axes>"
      ]
     },
     "metadata": {
      "needs_background": "light"
     },
     "output_type": "display_data"
    }
   ],
   "source": [
    "results = pickle_load('./results/'+RESULTS_FNAME)\n",
    "\n",
    "plt.figure(figsize=(8,8))\n",
    "\n",
    "# choose model\n",
    "for model_str in MODELS:    \n",
    "    # choose samples selection function\n",
    "    for samples_selection_str in SAMPLES_SELECTIONS:        \n",
    "        # choose number of samples to select for labelling from inference results\n",
    "        for k in NUM_UNCERTAIN_IMAGES:\n",
    "\n",
    "            ious = results[model_str][samples_selection_str][str(k)]['IoUs']\n",
    "            n_train = results[model_str][samples_selection_str][str(k)]['N_train_samples']\n",
    "\n",
    "            plt.plot(np.array(n_train[1:]), ious[1:], label=model_str+'_'+samples_selection_str+'_k='+str(k))\n",
    "        \n",
    "plt.grid()\n",
    "plt.title('Active Learning Results', fontsize=18)\n",
    "plt.xlabel('N images / full train set size', fontsize=16)\n",
    "plt.ylabel('IoU', fontsize=16)\n",
    "plt.legend();"
   ]
  }
 ],
 "metadata": {
  "kernelspec": {
   "display_name": "Python 3",
   "language": "python",
   "name": "python3"
  },
  "language_info": {
   "codemirror_mode": {
    "name": "ipython",
    "version": 3
   },
   "file_extension": ".py",
   "mimetype": "text/x-python",
   "name": "python",
   "nbconvert_exporter": "python",
   "pygments_lexer": "ipython3",
   "version": "3.6.10"
  }
 },
 "nbformat": 4,
 "nbformat_minor": 4
}
