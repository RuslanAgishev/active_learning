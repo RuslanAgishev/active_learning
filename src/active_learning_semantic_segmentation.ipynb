{
 "cells": [
  {
   "cell_type": "markdown",
   "metadata": {},
   "source": [
    "## Active learning"
   ]
  },
  {
   "cell_type": "markdown",
   "metadata": {},
   "source": [
    "<img src=\"./Perception_4_ActiveLearning_7_OnlineLearning.png\" alt=\"Drawing\" style=\"width: 800px;\"/>"
   ]
  },
  {
   "cell_type": "code",
   "execution_count": 1,
   "metadata": {},
   "outputs": [],
   "source": [
    "import os\n",
    "os.environ['CUDA_VISIBLE_DEVICES'] = '0'\n",
    "import numpy as np\n",
    "import cv2\n",
    "import matplotlib.pyplot as plt\n",
    "from utils import visualize\n",
    "from utils import pickle_load\n",
    "from utils import pickle_save\n",
    "import torch\n",
    "from torch.utils.tensorboard import SummaryWriter\n",
    "import numpy as np\n",
    "from tqdm import tqdm\n",
    "import segmentation_models_pytorch as smp\n",
    "# segmentation models wrapper\n",
    "from segmodel import SegModel\n",
    "from segmodel import model_selection_function\n",
    "# anomaly detection functions\n",
    "from anomaly_detection import sample_selection_function"
   ]
  },
  {
   "cell_type": "markdown",
   "metadata": {},
   "source": [
    "### Load data"
   ]
  },
  {
   "cell_type": "code",
   "execution_count": 2,
   "metadata": {},
   "outputs": [],
   "source": [
    "DATA_DIR = './data/CamVid/'\n",
    "\n",
    "x_train_dir = os.path.join(DATA_DIR, 'train')\n",
    "y_train_dir = os.path.join(DATA_DIR, 'trainannot')\n",
    "\n",
    "x_valid_dir = os.path.join(DATA_DIR, 'val')\n",
    "y_valid_dir = os.path.join(DATA_DIR, 'valannot')\n",
    "\n",
    "x_test_dir = os.path.join(DATA_DIR, 'test')\n",
    "y_test_dir = os.path.join(DATA_DIR, 'testannot')\n",
    "\n",
    "# all data paths\n",
    "X_train_paths = np.array([os.path.join(x_train_dir, image_name) for image_name in os.listdir(x_train_dir)])\n",
    "y_train_paths = np.array([os.path.join(y_train_dir, image_name) for image_name in os.listdir(y_train_dir)])\n",
    "\n",
    "X_valid_paths = np.array([os.path.join(x_valid_dir, image_name) for image_name in os.listdir(x_valid_dir)])\n",
    "y_valid_paths = np.array([os.path.join(y_valid_dir, image_name) for image_name in os.listdir(y_valid_dir)])\n",
    "\n",
    "X_test_paths = np.array([os.path.join(x_test_dir, image_name) for image_name in os.listdir(x_test_dir)])\n",
    "y_test_paths = np.array([os.path.join(y_test_dir, image_name) for image_name in os.listdir(y_test_dir)])"
   ]
  },
  {
   "cell_type": "markdown",
   "metadata": {},
   "source": [
    "### Active Learning experiment\n",
    "\n",
    "- X_train, y_train: is used partially to train a model\n",
    "- X_valid, y_valid: is used fully for validation\n",
    "- X_test, y_test: is used as an unlabelled set to detect anomalies and add labels to train set"
   ]
  },
  {
   "cell_type": "markdown",
   "metadata": {},
   "source": [
    "#### Main AL experiment"
   ]
  },
  {
   "cell_type": "code",
   "execution_count": 3,
   "metadata": {},
   "outputs": [],
   "source": [
    "def al_experiment(model_str, samples_selection_fn, k, experiment_name, visualize_most_uncertain=False, verbose_train=False):\n",
    "    \n",
    "    tb = SummaryWriter(log_dir=f'al_runs/{experiment_name}')\n",
    "    \n",
    "    # define model from its name\n",
    "    model = model_selection_function(model_str)\n",
    "    model.epochs = MODEL_TRAIN_EPOCHS\n",
    "    # define samples selection function from its name\n",
    "    samples_selection_fn = sample_selection_function(samples_selection_str)\n",
    "\n",
    "    # select k random samples from initial dataset and treat it as initially labelled data\n",
    "    X = np.copy(X_train_paths)\n",
    "    y = np.copy(y_train_paths)\n",
    "    selection = np.random.choice(len(X), INITIAL_N_TRAIN_IMAGES, replace=False) # k\n",
    "    X_train_paths_part = X[selection]\n",
    "    y_train_paths_part = y[selection]\n",
    "\n",
    "    X_test = np.copy(X_test_paths)\n",
    "    y_test = np.copy(y_test_paths)\n",
    "\n",
    "    IoUs = [0.]\n",
    "    N_train_samples = [0]\n",
    "    \n",
    "    # main loop\n",
    "    while len(X_train_paths_part) <= MAX_QUEERY_IMAGES:\n",
    "        # train model\n",
    "        print('Labelled set size: ', len(X_train_paths_part))\n",
    "        print('Unlabelled set size: ', len(X_test))\n",
    "        print(f'\\nTraining a model for {MODEL_TRAIN_EPOCHS} epochs...')\n",
    "        model.train(X_train_paths_part, y_train_paths_part, X_valid_paths, y_valid_paths, verbose=verbose_train)\n",
    "\n",
    "        # remeber results\n",
    "        print(f'IoU so far: {model.max_iou_score}')\n",
    "        IoUs.append(model.max_iou_score)\n",
    "        N_train_samples.append(len(X_train_paths_part))\n",
    "        \n",
    "        tb.add_scalar('IoU vs N_train', model.max_iou_score, len(X_train_paths_part))\n",
    "        \n",
    "        if len(X_test) < k:\n",
    "            print('\\nNo more images in Unlabelled set')\n",
    "            break\n",
    "            \n",
    "        selected_images_indexes = samples_selection_fn(X_test, k, model)\n",
    "\n",
    "        # Add labels for uncertain images to train data\n",
    "        #print('Labelled set before: ', len(X_train_paths_part))\n",
    "        X_train_paths_part = np.concatenate([X_train_paths_part, X_test_paths[selected_images_indexes]])\n",
    "        y_train_paths_part = np.concatenate([y_train_paths_part, y_test_paths[selected_images_indexes]])\n",
    "        #print('Labelled set after: ', len(X_train_paths_part))\n",
    "\n",
    "        # Visualization\n",
    "        if visualize_most_uncertain:\n",
    "            print('Visualizing most uncertain results so far:')\n",
    "            for i in selected_images_indexes[:1]:\n",
    "                img_path = X_test[i]\n",
    "                image = cv2.imread(img_path)[...,(2,1,0)]\n",
    "                gt_mask = cv2.imread(y_test_paths[i])\n",
    "                pr_mask = model.predict([img_path])\n",
    "                mask_np = pr_mask.squeeze().cpu().numpy().round()\n",
    "\n",
    "                visualize(image=image, car_mask=mask_np[0,...], road_mask=mask_np[1,...])\n",
    "\n",
    "        # Remove labelled data from validation set\n",
    "        #print('Unlabelled set before: ', len(X_test))\n",
    "        X_test = np.delete(X_test, selected_images_indexes)\n",
    "        y_test = np.delete(y_test, selected_images_indexes)\n",
    "        #print('Unlabelled set after: ', len(X_test))\n",
    "        \n",
    "    print(f'Max IoU score: {np.max(IoUs)}')\n",
    "    print('----------------------------------------\\n')\n",
    "    return IoUs, N_train_samples"
   ]
  },
  {
   "cell_type": "code",
   "execution_count": 4,
   "metadata": {},
   "outputs": [],
   "source": [
    "MAX_QUEERY_IMAGES = 220 # 220 # maximum number of images to train on during AL loop\n",
    "MODEL_TRAIN_EPOCHS = 1 # 5 # number of epochs to train a model during one AL cicle\n",
    "INITIAL_N_TRAIN_IMAGES = 20 # 20, initial number of accessible labelled images\n",
    "NUM_UNCERTAIN_IMAGES = [10, 20, 40, 60] # k: number of uncertain images to label at each AL cicle\n",
    "SAMPLES_SELECTIONS = ['Random', 'Margin', 'Entropy']\n",
    "MODELS = ['Unet', 'Linknet']#, 'FPN', 'PSPNet']"
   ]
  },
  {
   "cell_type": "code",
   "execution_count": 5,
   "metadata": {},
   "outputs": [
    {
     "name": "stdout",
     "output_type": "stream",
     "text": [
      "Unet_Linknet_Nsamples_220_epochs_1_N0_20_Ks_10_20_40_60_Random_Margin_Entropy_.pkl\n"
     ]
    }
   ],
   "source": [
    "name = ''\n",
    "for model in MODELS:\n",
    "    name += model + '_'\n",
    "name += 'Nsamples_'+str(MAX_QUEERY_IMAGES)\n",
    "name += '_epochs_'+str(MODEL_TRAIN_EPOCHS)\n",
    "name += '_N0_'+str(INITIAL_N_TRAIN_IMAGES)\n",
    "name += '_Ks_'\n",
    "for k in NUM_UNCERTAIN_IMAGES:\n",
    "    name += str(k) + '_'\n",
    "for fn in SAMPLES_SELECTIONS:\n",
    "    name += fn + '_'\n",
    "RESULTS_FNAME = name+'.pkl'\n",
    "print(RESULTS_FNAME)"
   ]
  },
  {
   "cell_type": "code",
   "execution_count": 6,
   "metadata": {
    "scrolled": false
   },
   "outputs": [
    {
     "name": "stdout",
     "output_type": "stream",
     "text": [
      "\n",
      "Model name: Unet\n",
      "------------------------------------\n",
      "\n",
      "Samples selection function: Random\n",
      "------------------------------------\n",
      "\n",
      "Number of samples to label on one iteration, k=10\n",
      "------------------------------------\n",
      "Labelled set size:  20\n",
      "Unlabelled set size:  233\n",
      "\n",
      "Training a model for 1 epochs...\n",
      "IoU so far: 3.382655131804258e-06\n",
      "Labelled set size:  30\n",
      "Unlabelled set size:  223\n",
      "\n",
      "Training a model for 1 epochs...\n",
      "IoU so far: 0.003944182859366297\n",
      "Labelled set size:  40\n",
      "Unlabelled set size:  213\n",
      "\n",
      "Training a model for 1 epochs...\n",
      "IoU so far: 0.1117507955889301\n",
      "Labelled set size:  50\n",
      "Unlabelled set size:  203\n",
      "\n",
      "Training a model for 1 epochs...\n",
      "IoU so far: 0.22953363308812133\n",
      "Labelled set size:  60\n",
      "Unlabelled set size:  193\n",
      "\n",
      "Training a model for 1 epochs...\n",
      "IoU so far: 0.3740680937719818\n",
      "Labelled set size:  70\n",
      "Unlabelled set size:  183\n",
      "\n",
      "Training a model for 1 epochs...\n",
      "IoU so far: 0.3871026478781557\n",
      "Labelled set size:  80\n",
      "Unlabelled set size:  173\n",
      "\n",
      "Training a model for 1 epochs...\n",
      "IoU so far: 0.479237935920753\n",
      "Labelled set size:  90\n",
      "Unlabelled set size:  163\n",
      "\n",
      "Training a model for 1 epochs...\n",
      "IoU so far: 0.5181062602170622\n",
      "Labelled set size:  100\n",
      "Unlabelled set size:  153\n",
      "\n",
      "Training a model for 1 epochs...\n",
      "IoU so far: 0.5295699427623561\n",
      "Labelled set size:  110\n",
      "Unlabelled set size:  143\n",
      "\n",
      "Training a model for 1 epochs...\n",
      "IoU so far: 0.5402541588438616\n",
      "Labelled set size:  120\n",
      "Unlabelled set size:  133\n",
      "\n",
      "Training a model for 1 epochs...\n",
      "IoU so far: 0.5592178171223935\n",
      "Labelled set size:  130\n",
      "Unlabelled set size:  123\n",
      "\n",
      "Training a model for 1 epochs...\n",
      "IoU so far: 0.5770717711731942\n",
      "Labelled set size:  140\n",
      "Unlabelled set size:  113\n",
      "\n",
      "Training a model for 1 epochs...\n",
      "IoU so far: 0.5707575693579\n",
      "Labelled set size:  150\n",
      "Unlabelled set size:  103\n",
      "\n",
      "Training a model for 1 epochs...\n",
      "IoU so far: 0.6007864481151692\n",
      "Labelled set size:  160\n",
      "Unlabelled set size:  93\n",
      "\n",
      "Training a model for 1 epochs...\n",
      "IoU so far: 0.6866001557595658\n",
      "Labelled set size:  170\n",
      "Unlabelled set size:  83\n",
      "\n",
      "Training a model for 1 epochs...\n",
      "IoU so far: 0.7523596280872232\n",
      "Labelled set size:  180\n",
      "Unlabelled set size:  73\n",
      "\n",
      "Training a model for 1 epochs...\n",
      "IoU so far: 0.7365110917846757\n",
      "Labelled set size:  190\n",
      "Unlabelled set size:  63\n",
      "\n",
      "Training a model for 1 epochs...\n",
      "IoU so far: 0.7546009403644225\n",
      "Labelled set size:  200\n",
      "Unlabelled set size:  53\n",
      "\n",
      "Training a model for 1 epochs...\n",
      "IoU so far: 0.7740606724625769\n",
      "Labelled set size:  210\n",
      "Unlabelled set size:  43\n",
      "\n",
      "Training a model for 1 epochs...\n",
      "IoU so far: 0.782576569236151\n",
      "Labelled set size:  220\n",
      "Unlabelled set size:  33\n",
      "\n",
      "Training a model for 1 epochs...\n",
      "IoU so far: 0.7767114373716976\n",
      "Max IoU score: 0.782576569236151\n",
      "----------------------------------------\n",
      "\n",
      "\n",
      "Number of samples to label on one iteration, k=20\n",
      "------------------------------------\n",
      "Labelled set size:  20\n",
      "Unlabelled set size:  233\n",
      "\n",
      "Training a model for 1 epochs...\n",
      "IoU so far: 0.0032773365791318523\n",
      "Labelled set size:  40\n",
      "Unlabelled set size:  213\n",
      "\n",
      "Training a model for 1 epochs...\n",
      "IoU so far: 0.014183720995429135\n",
      "Labelled set size:  60\n",
      "Unlabelled set size:  193\n",
      "\n",
      "Training a model for 1 epochs...\n",
      "IoU so far: 0.208741365240352\n",
      "Labelled set size:  80\n",
      "Unlabelled set size:  173\n",
      "\n",
      "Training a model for 1 epochs...\n",
      "IoU so far: 0.332511948181851\n",
      "Labelled set size:  100\n",
      "Unlabelled set size:  153\n",
      "\n",
      "Training a model for 1 epochs...\n",
      "IoU so far: 0.40021496362025183\n",
      "Labelled set size:  120\n",
      "Unlabelled set size:  133\n",
      "\n",
      "Training a model for 1 epochs...\n",
      "IoU so far: 0.4571205551671509\n",
      "Labelled set size:  140\n",
      "Unlabelled set size:  113\n",
      "\n",
      "Training a model for 1 epochs...\n",
      "IoU so far: 0.44456420056890733\n",
      "Labelled set size:  160\n",
      "Unlabelled set size:  93\n",
      "\n",
      "Training a model for 1 epochs...\n",
      "IoU so far: 0.46846751647420454\n",
      "Labelled set size:  180\n",
      "Unlabelled set size:  73\n",
      "\n",
      "Training a model for 1 epochs...\n",
      "IoU so far: 0.4887186746195992\n",
      "Labelled set size:  200\n",
      "Unlabelled set size:  53\n",
      "\n",
      "Training a model for 1 epochs...\n",
      "IoU so far: 0.4895887298159083\n",
      "Labelled set size:  220\n",
      "Unlabelled set size:  33\n",
      "\n",
      "Training a model for 1 epochs...\n",
      "IoU so far: 0.7209331281114332\n",
      "Max IoU score: 0.7209331281114332\n",
      "----------------------------------------\n",
      "\n",
      "\n",
      "Number of samples to label on one iteration, k=40\n",
      "------------------------------------\n",
      "Labelled set size:  20\n",
      "Unlabelled set size:  233\n",
      "\n",
      "Training a model for 1 epochs...\n",
      "IoU so far: 0.005252701168746522\n",
      "Labelled set size:  60\n",
      "Unlabelled set size:  193\n",
      "\n",
      "Training a model for 1 epochs...\n",
      "IoU so far: 0.12903817971744158\n",
      "Labelled set size:  100\n",
      "Unlabelled set size:  153\n",
      "\n",
      "Training a model for 1 epochs...\n",
      "IoU so far: 0.257016933790528\n",
      "Labelled set size:  140\n",
      "Unlabelled set size:  113\n",
      "\n",
      "Training a model for 1 epochs...\n",
      "IoU so far: 0.2762720345860662\n",
      "Labelled set size:  180\n",
      "Unlabelled set size:  73\n",
      "\n",
      "Training a model for 1 epochs...\n",
      "IoU so far: 0.28425977415967696\n",
      "Labelled set size:  220\n",
      "Unlabelled set size:  33\n",
      "\n",
      "Training a model for 1 epochs...\n",
      "IoU so far: 0.36034266930995607\n",
      "\n",
      "No more images in Unlabelled set\n",
      "Max IoU score: 0.36034266930995607\n",
      "----------------------------------------\n",
      "\n",
      "\n",
      "Number of samples to label on one iteration, k=60\n",
      "------------------------------------\n",
      "Labelled set size:  20\n",
      "Unlabelled set size:  233\n",
      "\n",
      "Training a model for 1 epochs...\n",
      "IoU so far: 6.134383820329624e-05\n",
      "Labelled set size:  80\n",
      "Unlabelled set size:  173\n",
      "\n",
      "Training a model for 1 epochs...\n",
      "IoU so far: 0.08229631203973643\n",
      "Labelled set size:  140\n",
      "Unlabelled set size:  113\n",
      "\n",
      "Training a model for 1 epochs...\n",
      "IoU so far: 0.22848290721378708\n",
      "Labelled set size:  200\n",
      "Unlabelled set size:  53\n",
      "\n",
      "Training a model for 1 epochs...\n",
      "IoU so far: 0.17062100443509556\n",
      "\n",
      "No more images in Unlabelled set\n",
      "Max IoU score: 0.22848290721378708\n",
      "----------------------------------------\n",
      "\n",
      "\n",
      "Samples selection function: Margin\n",
      "------------------------------------\n",
      "\n",
      "Number of samples to label on one iteration, k=10\n",
      "------------------------------------\n",
      "Labelled set size:  20\n",
      "Unlabelled set size:  233\n",
      "\n",
      "Training a model for 1 epochs...\n"
     ]
    },
    {
     "name": "stderr",
     "output_type": "stream",
     "text": [
      "  1%|          | 2/233 [00:00<00:15, 15.30it/s]"
     ]
    },
    {
     "name": "stdout",
     "output_type": "stream",
     "text": [
      "IoU so far: 3.222983943809134e-07\n",
      "Inference on unlabelled data...\n"
     ]
    },
    {
     "name": "stderr",
     "output_type": "stream",
     "text": [
      "100%|██████████| 233/233 [00:15<00:00, 14.83it/s]"
     ]
    },
    {
     "name": "stdout",
     "output_type": "stream",
     "text": [
      "Min margin: 5.21,             Mean margin: 5.34,             Max margin: 5.57\n",
      "Labelled set size:  30\n",
      "Unlabelled set size:  223\n",
      "\n",
      "Training a model for 1 epochs...\n"
     ]
    },
    {
     "name": "stderr",
     "output_type": "stream",
     "text": [
      "\n",
      "  1%|          | 2/223 [00:00<00:14, 14.79it/s]"
     ]
    },
    {
     "name": "stdout",
     "output_type": "stream",
     "text": [
      "IoU so far: 0.003297929922386283\n",
      "Inference on unlabelled data...\n"
     ]
    },
    {
     "name": "stderr",
     "output_type": "stream",
     "text": [
      "100%|██████████| 223/223 [00:15<00:00, 14.35it/s]"
     ]
    },
    {
     "name": "stdout",
     "output_type": "stream",
     "text": [
      "Min margin: 5.20,             Mean margin: 5.36,             Max margin: 5.58\n",
      "Labelled set size:  40\n",
      "Unlabelled set size:  213\n",
      "\n",
      "Training a model for 1 epochs...\n"
     ]
    },
    {
     "name": "stderr",
     "output_type": "stream",
     "text": [
      "\n",
      "  1%|          | 2/213 [00:00<00:13, 15.59it/s]"
     ]
    },
    {
     "name": "stdout",
     "output_type": "stream",
     "text": [
      "IoU so far: 0.11586950549689852\n",
      "Inference on unlabelled data...\n"
     ]
    },
    {
     "name": "stderr",
     "output_type": "stream",
     "text": [
      "100%|██████████| 213/213 [00:14<00:00, 14.90it/s]"
     ]
    },
    {
     "name": "stdout",
     "output_type": "stream",
     "text": [
      "Min margin: 3.18,             Mean margin: 4.67,             Max margin: 5.34\n",
      "Labelled set size:  50\n",
      "Unlabelled set size:  203\n",
      "\n",
      "Training a model for 1 epochs...\n"
     ]
    },
    {
     "name": "stderr",
     "output_type": "stream",
     "text": [
      "\n",
      "  1%|          | 2/203 [00:00<00:12, 16.40it/s]"
     ]
    },
    {
     "name": "stdout",
     "output_type": "stream",
     "text": [
      "IoU so far: 0.280025576600934\n",
      "Inference on unlabelled data...\n"
     ]
    },
    {
     "name": "stderr",
     "output_type": "stream",
     "text": [
      "100%|██████████| 203/203 [00:13<00:00, 15.00it/s]"
     ]
    },
    {
     "name": "stdout",
     "output_type": "stream",
     "text": [
      "Min margin: 2.35,             Mean margin: 4.12,             Max margin: 5.19\n",
      "Labelled set size:  60\n",
      "Unlabelled set size:  193\n",
      "\n",
      "Training a model for 1 epochs...\n"
     ]
    },
    {
     "name": "stderr",
     "output_type": "stream",
     "text": [
      "\n",
      "  1%|          | 2/193 [00:00<00:10, 18.21it/s]"
     ]
    },
    {
     "name": "stdout",
     "output_type": "stream",
     "text": [
      "IoU so far: 0.35684881883092445\n",
      "Inference on unlabelled data...\n"
     ]
    },
    {
     "name": "stderr",
     "output_type": "stream",
     "text": [
      "100%|██████████| 193/193 [00:12<00:00, 15.47it/s]"
     ]
    },
    {
     "name": "stdout",
     "output_type": "stream",
     "text": [
      "Min margin: 1.93,             Mean margin: 3.42,             Max margin: 4.92\n",
      "Labelled set size:  70\n",
      "Unlabelled set size:  183\n",
      "\n",
      "Training a model for 1 epochs...\n"
     ]
    },
    {
     "name": "stderr",
     "output_type": "stream",
     "text": [
      "\n",
      "  1%|          | 2/183 [00:00<00:09, 18.39it/s]"
     ]
    },
    {
     "name": "stdout",
     "output_type": "stream",
     "text": [
      "IoU so far: 0.3680381515238546\n",
      "Inference on unlabelled data...\n"
     ]
    },
    {
     "name": "stderr",
     "output_type": "stream",
     "text": [
      "100%|██████████| 183/183 [00:11<00:00, 15.43it/s]"
     ]
    },
    {
     "name": "stdout",
     "output_type": "stream",
     "text": [
      "Min margin: 2.27,             Mean margin: 3.33,             Max margin: 4.62\n",
      "Labelled set size:  80\n",
      "Unlabelled set size:  173\n",
      "\n",
      "Training a model for 1 epochs...\n"
     ]
    },
    {
     "name": "stderr",
     "output_type": "stream",
     "text": [
      "\n",
      "  1%|          | 2/173 [00:00<00:13, 12.39it/s]"
     ]
    },
    {
     "name": "stdout",
     "output_type": "stream",
     "text": [
      "IoU so far: 0.46404532778381125\n",
      "Inference on unlabelled data...\n"
     ]
    },
    {
     "name": "stderr",
     "output_type": "stream",
     "text": [
      "100%|██████████| 173/173 [00:10<00:00, 15.83it/s]"
     ]
    },
    {
     "name": "stdout",
     "output_type": "stream",
     "text": [
      "Min margin: 2.30,             Mean margin: 2.80,             Max margin: 3.73\n",
      "Labelled set size:  90\n",
      "Unlabelled set size:  163\n",
      "\n",
      "Training a model for 1 epochs...\n"
     ]
    },
    {
     "name": "stderr",
     "output_type": "stream",
     "text": [
      "\n",
      "  1%|          | 2/163 [00:00<00:09, 17.54it/s]"
     ]
    },
    {
     "name": "stdout",
     "output_type": "stream",
     "text": [
      "IoU so far: 0.46409501740247905\n",
      "Inference on unlabelled data...\n"
     ]
    },
    {
     "name": "stderr",
     "output_type": "stream",
     "text": [
      "100%|██████████| 163/163 [00:10<00:00, 15.39it/s]"
     ]
    },
    {
     "name": "stdout",
     "output_type": "stream",
     "text": [
      "Min margin: 2.39,             Mean margin: 2.78,             Max margin: 3.77\n",
      "Labelled set size:  100\n",
      "Unlabelled set size:  153\n",
      "\n",
      "Training a model for 1 epochs...\n"
     ]
    },
    {
     "name": "stderr",
     "output_type": "stream",
     "text": [
      "\n",
      "  1%|▏         | 2/153 [00:00<00:08, 18.10it/s]"
     ]
    },
    {
     "name": "stdout",
     "output_type": "stream",
     "text": [
      "IoU so far: 0.5569840389313082\n",
      "Inference on unlabelled data...\n"
     ]
    },
    {
     "name": "stderr",
     "output_type": "stream",
     "text": [
      "100%|██████████| 153/153 [00:09<00:00, 16.83it/s]"
     ]
    },
    {
     "name": "stdout",
     "output_type": "stream",
     "text": [
      "Min margin: 2.24,             Mean margin: 2.63,             Max margin: 3.45\n",
      "Labelled set size:  110\n",
      "Unlabelled set size:  143\n",
      "\n",
      "Training a model for 1 epochs...\n"
     ]
    },
    {
     "name": "stderr",
     "output_type": "stream",
     "text": [
      "\n",
      "  1%|▏         | 2/143 [00:00<00:08, 16.52it/s]"
     ]
    },
    {
     "name": "stdout",
     "output_type": "stream",
     "text": [
      "IoU so far: 0.563771357040594\n",
      "Inference on unlabelled data...\n"
     ]
    },
    {
     "name": "stderr",
     "output_type": "stream",
     "text": [
      "100%|██████████| 143/143 [00:08<00:00, 16.88it/s]"
     ]
    },
    {
     "name": "stdout",
     "output_type": "stream",
     "text": [
      "Min margin: 1.93,             Mean margin: 2.33,             Max margin: 3.11\n",
      "Labelled set size:  120\n",
      "Unlabelled set size:  133\n",
      "\n",
      "Training a model for 1 epochs...\n"
     ]
    },
    {
     "name": "stderr",
     "output_type": "stream",
     "text": [
      "\n",
      "  2%|▏         | 2/133 [00:00<00:07, 18.70it/s]"
     ]
    },
    {
     "name": "stdout",
     "output_type": "stream",
     "text": [
      "IoU so far: 0.5998405029277989\n",
      "Inference on unlabelled data...\n"
     ]
    },
    {
     "name": "stderr",
     "output_type": "stream",
     "text": [
      "100%|██████████| 133/133 [00:07<00:00, 17.09it/s]"
     ]
    },
    {
     "name": "stdout",
     "output_type": "stream",
     "text": [
      "Min margin: 1.76,             Mean margin: 2.06,             Max margin: 2.72\n",
      "Labelled set size:  130\n",
      "Unlabelled set size:  123\n",
      "\n",
      "Training a model for 1 epochs...\n"
     ]
    },
    {
     "name": "stderr",
     "output_type": "stream",
     "text": [
      "\n",
      "  2%|▏         | 2/123 [00:00<00:06, 18.19it/s]"
     ]
    },
    {
     "name": "stdout",
     "output_type": "stream",
     "text": [
      "IoU so far: 0.6526318369525494\n",
      "Inference on unlabelled data...\n"
     ]
    },
    {
     "name": "stderr",
     "output_type": "stream",
     "text": [
      "100%|██████████| 123/123 [00:06<00:00, 17.77it/s]"
     ]
    },
    {
     "name": "stdout",
     "output_type": "stream",
     "text": [
      "Min margin: 1.56,             Mean margin: 1.86,             Max margin: 2.41\n",
      "Labelled set size:  140\n",
      "Unlabelled set size:  113\n",
      "\n",
      "Training a model for 1 epochs...\n"
     ]
    },
    {
     "name": "stderr",
     "output_type": "stream",
     "text": [
      "\n",
      "  2%|▏         | 2/113 [00:00<00:05, 18.50it/s]"
     ]
    },
    {
     "name": "stdout",
     "output_type": "stream",
     "text": [
      "IoU so far: 0.6784937499773385\n",
      "Inference on unlabelled data...\n"
     ]
    },
    {
     "name": "stderr",
     "output_type": "stream",
     "text": [
      "100%|██████████| 113/113 [00:06<00:00, 16.86it/s]"
     ]
    },
    {
     "name": "stdout",
     "output_type": "stream",
     "text": [
      "Min margin: 1.45,             Mean margin: 1.70,             Max margin: 2.15\n",
      "Labelled set size:  150\n",
      "Unlabelled set size:  103\n",
      "\n",
      "Training a model for 1 epochs...\n"
     ]
    },
    {
     "name": "stderr",
     "output_type": "stream",
     "text": [
      "\n",
      "  2%|▏         | 2/103 [00:00<00:05, 17.62it/s]"
     ]
    },
    {
     "name": "stdout",
     "output_type": "stream",
     "text": [
      "IoU so far: 0.6699927313493031\n",
      "Inference on unlabelled data...\n"
     ]
    },
    {
     "name": "stderr",
     "output_type": "stream",
     "text": [
      "100%|██████████| 103/103 [00:05<00:00, 17.73it/s]"
     ]
    },
    {
     "name": "stdout",
     "output_type": "stream",
     "text": [
      "Min margin: 1.33,             Mean margin: 1.51,             Max margin: 1.95\n",
      "Labelled set size:  160\n",
      "Unlabelled set size:  93\n",
      "\n",
      "Training a model for 1 epochs...\n"
     ]
    },
    {
     "name": "stderr",
     "output_type": "stream",
     "text": [
      "\n",
      "  2%|▏         | 2/93 [00:00<00:04, 18.71it/s]"
     ]
    },
    {
     "name": "stdout",
     "output_type": "stream",
     "text": [
      "IoU so far: 0.717178915396775\n",
      "Inference on unlabelled data...\n"
     ]
    },
    {
     "name": "stderr",
     "output_type": "stream",
     "text": [
      "100%|██████████| 93/93 [00:05<00:00, 16.91it/s]"
     ]
    },
    {
     "name": "stdout",
     "output_type": "stream",
     "text": [
      "Min margin: 1.20,             Mean margin: 1.37,             Max margin: 1.70\n",
      "Labelled set size:  170\n",
      "Unlabelled set size:  83\n",
      "\n",
      "Training a model for 1 epochs...\n"
     ]
    },
    {
     "name": "stderr",
     "output_type": "stream",
     "text": [
      "\n",
      "  2%|▏         | 2/83 [00:00<00:04, 18.01it/s]"
     ]
    },
    {
     "name": "stdout",
     "output_type": "stream",
     "text": [
      "IoU so far: 0.739278063325599\n",
      "Inference on unlabelled data...\n"
     ]
    },
    {
     "name": "stderr",
     "output_type": "stream",
     "text": [
      "100%|██████████| 83/83 [00:04<00:00, 17.57it/s]"
     ]
    },
    {
     "name": "stdout",
     "output_type": "stream",
     "text": [
      "Min margin: 1.04,             Mean margin: 1.23,             Max margin: 1.69\n",
      "Labelled set size:  180\n",
      "Unlabelled set size:  73\n",
      "\n",
      "Training a model for 1 epochs...\n"
     ]
    },
    {
     "name": "stderr",
     "output_type": "stream",
     "text": [
      "\n",
      "  3%|▎         | 2/73 [00:00<00:03, 18.62it/s]"
     ]
    },
    {
     "name": "stdout",
     "output_type": "stream",
     "text": [
      "IoU so far: 0.7496295771976509\n",
      "Inference on unlabelled data...\n"
     ]
    },
    {
     "name": "stderr",
     "output_type": "stream",
     "text": [
      "100%|██████████| 73/73 [00:04<00:00, 16.74it/s]"
     ]
    },
    {
     "name": "stdout",
     "output_type": "stream",
     "text": [
      "Min margin: 0.96,             Mean margin: 1.11,             Max margin: 1.42\n",
      "Labelled set size:  190\n",
      "Unlabelled set size:  63\n",
      "\n",
      "Training a model for 1 epochs...\n"
     ]
    },
    {
     "name": "stderr",
     "output_type": "stream",
     "text": [
      "\n",
      "  3%|▎         | 2/63 [00:00<00:04, 12.81it/s]"
     ]
    },
    {
     "name": "stdout",
     "output_type": "stream",
     "text": [
      "IoU so far: 0.7468452430007482\n",
      "Inference on unlabelled data...\n"
     ]
    },
    {
     "name": "stderr",
     "output_type": "stream",
     "text": [
      "100%|██████████| 63/63 [00:04<00:00, 14.99it/s]"
     ]
    },
    {
     "name": "stdout",
     "output_type": "stream",
     "text": [
      "Min margin: 0.85,             Mean margin: 0.97,             Max margin: 1.23\n",
      "Labelled set size:  200\n",
      "Unlabelled set size:  53\n",
      "\n",
      "Training a model for 1 epochs...\n"
     ]
    },
    {
     "name": "stderr",
     "output_type": "stream",
     "text": [
      "\n",
      "  4%|▍         | 2/53 [00:00<00:02, 18.26it/s]"
     ]
    },
    {
     "name": "stdout",
     "output_type": "stream",
     "text": [
      "IoU so far: 0.7714782109354981\n",
      "Inference on unlabelled data...\n"
     ]
    },
    {
     "name": "stderr",
     "output_type": "stream",
     "text": [
      "100%|██████████| 53/53 [00:03<00:00, 16.92it/s]"
     ]
    },
    {
     "name": "stdout",
     "output_type": "stream",
     "text": [
      "Min margin: 0.74,             Mean margin: 0.90,             Max margin: 1.13\n",
      "Labelled set size:  210\n",
      "Unlabelled set size:  43\n",
      "\n",
      "Training a model for 1 epochs...\n"
     ]
    },
    {
     "name": "stderr",
     "output_type": "stream",
     "text": [
      "\n",
      "  5%|▍         | 2/43 [00:00<00:02, 18.44it/s]"
     ]
    },
    {
     "name": "stdout",
     "output_type": "stream",
     "text": [
      "IoU so far: 0.7828194622946262\n",
      "Inference on unlabelled data...\n"
     ]
    },
    {
     "name": "stderr",
     "output_type": "stream",
     "text": [
      "100%|██████████| 43/43 [00:02<00:00, 18.16it/s]"
     ]
    },
    {
     "name": "stdout",
     "output_type": "stream",
     "text": [
      "Min margin: 0.58,             Mean margin: 0.75,             Max margin: 0.91\n",
      "Labelled set size:  220\n",
      "Unlabelled set size:  33\n",
      "\n",
      "Training a model for 1 epochs...\n"
     ]
    },
    {
     "name": "stderr",
     "output_type": "stream",
     "text": [
      "\n",
      "  6%|▌         | 2/33 [00:00<00:01, 17.17it/s]"
     ]
    },
    {
     "name": "stdout",
     "output_type": "stream",
     "text": [
      "IoU so far: 0.7859355689275384\n",
      "Inference on unlabelled data...\n"
     ]
    },
    {
     "name": "stderr",
     "output_type": "stream",
     "text": [
      "100%|██████████| 33/33 [00:01<00:00, 17.18it/s]\n"
     ]
    },
    {
     "name": "stdout",
     "output_type": "stream",
     "text": [
      "Min margin: 0.49,             Mean margin: 0.60,             Max margin: 0.72\n",
      "Max IoU score: 0.7859355689275384\n",
      "----------------------------------------\n",
      "\n",
      "\n",
      "Number of samples to label on one iteration, k=20\n",
      "------------------------------------\n",
      "Labelled set size:  20\n",
      "Unlabelled set size:  233\n",
      "\n",
      "Training a model for 1 epochs...\n"
     ]
    },
    {
     "name": "stderr",
     "output_type": "stream",
     "text": [
      "  1%|          | 2/233 [00:00<00:14, 16.00it/s]"
     ]
    },
    {
     "name": "stdout",
     "output_type": "stream",
     "text": [
      "IoU so far: 4.286561454746071e-05\n",
      "Inference on unlabelled data...\n"
     ]
    },
    {
     "name": "stderr",
     "output_type": "stream",
     "text": [
      "100%|██████████| 233/233 [00:14<00:00, 15.83it/s]"
     ]
    },
    {
     "name": "stdout",
     "output_type": "stream",
     "text": [
      "Min margin: 5.34,             Mean margin: 5.45,             Max margin: 5.60\n",
      "Labelled set size:  40\n",
      "Unlabelled set size:  213\n",
      "\n",
      "Training a model for 1 epochs...\n"
     ]
    },
    {
     "name": "stderr",
     "output_type": "stream",
     "text": [
      "\n",
      "  1%|          | 2/213 [00:00<00:12, 16.46it/s]"
     ]
    },
    {
     "name": "stdout",
     "output_type": "stream",
     "text": [
      "IoU so far: 0.0007885609134577505\n",
      "Inference on unlabelled data...\n"
     ]
    },
    {
     "name": "stderr",
     "output_type": "stream",
     "text": [
      "100%|██████████| 213/213 [00:14<00:00, 14.48it/s]"
     ]
    },
    {
     "name": "stdout",
     "output_type": "stream",
     "text": [
      "Min margin: 5.14,             Mean margin: 5.34,             Max margin: 5.55\n",
      "Labelled set size:  60\n",
      "Unlabelled set size:  193\n",
      "\n",
      "Training a model for 1 epochs...\n"
     ]
    },
    {
     "name": "stderr",
     "output_type": "stream",
     "text": [
      "\n",
      "  1%|          | 2/193 [00:00<00:11, 17.18it/s]"
     ]
    },
    {
     "name": "stdout",
     "output_type": "stream",
     "text": [
      "IoU so far: 0.007462253769050168\n",
      "Inference on unlabelled data...\n"
     ]
    },
    {
     "name": "stderr",
     "output_type": "stream",
     "text": [
      "100%|██████████| 193/193 [00:12<00:00, 14.90it/s]\n"
     ]
    },
    {
     "name": "stdout",
     "output_type": "stream",
     "text": [
      "Min margin: 3.74,             Mean margin: 4.50,             Max margin: 5.01\n",
      "Labelled set size:  80\n",
      "Unlabelled set size:  173\n",
      "\n",
      "Training a model for 1 epochs...\n"
     ]
    },
    {
     "name": "stderr",
     "output_type": "stream",
     "text": [
      "  1%|          | 2/173 [00:00<00:10, 16.16it/s]"
     ]
    },
    {
     "name": "stdout",
     "output_type": "stream",
     "text": [
      "IoU so far: 0.08312192230974094\n",
      "Inference on unlabelled data...\n"
     ]
    },
    {
     "name": "stderr",
     "output_type": "stream",
     "text": [
      "100%|██████████| 173/173 [00:10<00:00, 16.24it/s]"
     ]
    },
    {
     "name": "stdout",
     "output_type": "stream",
     "text": [
      "Min margin: 2.36,             Mean margin: 3.86,             Max margin: 4.61\n",
      "Labelled set size:  100\n",
      "Unlabelled set size:  153\n",
      "\n",
      "Training a model for 1 epochs...\n"
     ]
    },
    {
     "name": "stderr",
     "output_type": "stream",
     "text": [
      "\n",
      "  1%|▏         | 2/153 [00:00<00:08, 18.78it/s]"
     ]
    },
    {
     "name": "stdout",
     "output_type": "stream",
     "text": [
      "IoU so far: 0.18294994105206855\n",
      "Inference on unlabelled data...\n"
     ]
    },
    {
     "name": "stderr",
     "output_type": "stream",
     "text": [
      "100%|██████████| 153/153 [00:09<00:00, 15.31it/s]"
     ]
    },
    {
     "name": "stdout",
     "output_type": "stream",
     "text": [
      "Min margin: 2.63,             Mean margin: 3.37,             Max margin: 4.18\n",
      "Labelled set size:  120\n",
      "Unlabelled set size:  133\n",
      "\n",
      "Training a model for 1 epochs...\n"
     ]
    },
    {
     "name": "stderr",
     "output_type": "stream",
     "text": [
      "\n",
      "  2%|▏         | 2/133 [00:00<00:06, 19.05it/s]"
     ]
    },
    {
     "name": "stdout",
     "output_type": "stream",
     "text": [
      "IoU so far: 0.2521394731679766\n",
      "Inference on unlabelled data...\n"
     ]
    },
    {
     "name": "stderr",
     "output_type": "stream",
     "text": [
      "100%|██████████| 133/133 [00:07<00:00, 18.10it/s]"
     ]
    },
    {
     "name": "stdout",
     "output_type": "stream",
     "text": [
      "Min margin: 2.47,             Mean margin: 3.04,             Max margin: 4.07\n",
      "Labelled set size:  140\n",
      "Unlabelled set size:  113\n",
      "\n",
      "Training a model for 1 epochs...\n"
     ]
    },
    {
     "name": "stderr",
     "output_type": "stream",
     "text": [
      "\n",
      "  2%|▏         | 2/113 [00:00<00:06, 17.89it/s]"
     ]
    },
    {
     "name": "stdout",
     "output_type": "stream",
     "text": [
      "IoU so far: 0.4146824307961039\n",
      "Inference on unlabelled data...\n"
     ]
    },
    {
     "name": "stderr",
     "output_type": "stream",
     "text": [
      "100%|██████████| 113/113 [00:06<00:00, 17.09it/s]"
     ]
    },
    {
     "name": "stdout",
     "output_type": "stream",
     "text": [
      "Min margin: 2.50,             Mean margin: 2.97,             Max margin: 3.88\n",
      "Labelled set size:  160\n",
      "Unlabelled set size:  93\n",
      "\n",
      "Training a model for 1 epochs...\n"
     ]
    },
    {
     "name": "stderr",
     "output_type": "stream",
     "text": [
      "\n",
      "  2%|▏         | 2/93 [00:00<00:04, 18.30it/s]"
     ]
    },
    {
     "name": "stdout",
     "output_type": "stream",
     "text": [
      "IoU so far: 0.5111111328743475\n",
      "Inference on unlabelled data...\n"
     ]
    },
    {
     "name": "stderr",
     "output_type": "stream",
     "text": [
      "100%|██████████| 93/93 [00:05<00:00, 18.04it/s]"
     ]
    },
    {
     "name": "stdout",
     "output_type": "stream",
     "text": [
      "Min margin: 2.15,             Mean margin: 2.66,             Max margin: 3.49\n",
      "Labelled set size:  180\n",
      "Unlabelled set size:  73\n",
      "\n",
      "Training a model for 1 epochs...\n"
     ]
    },
    {
     "name": "stderr",
     "output_type": "stream",
     "text": [
      "\n",
      "  3%|▎         | 2/73 [00:00<00:05, 13.53it/s]"
     ]
    },
    {
     "name": "stdout",
     "output_type": "stream",
     "text": [
      "IoU so far: 0.5516904672183611\n",
      "Inference on unlabelled data...\n"
     ]
    },
    {
     "name": "stderr",
     "output_type": "stream",
     "text": [
      "100%|██████████| 73/73 [00:04<00:00, 14.89it/s]"
     ]
    },
    {
     "name": "stdout",
     "output_type": "stream",
     "text": [
      "Min margin: 1.84,             Mean margin: 2.29,             Max margin: 3.11\n",
      "Labelled set size:  200\n",
      "Unlabelled set size:  53\n",
      "\n",
      "Training a model for 1 epochs...\n"
     ]
    },
    {
     "name": "stderr",
     "output_type": "stream",
     "text": [
      "\n",
      "  4%|▍         | 2/53 [00:00<00:02, 19.32it/s]"
     ]
    },
    {
     "name": "stdout",
     "output_type": "stream",
     "text": [
      "IoU so far: 0.5610723123692047\n",
      "Inference on unlabelled data...\n"
     ]
    },
    {
     "name": "stderr",
     "output_type": "stream",
     "text": [
      "100%|██████████| 53/53 [00:02<00:00, 19.20it/s]"
     ]
    },
    {
     "name": "stdout",
     "output_type": "stream",
     "text": [
      "Min margin: 1.67,             Mean margin: 2.07,             Max margin: 2.76\n",
      "Labelled set size:  220\n",
      "Unlabelled set size:  33\n",
      "\n",
      "Training a model for 1 epochs...\n"
     ]
    },
    {
     "name": "stderr",
     "output_type": "stream",
     "text": [
      "\n",
      "  6%|▌         | 2/33 [00:00<00:01, 17.31it/s]"
     ]
    },
    {
     "name": "stdout",
     "output_type": "stream",
     "text": [
      "IoU so far: 0.5544074936078327\n",
      "Inference on unlabelled data...\n"
     ]
    },
    {
     "name": "stderr",
     "output_type": "stream",
     "text": [
      "100%|██████████| 33/33 [00:01<00:00, 18.00it/s]\n"
     ]
    },
    {
     "name": "stdout",
     "output_type": "stream",
     "text": [
      "Min margin: 1.63,             Mean margin: 1.93,             Max margin: 2.36\n",
      "Max IoU score: 0.5610723123692047\n",
      "----------------------------------------\n",
      "\n",
      "\n",
      "Number of samples to label on one iteration, k=40\n",
      "------------------------------------\n",
      "Labelled set size:  20\n",
      "Unlabelled set size:  233\n",
      "\n",
      "Training a model for 1 epochs...\n"
     ]
    },
    {
     "name": "stderr",
     "output_type": "stream",
     "text": [
      "  1%|          | 2/233 [00:00<00:13, 16.90it/s]"
     ]
    },
    {
     "name": "stdout",
     "output_type": "stream",
     "text": [
      "IoU so far: 2.304725289875539e-06\n",
      "Inference on unlabelled data...\n"
     ]
    },
    {
     "name": "stderr",
     "output_type": "stream",
     "text": [
      "100%|██████████| 233/233 [00:15<00:00, 15.24it/s]"
     ]
    },
    {
     "name": "stdout",
     "output_type": "stream",
     "text": [
      "Min margin: 5.25,             Mean margin: 5.39,             Max margin: 5.57\n",
      "Labelled set size:  60\n",
      "Unlabelled set size:  193\n",
      "\n",
      "Training a model for 1 epochs...\n"
     ]
    },
    {
     "name": "stderr",
     "output_type": "stream",
     "text": [
      "\n",
      "  1%|          | 2/193 [00:00<00:10, 17.40it/s]"
     ]
    },
    {
     "name": "stdout",
     "output_type": "stream",
     "text": [
      "IoU so far: 0.03757243255489866\n",
      "Inference on unlabelled data...\n"
     ]
    },
    {
     "name": "stderr",
     "output_type": "stream",
     "text": [
      "100%|██████████| 193/193 [00:12<00:00, 15.73it/s]"
     ]
    },
    {
     "name": "stdout",
     "output_type": "stream",
     "text": [
      "Min margin: 3.97,             Mean margin: 5.04,             Max margin: 5.54\n",
      "Labelled set size:  100\n",
      "Unlabelled set size:  153\n",
      "\n",
      "Training a model for 1 epochs...\n"
     ]
    },
    {
     "name": "stderr",
     "output_type": "stream",
     "text": [
      "\n",
      "  1%|▏         | 2/153 [00:00<00:08, 17.48it/s]"
     ]
    },
    {
     "name": "stdout",
     "output_type": "stream",
     "text": [
      "IoU so far: 0.2821583322959372\n",
      "Inference on unlabelled data...\n"
     ]
    },
    {
     "name": "stderr",
     "output_type": "stream",
     "text": [
      "100%|██████████| 153/153 [00:10<00:00, 15.09it/s]"
     ]
    },
    {
     "name": "stdout",
     "output_type": "stream",
     "text": [
      "Min margin: 2.49,             Mean margin: 3.58,             Max margin: 5.24\n",
      "Labelled set size:  140\n",
      "Unlabelled set size:  113\n",
      "\n",
      "Training a model for 1 epochs...\n"
     ]
    },
    {
     "name": "stderr",
     "output_type": "stream",
     "text": [
      "\n",
      "  2%|▏         | 2/113 [00:00<00:06, 16.22it/s]"
     ]
    },
    {
     "name": "stdout",
     "output_type": "stream",
     "text": [
      "IoU so far: 0.32917536131226205\n",
      "Inference on unlabelled data...\n"
     ]
    },
    {
     "name": "stderr",
     "output_type": "stream",
     "text": [
      "100%|██████████| 113/113 [00:06<00:00, 17.71it/s]"
     ]
    },
    {
     "name": "stdout",
     "output_type": "stream",
     "text": [
      "Min margin: 2.68,             Mean margin: 3.26,             Max margin: 4.94\n",
      "Labelled set size:  180\n",
      "Unlabelled set size:  73\n",
      "\n",
      "Training a model for 1 epochs...\n"
     ]
    },
    {
     "name": "stderr",
     "output_type": "stream",
     "text": [
      "\n",
      "  3%|▎         | 2/73 [00:00<00:03, 17.96it/s]"
     ]
    },
    {
     "name": "stdout",
     "output_type": "stream",
     "text": [
      "IoU so far: 0.4163076408428721\n",
      "Inference on unlabelled data...\n"
     ]
    },
    {
     "name": "stderr",
     "output_type": "stream",
     "text": [
      "100%|██████████| 73/73 [00:04<00:00, 16.78it/s]"
     ]
    },
    {
     "name": "stdout",
     "output_type": "stream",
     "text": [
      "Min margin: 2.83,             Mean margin: 3.23,             Max margin: 4.78\n",
      "Labelled set size:  220\n",
      "Unlabelled set size:  33\n",
      "\n",
      "Training a model for 1 epochs...\n"
     ]
    },
    {
     "name": "stderr",
     "output_type": "stream",
     "text": [
      "\n"
     ]
    },
    {
     "name": "stdout",
     "output_type": "stream",
     "text": [
      "IoU so far: 0.5098732113838196\n",
      "\n",
      "No more images in Unlabelled set\n",
      "Max IoU score: 0.5098732113838196\n",
      "----------------------------------------\n",
      "\n",
      "\n",
      "Number of samples to label on one iteration, k=60\n",
      "------------------------------------\n",
      "Labelled set size:  20\n",
      "Unlabelled set size:  233\n",
      "\n",
      "Training a model for 1 epochs...\n"
     ]
    },
    {
     "name": "stderr",
     "output_type": "stream",
     "text": [
      "  1%|          | 2/233 [00:00<00:14, 15.42it/s]"
     ]
    },
    {
     "name": "stdout",
     "output_type": "stream",
     "text": [
      "IoU so far: 8.998302807183874e-05\n",
      "Inference on unlabelled data...\n"
     ]
    },
    {
     "name": "stderr",
     "output_type": "stream",
     "text": [
      "100%|██████████| 233/233 [00:15<00:00, 14.63it/s]"
     ]
    },
    {
     "name": "stdout",
     "output_type": "stream",
     "text": [
      "Min margin: 5.15,             Mean margin: 5.41,             Max margin: 5.58\n",
      "Labelled set size:  80\n",
      "Unlabelled set size:  173\n",
      "\n",
      "Training a model for 1 epochs...\n"
     ]
    },
    {
     "name": "stderr",
     "output_type": "stream",
     "text": [
      "\n",
      "  1%|          | 2/173 [00:00<00:10, 15.83it/s]"
     ]
    },
    {
     "name": "stdout",
     "output_type": "stream",
     "text": [
      "IoU so far: 0.13434293371911094\n",
      "Inference on unlabelled data...\n"
     ]
    },
    {
     "name": "stderr",
     "output_type": "stream",
     "text": [
      "100%|██████████| 173/173 [00:10<00:00, 15.74it/s]"
     ]
    },
    {
     "name": "stdout",
     "output_type": "stream",
     "text": [
      "Min margin: 2.27,             Mean margin: 4.16,             Max margin: 5.47\n",
      "Labelled set size:  140\n",
      "Unlabelled set size:  113\n",
      "\n",
      "Training a model for 1 epochs...\n"
     ]
    },
    {
     "name": "stderr",
     "output_type": "stream",
     "text": [
      "\n",
      "  2%|▏         | 2/113 [00:00<00:06, 16.64it/s]"
     ]
    },
    {
     "name": "stdout",
     "output_type": "stream",
     "text": [
      "IoU so far: 0.3302513611788797\n",
      "Inference on unlabelled data...\n"
     ]
    },
    {
     "name": "stderr",
     "output_type": "stream",
     "text": [
      "100%|██████████| 113/113 [00:07<00:00, 15.72it/s]"
     ]
    },
    {
     "name": "stdout",
     "output_type": "stream",
     "text": [
      "Min margin: 1.93,             Mean margin: 3.43,             Max margin: 5.03\n",
      "Labelled set size:  200\n",
      "Unlabelled set size:  53\n",
      "\n",
      "Training a model for 1 epochs...\n"
     ]
    },
    {
     "name": "stderr",
     "output_type": "stream",
     "text": [
      "\n"
     ]
    },
    {
     "name": "stdout",
     "output_type": "stream",
     "text": [
      "IoU so far: 0.4096350542979665\n",
      "\n",
      "No more images in Unlabelled set\n",
      "Max IoU score: 0.4096350542979665\n",
      "----------------------------------------\n",
      "\n",
      "\n",
      "Samples selection function: Entropy\n",
      "------------------------------------\n",
      "\n",
      "Number of samples to label on one iteration, k=10\n",
      "------------------------------------\n",
      "Labelled set size:  20\n",
      "Unlabelled set size:  233\n",
      "\n",
      "Training a model for 1 epochs...\n"
     ]
    },
    {
     "name": "stderr",
     "output_type": "stream",
     "text": [
      "  1%|          | 2/233 [00:00<00:13, 17.18it/s]"
     ]
    },
    {
     "name": "stdout",
     "output_type": "stream",
     "text": [
      "IoU so far: 6.994630227585955e-05\n",
      "Inference on unlabelled data...\n"
     ]
    },
    {
     "name": "stderr",
     "output_type": "stream",
     "text": [
      "100%|██████████| 233/233 [00:15<00:00, 15.20it/s]"
     ]
    },
    {
     "name": "stdout",
     "output_type": "stream",
     "text": [
      "Min entropy: 5.25,             Mean Entropy: 5.48,             Max entropy: 5.66\n",
      "Labelled set size:  30\n",
      "Unlabelled set size:  223\n",
      "\n",
      "Training a model for 1 epochs...\n"
     ]
    },
    {
     "name": "stderr",
     "output_type": "stream",
     "text": [
      "\n",
      "  1%|          | 2/223 [00:00<00:13, 16.76it/s]"
     ]
    },
    {
     "name": "stdout",
     "output_type": "stream",
     "text": [
      "IoU so far: 0.00016012460615676594\n",
      "Inference on unlabelled data...\n"
     ]
    },
    {
     "name": "stderr",
     "output_type": "stream",
     "text": [
      "100%|██████████| 223/223 [00:15<00:00, 14.86it/s]"
     ]
    },
    {
     "name": "stdout",
     "output_type": "stream",
     "text": [
      "Min entropy: 5.01,             Mean Entropy: 5.43,             Max entropy: 5.56\n",
      "Labelled set size:  40\n",
      "Unlabelled set size:  213\n",
      "\n",
      "Training a model for 1 epochs...\n"
     ]
    },
    {
     "name": "stderr",
     "output_type": "stream",
     "text": [
      "\n",
      "  1%|          | 2/213 [00:00<00:12, 17.06it/s]"
     ]
    },
    {
     "name": "stdout",
     "output_type": "stream",
     "text": [
      "IoU so far: 0.050438809586633535\n",
      "Inference on unlabelled data...\n"
     ]
    },
    {
     "name": "stderr",
     "output_type": "stream",
     "text": [
      "100%|██████████| 213/213 [00:13<00:00, 15.28it/s]"
     ]
    },
    {
     "name": "stdout",
     "output_type": "stream",
     "text": [
      "Min entropy: 3.32,             Mean Entropy: 5.10,             Max entropy: 5.49\n",
      "Labelled set size:  50\n",
      "Unlabelled set size:  203\n",
      "\n",
      "Training a model for 1 epochs...\n"
     ]
    },
    {
     "name": "stderr",
     "output_type": "stream",
     "text": [
      "\n",
      "  1%|          | 2/203 [00:00<00:11, 18.09it/s]"
     ]
    },
    {
     "name": "stdout",
     "output_type": "stream",
     "text": [
      "IoU so far: 0.07818947621796393\n",
      "Inference on unlabelled data...\n"
     ]
    },
    {
     "name": "stderr",
     "output_type": "stream",
     "text": [
      "100%|██████████| 203/203 [00:11<00:00, 17.34it/s]"
     ]
    },
    {
     "name": "stdout",
     "output_type": "stream",
     "text": [
      "Min entropy: 2.26,             Mean Entropy: 4.16,             Max entropy: 5.42\n",
      "Labelled set size:  60\n",
      "Unlabelled set size:  193\n",
      "\n",
      "Training a model for 1 epochs...\n"
     ]
    },
    {
     "name": "stderr",
     "output_type": "stream",
     "text": [
      "\n",
      "  1%|          | 2/193 [00:00<00:10, 18.23it/s]"
     ]
    },
    {
     "name": "stdout",
     "output_type": "stream",
     "text": [
      "IoU so far: 0.0958978009253445\n",
      "Inference on unlabelled data...\n"
     ]
    },
    {
     "name": "stderr",
     "output_type": "stream",
     "text": [
      "100%|██████████| 193/193 [00:12<00:00, 15.77it/s]"
     ]
    },
    {
     "name": "stdout",
     "output_type": "stream",
     "text": [
      "Min entropy: 2.10,             Mean Entropy: 3.78,             Max entropy: 5.18\n",
      "Labelled set size:  70\n",
      "Unlabelled set size:  183\n",
      "\n",
      "Training a model for 1 epochs...\n"
     ]
    },
    {
     "name": "stderr",
     "output_type": "stream",
     "text": [
      "\n",
      "  1%|          | 2/183 [00:00<00:09, 18.86it/s]"
     ]
    },
    {
     "name": "stdout",
     "output_type": "stream",
     "text": [
      "IoU so far: 0.17896729574935277\n",
      "Inference on unlabelled data...\n"
     ]
    },
    {
     "name": "stderr",
     "output_type": "stream",
     "text": [
      "100%|██████████| 183/183 [00:11<00:00, 15.93it/s]"
     ]
    },
    {
     "name": "stdout",
     "output_type": "stream",
     "text": [
      "Min entropy: 2.22,             Mean Entropy: 4.02,             Max entropy: 5.11\n",
      "Labelled set size:  80\n",
      "Unlabelled set size:  173\n",
      "\n",
      "Training a model for 1 epochs...\n"
     ]
    },
    {
     "name": "stderr",
     "output_type": "stream",
     "text": [
      "\n",
      "  1%|          | 2/173 [00:00<00:08, 19.85it/s]"
     ]
    },
    {
     "name": "stdout",
     "output_type": "stream",
     "text": [
      "IoU so far: 0.2004988317442412\n",
      "Inference on unlabelled data...\n"
     ]
    },
    {
     "name": "stderr",
     "output_type": "stream",
     "text": [
      "100%|██████████| 173/173 [00:10<00:00, 16.78it/s]"
     ]
    },
    {
     "name": "stdout",
     "output_type": "stream",
     "text": [
      "Min entropy: 2.08,             Mean Entropy: 3.75,             Max entropy: 4.91\n",
      "Labelled set size:  90\n",
      "Unlabelled set size:  163\n",
      "\n",
      "Training a model for 1 epochs...\n"
     ]
    },
    {
     "name": "stderr",
     "output_type": "stream",
     "text": [
      "\n",
      "  1%|          | 2/163 [00:00<00:08, 18.99it/s]"
     ]
    },
    {
     "name": "stdout",
     "output_type": "stream",
     "text": [
      "IoU so far: 0.22681820923739143\n",
      "Inference on unlabelled data...\n"
     ]
    },
    {
     "name": "stderr",
     "output_type": "stream",
     "text": [
      "100%|██████████| 163/163 [00:10<00:00, 16.13it/s]"
     ]
    },
    {
     "name": "stdout",
     "output_type": "stream",
     "text": [
      "Min entropy: 2.13,             Mean Entropy: 3.48,             Max entropy: 4.80\n",
      "Labelled set size:  100\n",
      "Unlabelled set size:  153\n",
      "\n",
      "Training a model for 1 epochs...\n"
     ]
    },
    {
     "name": "stderr",
     "output_type": "stream",
     "text": [
      "\n",
      "  1%|▏         | 2/153 [00:00<00:07, 19.43it/s]"
     ]
    },
    {
     "name": "stdout",
     "output_type": "stream",
     "text": [
      "IoU so far: 0.23866665392819014\n",
      "Inference on unlabelled data...\n"
     ]
    },
    {
     "name": "stderr",
     "output_type": "stream",
     "text": [
      "100%|██████████| 153/153 [00:09<00:00, 16.03it/s]"
     ]
    },
    {
     "name": "stdout",
     "output_type": "stream",
     "text": [
      "Min entropy: 2.04,             Mean Entropy: 3.17,             Max entropy: 4.43\n",
      "Labelled set size:  110\n",
      "Unlabelled set size:  143\n",
      "\n",
      "Training a model for 1 epochs...\n"
     ]
    },
    {
     "name": "stderr",
     "output_type": "stream",
     "text": [
      "\n",
      "  1%|▏         | 2/143 [00:00<00:07, 19.78it/s]"
     ]
    },
    {
     "name": "stdout",
     "output_type": "stream",
     "text": [
      "IoU so far: 0.41730115850373073\n",
      "Inference on unlabelled data...\n"
     ]
    },
    {
     "name": "stderr",
     "output_type": "stream",
     "text": [
      "100%|██████████| 143/143 [00:08<00:00, 15.89it/s]"
     ]
    },
    {
     "name": "stdout",
     "output_type": "stream",
     "text": [
      "Min entropy: 1.90,             Mean Entropy: 2.73,             Max entropy: 3.55\n",
      "Labelled set size:  120\n",
      "Unlabelled set size:  133\n",
      "\n",
      "Training a model for 1 epochs...\n"
     ]
    },
    {
     "name": "stderr",
     "output_type": "stream",
     "text": [
      "\n",
      "  2%|▏         | 2/133 [00:00<00:06, 19.84it/s]"
     ]
    },
    {
     "name": "stdout",
     "output_type": "stream",
     "text": [
      "IoU so far: 0.4471842705613316\n",
      "Inference on unlabelled data...\n"
     ]
    },
    {
     "name": "stderr",
     "output_type": "stream",
     "text": [
      "100%|██████████| 133/133 [00:08<00:00, 16.30it/s]"
     ]
    },
    {
     "name": "stdout",
     "output_type": "stream",
     "text": [
      "Min entropy: 1.68,             Mean Entropy: 2.33,             Max entropy: 3.10\n",
      "Labelled set size:  130\n",
      "Unlabelled set size:  123\n",
      "\n",
      "Training a model for 1 epochs...\n"
     ]
    },
    {
     "name": "stderr",
     "output_type": "stream",
     "text": [
      "\n",
      "  2%|▏         | 2/123 [00:00<00:06, 19.11it/s]"
     ]
    },
    {
     "name": "stdout",
     "output_type": "stream",
     "text": [
      "IoU so far: 0.48804014832666615\n",
      "Inference on unlabelled data...\n"
     ]
    },
    {
     "name": "stderr",
     "output_type": "stream",
     "text": [
      "100%|██████████| 123/123 [00:07<00:00, 16.47it/s]"
     ]
    },
    {
     "name": "stdout",
     "output_type": "stream",
     "text": [
      "Min entropy: 1.55,             Mean Entropy: 2.22,             Max entropy: 2.83\n",
      "Labelled set size:  140\n",
      "Unlabelled set size:  113\n",
      "\n",
      "Training a model for 1 epochs...\n"
     ]
    },
    {
     "name": "stderr",
     "output_type": "stream",
     "text": [
      "\n",
      "  2%|▏         | 2/113 [00:00<00:06, 18.48it/s]"
     ]
    },
    {
     "name": "stdout",
     "output_type": "stream",
     "text": [
      "IoU so far: 0.49631688647931166\n",
      "Inference on unlabelled data...\n"
     ]
    },
    {
     "name": "stderr",
     "output_type": "stream",
     "text": [
      "100%|██████████| 113/113 [00:06<00:00, 16.97it/s]"
     ]
    },
    {
     "name": "stdout",
     "output_type": "stream",
     "text": [
      "Min entropy: 1.43,             Mean Entropy: 1.94,             Max entropy: 2.58\n",
      "Labelled set size:  150\n",
      "Unlabelled set size:  103\n",
      "\n",
      "Training a model for 1 epochs...\n"
     ]
    },
    {
     "name": "stderr",
     "output_type": "stream",
     "text": [
      "\n",
      "  2%|▏         | 2/103 [00:00<00:05, 19.43it/s]"
     ]
    },
    {
     "name": "stdout",
     "output_type": "stream",
     "text": [
      "IoU so far: 0.5174184887125941\n",
      "Inference on unlabelled data...\n"
     ]
    },
    {
     "name": "stderr",
     "output_type": "stream",
     "text": [
      "100%|██████████| 103/103 [00:05<00:00, 18.56it/s]"
     ]
    },
    {
     "name": "stdout",
     "output_type": "stream",
     "text": [
      "Min entropy: 1.26,             Mean Entropy: 1.69,             Max entropy: 2.06\n",
      "Labelled set size:  160\n",
      "Unlabelled set size:  93\n",
      "\n",
      "Training a model for 1 epochs...\n"
     ]
    },
    {
     "name": "stderr",
     "output_type": "stream",
     "text": [
      "\n",
      "  2%|▏         | 2/93 [00:00<00:04, 19.44it/s]"
     ]
    },
    {
     "name": "stdout",
     "output_type": "stream",
     "text": [
      "IoU so far: 0.5196969054713111\n",
      "Inference on unlabelled data...\n"
     ]
    },
    {
     "name": "stderr",
     "output_type": "stream",
     "text": [
      "100%|██████████| 93/93 [00:05<00:00, 17.36it/s]"
     ]
    },
    {
     "name": "stdout",
     "output_type": "stream",
     "text": [
      "Min entropy: 1.17,             Mean Entropy: 1.55,             Max entropy: 1.90\n",
      "Labelled set size:  170\n",
      "Unlabelled set size:  83\n",
      "\n",
      "Training a model for 1 epochs...\n"
     ]
    },
    {
     "name": "stderr",
     "output_type": "stream",
     "text": [
      "\n",
      "  2%|▏         | 2/83 [00:00<00:06, 13.25it/s]"
     ]
    },
    {
     "name": "stdout",
     "output_type": "stream",
     "text": [
      "IoU so far: 0.5144777159289557\n",
      "Inference on unlabelled data...\n"
     ]
    },
    {
     "name": "stderr",
     "output_type": "stream",
     "text": [
      "100%|██████████| 83/83 [00:05<00:00, 16.24it/s]"
     ]
    },
    {
     "name": "stdout",
     "output_type": "stream",
     "text": [
      "Min entropy: 1.00,             Mean Entropy: 1.33,             Max entropy: 1.71\n",
      "Labelled set size:  180\n",
      "Unlabelled set size:  73\n",
      "\n",
      "Training a model for 1 epochs...\n"
     ]
    },
    {
     "name": "stderr",
     "output_type": "stream",
     "text": [
      "\n",
      "  3%|▎         | 2/73 [00:00<00:04, 17.68it/s]"
     ]
    },
    {
     "name": "stdout",
     "output_type": "stream",
     "text": [
      "IoU so far: 0.5270985356061766\n",
      "Inference on unlabelled data...\n"
     ]
    },
    {
     "name": "stderr",
     "output_type": "stream",
     "text": [
      "100%|██████████| 73/73 [00:04<00:00, 17.34it/s]"
     ]
    },
    {
     "name": "stdout",
     "output_type": "stream",
     "text": [
      "Min entropy: 0.93,             Mean Entropy: 1.20,             Max entropy: 1.50\n",
      "Labelled set size:  190\n",
      "Unlabelled set size:  63\n",
      "\n",
      "Training a model for 1 epochs...\n"
     ]
    },
    {
     "name": "stderr",
     "output_type": "stream",
     "text": [
      "\n",
      "  3%|▎         | 2/63 [00:00<00:03, 18.74it/s]"
     ]
    },
    {
     "name": "stdout",
     "output_type": "stream",
     "text": [
      "IoU so far: 0.5803580930327422\n",
      "Inference on unlabelled data...\n"
     ]
    },
    {
     "name": "stderr",
     "output_type": "stream",
     "text": [
      "100%|██████████| 63/63 [00:03<00:00, 18.49it/s]"
     ]
    },
    {
     "name": "stdout",
     "output_type": "stream",
     "text": [
      "Min entropy: 0.80,             Mean Entropy: 1.05,             Max entropy: 1.27\n",
      "Labelled set size:  200\n",
      "Unlabelled set size:  53\n",
      "\n",
      "Training a model for 1 epochs...\n"
     ]
    },
    {
     "name": "stderr",
     "output_type": "stream",
     "text": [
      "\n",
      "  4%|▍         | 2/53 [00:00<00:02, 18.32it/s]"
     ]
    },
    {
     "name": "stdout",
     "output_type": "stream",
     "text": [
      "IoU so far: 0.6881398847787686\n",
      "Inference on unlabelled data...\n"
     ]
    },
    {
     "name": "stderr",
     "output_type": "stream",
     "text": [
      "100%|██████████| 53/53 [00:03<00:00, 17.58it/s]"
     ]
    },
    {
     "name": "stdout",
     "output_type": "stream",
     "text": [
      "Min entropy: 0.74,             Mean Entropy: 0.97,             Max entropy: 1.19\n",
      "Labelled set size:  210\n",
      "Unlabelled set size:  43\n",
      "\n",
      "Training a model for 1 epochs...\n"
     ]
    },
    {
     "name": "stderr",
     "output_type": "stream",
     "text": [
      "\n",
      "  5%|▍         | 2/43 [00:00<00:02, 19.09it/s]"
     ]
    },
    {
     "name": "stdout",
     "output_type": "stream",
     "text": [
      "IoU so far: 0.7286685593057386\n",
      "Inference on unlabelled data...\n"
     ]
    },
    {
     "name": "stderr",
     "output_type": "stream",
     "text": [
      "100%|██████████| 43/43 [00:02<00:00, 18.78it/s]"
     ]
    },
    {
     "name": "stdout",
     "output_type": "stream",
     "text": [
      "Min entropy: 0.73,             Mean Entropy: 0.95,             Max entropy: 1.11\n",
      "Labelled set size:  220\n",
      "Unlabelled set size:  33\n",
      "\n",
      "Training a model for 1 epochs...\n"
     ]
    },
    {
     "name": "stderr",
     "output_type": "stream",
     "text": [
      "\n",
      "  6%|▌         | 2/33 [00:00<00:01, 17.75it/s]"
     ]
    },
    {
     "name": "stdout",
     "output_type": "stream",
     "text": [
      "IoU so far: 0.7306915167534704\n",
      "Inference on unlabelled data...\n"
     ]
    },
    {
     "name": "stderr",
     "output_type": "stream",
     "text": [
      "100%|██████████| 33/33 [00:01<00:00, 17.70it/s]\n"
     ]
    },
    {
     "name": "stdout",
     "output_type": "stream",
     "text": [
      "Min entropy: 0.56,             Mean Entropy: 0.74,             Max entropy: 0.86\n",
      "Max IoU score: 0.7306915167534704\n",
      "----------------------------------------\n",
      "\n",
      "\n",
      "Number of samples to label on one iteration, k=20\n",
      "------------------------------------\n",
      "Labelled set size:  20\n",
      "Unlabelled set size:  233\n",
      "\n",
      "Training a model for 1 epochs...\n"
     ]
    },
    {
     "name": "stderr",
     "output_type": "stream",
     "text": [
      "  1%|          | 2/233 [00:00<00:14, 16.39it/s]"
     ]
    },
    {
     "name": "stdout",
     "output_type": "stream",
     "text": [
      "IoU so far: 5.425345674467919e-13\n",
      "Inference on unlabelled data...\n"
     ]
    },
    {
     "name": "stderr",
     "output_type": "stream",
     "text": [
      "100%|██████████| 233/233 [00:14<00:00, 15.60it/s]"
     ]
    },
    {
     "name": "stdout",
     "output_type": "stream",
     "text": [
      "Min entropy: 5.23,             Mean Entropy: 5.32,             Max entropy: 5.44\n",
      "Labelled set size:  40\n",
      "Unlabelled set size:  213\n",
      "\n",
      "Training a model for 1 epochs...\n"
     ]
    },
    {
     "name": "stderr",
     "output_type": "stream",
     "text": [
      "\n",
      "  1%|          | 2/213 [00:00<00:12, 16.63it/s]"
     ]
    },
    {
     "name": "stdout",
     "output_type": "stream",
     "text": [
      "IoU so far: 0.0004058003284602191\n",
      "Inference on unlabelled data...\n"
     ]
    },
    {
     "name": "stderr",
     "output_type": "stream",
     "text": [
      "100%|██████████| 213/213 [00:14<00:00, 14.47it/s]"
     ]
    },
    {
     "name": "stdout",
     "output_type": "stream",
     "text": [
      "Min entropy: 4.96,             Mean Entropy: 5.36,             Max entropy: 5.58\n",
      "Labelled set size:  60\n",
      "Unlabelled set size:  193\n",
      "\n",
      "Training a model for 1 epochs...\n"
     ]
    },
    {
     "name": "stderr",
     "output_type": "stream",
     "text": [
      "\n",
      "  1%|          | 2/193 [00:00<00:10, 18.19it/s]"
     ]
    },
    {
     "name": "stdout",
     "output_type": "stream",
     "text": [
      "IoU so far: 0.37647013439990507\n",
      "Inference on unlabelled data...\n"
     ]
    },
    {
     "name": "stderr",
     "output_type": "stream",
     "text": [
      "100%|██████████| 193/193 [00:12<00:00, 15.87it/s]"
     ]
    },
    {
     "name": "stdout",
     "output_type": "stream",
     "text": [
      "Min entropy: 1.62,             Mean Entropy: 2.92,             Max entropy: 5.15\n",
      "Labelled set size:  80\n",
      "Unlabelled set size:  173\n",
      "\n",
      "Training a model for 1 epochs...\n"
     ]
    },
    {
     "name": "stderr",
     "output_type": "stream",
     "text": [
      "\n",
      "  1%|          | 2/173 [00:00<00:10, 16.00it/s]"
     ]
    },
    {
     "name": "stdout",
     "output_type": "stream",
     "text": [
      "IoU so far: 0.4501589808133568\n",
      "Inference on unlabelled data...\n"
     ]
    },
    {
     "name": "stderr",
     "output_type": "stream",
     "text": [
      "100%|██████████| 173/173 [00:11<00:00, 15.27it/s]"
     ]
    },
    {
     "name": "stdout",
     "output_type": "stream",
     "text": [
      "Min entropy: 1.90,             Mean Entropy: 2.70,             Max entropy: 3.95\n",
      "Labelled set size:  100\n",
      "Unlabelled set size:  153\n",
      "\n",
      "Training a model for 1 epochs...\n"
     ]
    },
    {
     "name": "stderr",
     "output_type": "stream",
     "text": [
      "\n",
      "  1%|▏         | 2/153 [00:00<00:08, 16.95it/s]"
     ]
    },
    {
     "name": "stdout",
     "output_type": "stream",
     "text": [
      "IoU so far: 0.48335596919059737\n",
      "Inference on unlabelled data...\n"
     ]
    },
    {
     "name": "stderr",
     "output_type": "stream",
     "text": [
      "100%|██████████| 153/153 [00:08<00:00, 17.20it/s]"
     ]
    },
    {
     "name": "stdout",
     "output_type": "stream",
     "text": [
      "Min entropy: 2.14,             Mean Entropy: 2.62,             Max entropy: 3.14\n",
      "Labelled set size:  120\n",
      "Unlabelled set size:  133\n",
      "\n",
      "Training a model for 1 epochs...\n"
     ]
    },
    {
     "name": "stderr",
     "output_type": "stream",
     "text": [
      "\n",
      "  2%|▏         | 2/133 [00:00<00:07, 16.84it/s]"
     ]
    },
    {
     "name": "stdout",
     "output_type": "stream",
     "text": [
      "IoU so far: 0.5386328906706067\n",
      "Inference on unlabelled data...\n"
     ]
    },
    {
     "name": "stderr",
     "output_type": "stream",
     "text": [
      "100%|██████████| 133/133 [00:07<00:00, 17.29it/s]"
     ]
    },
    {
     "name": "stdout",
     "output_type": "stream",
     "text": [
      "Min entropy: 2.19,             Mean Entropy: 2.60,             Max entropy: 3.00\n",
      "Labelled set size:  140\n",
      "Unlabelled set size:  113\n",
      "\n",
      "Training a model for 1 epochs...\n"
     ]
    },
    {
     "name": "stderr",
     "output_type": "stream",
     "text": [
      "\n",
      "  2%|▏         | 2/113 [00:00<00:06, 17.39it/s]"
     ]
    },
    {
     "name": "stdout",
     "output_type": "stream",
     "text": [
      "IoU so far: 0.6012771029283502\n",
      "Inference on unlabelled data...\n"
     ]
    },
    {
     "name": "stderr",
     "output_type": "stream",
     "text": [
      "100%|██████████| 113/113 [00:06<00:00, 17.77it/s]"
     ]
    },
    {
     "name": "stdout",
     "output_type": "stream",
     "text": [
      "Min entropy: 2.01,             Mean Entropy: 2.33,             Max entropy: 2.60\n",
      "Labelled set size:  160\n",
      "Unlabelled set size:  93\n",
      "\n",
      "Training a model for 1 epochs...\n"
     ]
    },
    {
     "name": "stderr",
     "output_type": "stream",
     "text": [
      "\n",
      "  2%|▏         | 2/93 [00:00<00:05, 16.02it/s]"
     ]
    },
    {
     "name": "stdout",
     "output_type": "stream",
     "text": [
      "IoU so far: 0.6360212617581432\n",
      "Inference on unlabelled data...\n"
     ]
    },
    {
     "name": "stderr",
     "output_type": "stream",
     "text": [
      "100%|██████████| 93/93 [00:05<00:00, 17.82it/s]"
     ]
    },
    {
     "name": "stdout",
     "output_type": "stream",
     "text": [
      "Min entropy: 1.68,             Mean Entropy: 1.95,             Max entropy: 2.20\n",
      "Labelled set size:  180\n",
      "Unlabelled set size:  73\n",
      "\n",
      "Training a model for 1 epochs...\n"
     ]
    },
    {
     "name": "stderr",
     "output_type": "stream",
     "text": [
      "\n",
      "  3%|▎         | 2/73 [00:00<00:03, 18.25it/s]"
     ]
    },
    {
     "name": "stdout",
     "output_type": "stream",
     "text": [
      "IoU so far: 0.6632510624309578\n",
      "Inference on unlabelled data...\n"
     ]
    },
    {
     "name": "stderr",
     "output_type": "stream",
     "text": [
      "100%|██████████| 73/73 [00:03<00:00, 18.25it/s]"
     ]
    },
    {
     "name": "stdout",
     "output_type": "stream",
     "text": [
      "Min entropy: 1.50,             Mean Entropy: 1.77,             Max entropy: 1.92\n",
      "Labelled set size:  200\n",
      "Unlabelled set size:  53\n",
      "\n",
      "Training a model for 1 epochs...\n"
     ]
    },
    {
     "name": "stderr",
     "output_type": "stream",
     "text": [
      "\n",
      "  4%|▍         | 2/53 [00:00<00:04, 12.64it/s]"
     ]
    },
    {
     "name": "stdout",
     "output_type": "stream",
     "text": [
      "IoU so far: 0.6857460867060292\n",
      "Inference on unlabelled data...\n"
     ]
    },
    {
     "name": "stderr",
     "output_type": "stream",
     "text": [
      "100%|██████████| 53/53 [00:03<00:00, 14.55it/s]"
     ]
    },
    {
     "name": "stdout",
     "output_type": "stream",
     "text": [
      "Min entropy: 1.26,             Mean Entropy: 1.48,             Max entropy: 1.63\n",
      "Labelled set size:  220\n",
      "Unlabelled set size:  33\n",
      "\n",
      "Training a model for 1 epochs...\n"
     ]
    },
    {
     "name": "stderr",
     "output_type": "stream",
     "text": [
      "\n",
      "  6%|▌         | 2/33 [00:00<00:01, 18.21it/s]"
     ]
    },
    {
     "name": "stdout",
     "output_type": "stream",
     "text": [
      "IoU so far: 0.6833266869629967\n",
      "Inference on unlabelled data...\n"
     ]
    },
    {
     "name": "stderr",
     "output_type": "stream",
     "text": [
      "100%|██████████| 33/33 [00:01<00:00, 18.49it/s]\n"
     ]
    },
    {
     "name": "stdout",
     "output_type": "stream",
     "text": [
      "Min entropy: 0.92,             Mean Entropy: 1.07,             Max entropy: 1.18\n",
      "Max IoU score: 0.6857460867060292\n",
      "----------------------------------------\n",
      "\n",
      "\n",
      "Number of samples to label on one iteration, k=40\n",
      "------------------------------------\n",
      "Labelled set size:  20\n",
      "Unlabelled set size:  233\n",
      "\n",
      "Training a model for 1 epochs...\n"
     ]
    },
    {
     "name": "stderr",
     "output_type": "stream",
     "text": [
      "  0%|          | 1/233 [00:00<00:24,  9.52it/s]"
     ]
    },
    {
     "name": "stdout",
     "output_type": "stream",
     "text": [
      "IoU so far: 1.5037956570131226e-06\n",
      "Inference on unlabelled data...\n"
     ]
    },
    {
     "name": "stderr",
     "output_type": "stream",
     "text": [
      "100%|██████████| 233/233 [00:16<00:00, 14.43it/s]"
     ]
    },
    {
     "name": "stdout",
     "output_type": "stream",
     "text": [
      "Min entropy: 5.22,             Mean Entropy: 5.37,             Max entropy: 5.54\n",
      "Labelled set size:  60\n",
      "Unlabelled set size:  193\n",
      "\n",
      "Training a model for 1 epochs...\n"
     ]
    },
    {
     "name": "stderr",
     "output_type": "stream",
     "text": [
      "\n",
      "  1%|          | 2/193 [00:00<00:11, 16.15it/s]"
     ]
    },
    {
     "name": "stdout",
     "output_type": "stream",
     "text": [
      "IoU so far: 0.025499284705423786\n",
      "Inference on unlabelled data...\n"
     ]
    },
    {
     "name": "stderr",
     "output_type": "stream",
     "text": [
      "100%|██████████| 193/193 [00:11<00:00, 16.12it/s]"
     ]
    },
    {
     "name": "stdout",
     "output_type": "stream",
     "text": [
      "Min entropy: 3.73,             Mean Entropy: 5.06,             Max entropy: 5.46\n",
      "Labelled set size:  100\n",
      "Unlabelled set size:  153\n",
      "\n",
      "Training a model for 1 epochs...\n"
     ]
    },
    {
     "name": "stderr",
     "output_type": "stream",
     "text": [
      "\n",
      "  1%|▏         | 2/153 [00:00<00:08, 18.07it/s]"
     ]
    },
    {
     "name": "stdout",
     "output_type": "stream",
     "text": [
      "IoU so far: 0.1689575440665283\n",
      "Inference on unlabelled data...\n"
     ]
    },
    {
     "name": "stderr",
     "output_type": "stream",
     "text": [
      "100%|██████████| 153/153 [00:09<00:00, 16.31it/s]"
     ]
    },
    {
     "name": "stdout",
     "output_type": "stream",
     "text": [
      "Min entropy: 2.74,             Mean Entropy: 3.40,             Max entropy: 5.03\n",
      "Labelled set size:  140\n",
      "Unlabelled set size:  113\n",
      "\n",
      "Training a model for 1 epochs...\n"
     ]
    },
    {
     "name": "stderr",
     "output_type": "stream",
     "text": [
      "\n",
      "  2%|▏         | 2/113 [00:00<00:06, 17.46it/s]"
     ]
    },
    {
     "name": "stdout",
     "output_type": "stream",
     "text": [
      "IoU so far: 0.4223520018086575\n",
      "Inference on unlabelled data...\n"
     ]
    },
    {
     "name": "stderr",
     "output_type": "stream",
     "text": [
      "100%|██████████| 113/113 [00:06<00:00, 16.92it/s]"
     ]
    },
    {
     "name": "stdout",
     "output_type": "stream",
     "text": [
      "Min entropy: 2.22,             Mean Entropy: 2.60,             Max entropy: 3.01\n",
      "Labelled set size:  180\n",
      "Unlabelled set size:  73\n",
      "\n",
      "Training a model for 1 epochs...\n"
     ]
    },
    {
     "name": "stderr",
     "output_type": "stream",
     "text": [
      "\n",
      "  3%|▎         | 2/73 [00:00<00:04, 16.48it/s]"
     ]
    },
    {
     "name": "stdout",
     "output_type": "stream",
     "text": [
      "IoU so far: 0.6345110175633193\n",
      "Inference on unlabelled data...\n"
     ]
    },
    {
     "name": "stderr",
     "output_type": "stream",
     "text": [
      "100%|██████████| 73/73 [00:04<00:00, 17.08it/s]"
     ]
    },
    {
     "name": "stdout",
     "output_type": "stream",
     "text": [
      "Min entropy: 2.01,             Mean Entropy: 2.25,             Max entropy: 2.46\n",
      "Labelled set size:  220\n",
      "Unlabelled set size:  33\n",
      "\n",
      "Training a model for 1 epochs...\n"
     ]
    },
    {
     "name": "stderr",
     "output_type": "stream",
     "text": [
      "\n"
     ]
    },
    {
     "name": "stdout",
     "output_type": "stream",
     "text": [
      "IoU so far: 0.6895553770631847\n",
      "\n",
      "No more images in Unlabelled set\n",
      "Max IoU score: 0.6895553770631847\n",
      "----------------------------------------\n",
      "\n",
      "\n",
      "Number of samples to label on one iteration, k=60\n",
      "------------------------------------\n",
      "Labelled set size:  20\n",
      "Unlabelled set size:  233\n",
      "\n",
      "Training a model for 1 epochs...\n"
     ]
    },
    {
     "name": "stderr",
     "output_type": "stream",
     "text": [
      "  1%|          | 2/233 [00:00<00:15, 15.19it/s]"
     ]
    },
    {
     "name": "stdout",
     "output_type": "stream",
     "text": [
      "IoU so far: 2.701789915986887e-05\n",
      "Inference on unlabelled data...\n"
     ]
    },
    {
     "name": "stderr",
     "output_type": "stream",
     "text": [
      "100%|██████████| 233/233 [00:14<00:00, 15.57it/s]"
     ]
    },
    {
     "name": "stdout",
     "output_type": "stream",
     "text": [
      "Min entropy: 5.19,             Mean Entropy: 5.33,             Max entropy: 5.55\n",
      "Labelled set size:  80\n",
      "Unlabelled set size:  173\n",
      "\n",
      "Training a model for 1 epochs...\n"
     ]
    },
    {
     "name": "stderr",
     "output_type": "stream",
     "text": [
      "\n",
      "  1%|          | 2/173 [00:00<00:14, 12.00it/s]"
     ]
    },
    {
     "name": "stdout",
     "output_type": "stream",
     "text": [
      "IoU so far: 0.129863325026956\n",
      "Inference on unlabelled data...\n"
     ]
    },
    {
     "name": "stderr",
     "output_type": "stream",
     "text": [
      "100%|██████████| 173/173 [00:11<00:00, 15.34it/s]"
     ]
    },
    {
     "name": "stdout",
     "output_type": "stream",
     "text": [
      "Min entropy: 2.33,             Mean Entropy: 4.11,             Max entropy: 5.42\n",
      "Labelled set size:  140\n",
      "Unlabelled set size:  113\n",
      "\n",
      "Training a model for 1 epochs...\n"
     ]
    },
    {
     "name": "stderr",
     "output_type": "stream",
     "text": [
      "\n",
      "  2%|▏         | 2/113 [00:00<00:09, 12.12it/s]"
     ]
    },
    {
     "name": "stdout",
     "output_type": "stream",
     "text": [
      "IoU so far: 0.35770352701149355\n",
      "Inference on unlabelled data...\n"
     ]
    },
    {
     "name": "stderr",
     "output_type": "stream",
     "text": [
      "100%|██████████| 113/113 [00:07<00:00, 15.31it/s]"
     ]
    },
    {
     "name": "stdout",
     "output_type": "stream",
     "text": [
      "Min entropy: 2.07,             Mean Entropy: 2.71,             Max entropy: 4.17\n",
      "Labelled set size:  200\n",
      "Unlabelled set size:  53\n",
      "\n",
      "Training a model for 1 epochs...\n"
     ]
    },
    {
     "name": "stderr",
     "output_type": "stream",
     "text": [
      "\n"
     ]
    },
    {
     "name": "stdout",
     "output_type": "stream",
     "text": [
      "IoU so far: 0.3880877757426538\n",
      "\n",
      "No more images in Unlabelled set\n",
      "Max IoU score: 0.3880877757426538\n",
      "----------------------------------------\n",
      "\n",
      "\n",
      "Model name: Linknet\n",
      "------------------------------------\n",
      "\n",
      "Samples selection function: Random\n",
      "------------------------------------\n",
      "\n",
      "Number of samples to label on one iteration, k=10\n",
      "------------------------------------\n",
      "Labelled set size:  20\n",
      "Unlabelled set size:  233\n",
      "\n",
      "Training a model for 1 epochs...\n",
      "IoU so far: 5.425347129016378e-13\n",
      "Labelled set size:  30\n",
      "Unlabelled set size:  223\n",
      "\n",
      "Training a model for 1 epochs...\n",
      "IoU so far: 5.425347129016378e-13\n",
      "Labelled set size:  40\n",
      "Unlabelled set size:  213\n",
      "\n",
      "Training a model for 1 epochs...\n",
      "IoU so far: 5.425347129016378e-13\n",
      "Labelled set size:  50\n",
      "Unlabelled set size:  203\n",
      "\n",
      "Training a model for 1 epochs...\n",
      "IoU so far: 5.425347129016378e-13\n",
      "Labelled set size:  60\n",
      "Unlabelled set size:  193\n",
      "\n",
      "Training a model for 1 epochs...\n",
      "IoU so far: 0.0022388936543726533\n",
      "Labelled set size:  70\n",
      "Unlabelled set size:  183\n",
      "\n",
      "Training a model for 1 epochs...\n",
      "IoU so far: 0.040972710651631404\n",
      "Labelled set size:  80\n",
      "Unlabelled set size:  173\n",
      "\n",
      "Training a model for 1 epochs...\n",
      "IoU so far: 0.06844259366983234\n",
      "Labelled set size:  90\n",
      "Unlabelled set size:  163\n",
      "\n",
      "Training a model for 1 epochs...\n",
      "IoU so far: 0.07851825027477623\n",
      "Labelled set size:  100\n",
      "Unlabelled set size:  153\n",
      "\n",
      "Training a model for 1 epochs...\n",
      "IoU so far: 0.08556279635960513\n",
      "Labelled set size:  110\n",
      "Unlabelled set size:  143\n",
      "\n",
      "Training a model for 1 epochs...\n",
      "IoU so far: 0.08695551922710813\n",
      "Labelled set size:  120\n",
      "Unlabelled set size:  133\n",
      "\n",
      "Training a model for 1 epochs...\n",
      "IoU so far: 0.08746588244886684\n",
      "Labelled set size:  130\n",
      "Unlabelled set size:  123\n",
      "\n",
      "Training a model for 1 epochs...\n",
      "IoU so far: 0.09376880069180286\n",
      "Labelled set size:  140\n",
      "Unlabelled set size:  113\n",
      "\n",
      "Training a model for 1 epochs...\n",
      "IoU so far: 0.0938794602556984\n",
      "Labelled set size:  150\n",
      "Unlabelled set size:  103\n",
      "\n",
      "Training a model for 1 epochs...\n",
      "IoU so far: 0.09457885193647729\n",
      "Labelled set size:  160\n",
      "Unlabelled set size:  93\n",
      "\n",
      "Training a model for 1 epochs...\n",
      "IoU so far: 0.09581473373835628\n",
      "Labelled set size:  170\n",
      "Unlabelled set size:  83\n",
      "\n",
      "Training a model for 1 epochs...\n",
      "IoU so far: 0.10527267100492328\n",
      "Labelled set size:  180\n",
      "Unlabelled set size:  73\n",
      "\n",
      "Training a model for 1 epochs...\n",
      "IoU so far: 0.13330914198171978\n",
      "Labelled set size:  190\n",
      "Unlabelled set size:  63\n",
      "\n",
      "Training a model for 1 epochs...\n",
      "IoU so far: 0.17852605259654536\n",
      "Labelled set size:  200\n",
      "Unlabelled set size:  53\n",
      "\n",
      "Training a model for 1 epochs...\n",
      "IoU so far: 0.23977897530144973\n",
      "Labelled set size:  210\n",
      "Unlabelled set size:  43\n",
      "\n",
      "Training a model for 1 epochs...\n",
      "IoU so far: 0.2715654216780521\n",
      "Labelled set size:  220\n",
      "Unlabelled set size:  33\n",
      "\n",
      "Training a model for 1 epochs...\n",
      "IoU so far: 0.29760492792223936\n",
      "Max IoU score: 0.29760492792223936\n",
      "----------------------------------------\n",
      "\n",
      "\n",
      "Number of samples to label on one iteration, k=20\n",
      "------------------------------------\n",
      "Labelled set size:  20\n",
      "Unlabelled set size:  233\n",
      "\n",
      "Training a model for 1 epochs...\n",
      "IoU so far: 5.425347129016378e-13\n",
      "Labelled set size:  40\n",
      "Unlabelled set size:  213\n",
      "\n",
      "Training a model for 1 epochs...\n",
      "IoU so far: 5.425347129016378e-13\n",
      "Labelled set size:  60\n",
      "Unlabelled set size:  193\n",
      "\n",
      "Training a model for 1 epochs...\n",
      "IoU so far: 5.425347129016378e-13\n",
      "Labelled set size:  80\n",
      "Unlabelled set size:  173\n",
      "\n",
      "Training a model for 1 epochs...\n",
      "IoU so far: 0.00020132488349523234\n",
      "Labelled set size:  100\n",
      "Unlabelled set size:  153\n",
      "\n",
      "Training a model for 1 epochs...\n",
      "IoU so far: 0.03515666581247702\n",
      "Labelled set size:  120\n",
      "Unlabelled set size:  133\n",
      "\n",
      "Training a model for 1 epochs...\n",
      "IoU so far: 0.07142684184531171\n",
      "Labelled set size:  140\n",
      "Unlabelled set size:  113\n",
      "\n",
      "Training a model for 1 epochs...\n",
      "IoU so far: 0.08261783376778704\n",
      "Labelled set size:  160\n",
      "Unlabelled set size:  93\n",
      "\n",
      "Training a model for 1 epochs...\n",
      "IoU so far: 0.09834247554587847\n",
      "Labelled set size:  180\n",
      "Unlabelled set size:  73\n",
      "\n",
      "Training a model for 1 epochs...\n",
      "IoU so far: 0.10582174943520294\n",
      "Labelled set size:  200\n",
      "Unlabelled set size:  53\n",
      "\n",
      "Training a model for 1 epochs...\n",
      "IoU so far: 0.13426842363459052\n",
      "Labelled set size:  220\n",
      "Unlabelled set size:  33\n",
      "\n",
      "Training a model for 1 epochs...\n",
      "IoU so far: 0.2959467883747403\n",
      "Max IoU score: 0.2959467883747403\n",
      "----------------------------------------\n",
      "\n",
      "\n",
      "Number of samples to label on one iteration, k=40\n",
      "------------------------------------\n",
      "Labelled set size:  20\n",
      "Unlabelled set size:  233\n",
      "\n",
      "Training a model for 1 epochs...\n",
      "IoU so far: 5.425347129016378e-13\n",
      "Labelled set size:  60\n",
      "Unlabelled set size:  193\n",
      "\n",
      "Training a model for 1 epochs...\n",
      "IoU so far: 5.425347129016378e-13\n",
      "Labelled set size:  100\n",
      "Unlabelled set size:  153\n",
      "\n",
      "Training a model for 1 epochs...\n",
      "IoU so far: 6.71444287786522e-06\n",
      "Labelled set size:  140\n",
      "Unlabelled set size:  113\n",
      "\n",
      "Training a model for 1 epochs...\n",
      "IoU so far: 0.07318123308296247\n",
      "Labelled set size:  180\n",
      "Unlabelled set size:  73\n",
      "\n",
      "Training a model for 1 epochs...\n",
      "IoU so far: 0.13537139128340356\n",
      "Labelled set size:  220\n",
      "Unlabelled set size:  33\n",
      "\n",
      "Training a model for 1 epochs...\n",
      "IoU so far: 0.21790134154333926\n",
      "\n",
      "No more images in Unlabelled set\n",
      "Max IoU score: 0.21790134154333926\n",
      "----------------------------------------\n",
      "\n",
      "\n",
      "Number of samples to label on one iteration, k=60\n",
      "------------------------------------\n",
      "Labelled set size:  20\n",
      "Unlabelled set size:  233\n",
      "\n",
      "Training a model for 1 epochs...\n",
      "IoU so far: 5.425347129016378e-13\n",
      "Labelled set size:  80\n",
      "Unlabelled set size:  173\n",
      "\n",
      "Training a model for 1 epochs...\n",
      "IoU so far: 5.425347129016378e-13\n",
      "Labelled set size:  140\n",
      "Unlabelled set size:  113\n",
      "\n",
      "Training a model for 1 epochs...\n",
      "IoU so far: 0.00833730979610493\n",
      "Labelled set size:  200\n",
      "Unlabelled set size:  53\n",
      "\n",
      "Training a model for 1 epochs...\n",
      "IoU so far: 0.09417718921852587\n",
      "\n",
      "No more images in Unlabelled set\n",
      "Max IoU score: 0.09417718921852587\n",
      "----------------------------------------\n",
      "\n",
      "\n",
      "Samples selection function: Margin\n",
      "------------------------------------\n",
      "\n",
      "Number of samples to label on one iteration, k=10\n",
      "------------------------------------\n",
      "Labelled set size:  20\n",
      "Unlabelled set size:  233\n",
      "\n",
      "Training a model for 1 epochs...\n"
     ]
    },
    {
     "name": "stderr",
     "output_type": "stream",
     "text": [
      "  1%|          | 2/233 [00:00<00:14, 16.09it/s]"
     ]
    },
    {
     "name": "stdout",
     "output_type": "stream",
     "text": [
      "IoU so far: 5.425347129016378e-13\n",
      "Inference on unlabelled data...\n"
     ]
    },
    {
     "name": "stderr",
     "output_type": "stream",
     "text": [
      "100%|██████████| 233/233 [00:13<00:00, 16.67it/s]"
     ]
    },
    {
     "name": "stdout",
     "output_type": "stream",
     "text": [
      "Min margin: 4.73,             Mean margin: 4.79,             Max margin: 4.85\n",
      "Labelled set size:  30\n",
      "Unlabelled set size:  223\n",
      "\n",
      "Training a model for 1 epochs...\n"
     ]
    },
    {
     "name": "stderr",
     "output_type": "stream",
     "text": [
      "\n",
      "  1%|          | 2/223 [00:00<00:18, 12.10it/s]"
     ]
    },
    {
     "name": "stdout",
     "output_type": "stream",
     "text": [
      "IoU so far: 5.425347129016378e-13\n",
      "Inference on unlabelled data...\n"
     ]
    },
    {
     "name": "stderr",
     "output_type": "stream",
     "text": [
      "100%|██████████| 223/223 [00:14<00:00, 15.87it/s]"
     ]
    },
    {
     "name": "stdout",
     "output_type": "stream",
     "text": [
      "Min margin: 4.37,             Mean margin: 4.46,             Max margin: 4.61\n",
      "Labelled set size:  40\n",
      "Unlabelled set size:  213\n",
      "\n",
      "Training a model for 1 epochs...\n"
     ]
    },
    {
     "name": "stderr",
     "output_type": "stream",
     "text": [
      "\n",
      "  1%|          | 2/213 [00:00<00:12, 16.98it/s]"
     ]
    },
    {
     "name": "stdout",
     "output_type": "stream",
     "text": [
      "IoU so far: 5.425347129016378e-13\n",
      "Inference on unlabelled data...\n"
     ]
    },
    {
     "name": "stderr",
     "output_type": "stream",
     "text": [
      "100%|██████████| 213/213 [00:13<00:00, 16.09it/s]"
     ]
    },
    {
     "name": "stdout",
     "output_type": "stream",
     "text": [
      "Min margin: 4.30,             Mean margin: 4.43,             Max margin: 4.62\n",
      "Labelled set size:  50\n",
      "Unlabelled set size:  203\n",
      "\n",
      "Training a model for 1 epochs...\n"
     ]
    },
    {
     "name": "stderr",
     "output_type": "stream",
     "text": [
      "\n",
      "  1%|          | 2/203 [00:00<00:12, 16.70it/s]"
     ]
    },
    {
     "name": "stdout",
     "output_type": "stream",
     "text": [
      "IoU so far: 5.425347129016378e-13\n",
      "Inference on unlabelled data...\n"
     ]
    },
    {
     "name": "stderr",
     "output_type": "stream",
     "text": [
      "100%|██████████| 203/203 [00:11<00:00, 17.00it/s]"
     ]
    },
    {
     "name": "stdout",
     "output_type": "stream",
     "text": [
      "Min margin: 4.57,             Mean margin: 4.69,             Max margin: 4.89\n",
      "Labelled set size:  60\n",
      "Unlabelled set size:  193\n",
      "\n",
      "Training a model for 1 epochs...\n"
     ]
    },
    {
     "name": "stderr",
     "output_type": "stream",
     "text": [
      "\n",
      "  1%|          | 2/193 [00:00<00:10, 17.96it/s]"
     ]
    },
    {
     "name": "stdout",
     "output_type": "stream",
     "text": [
      "IoU so far: 2.148573296773869e-07\n",
      "Inference on unlabelled data...\n"
     ]
    },
    {
     "name": "stderr",
     "output_type": "stream",
     "text": [
      "100%|██████████| 193/193 [00:11<00:00, 17.35it/s]"
     ]
    },
    {
     "name": "stdout",
     "output_type": "stream",
     "text": [
      "Min margin: 4.87,             Mean margin: 5.09,             Max margin: 5.29\n",
      "Labelled set size:  70\n",
      "Unlabelled set size:  183\n",
      "\n",
      "Training a model for 1 epochs...\n"
     ]
    },
    {
     "name": "stderr",
     "output_type": "stream",
     "text": [
      "\n",
      "  1%|          | 2/183 [00:00<00:10, 17.46it/s]"
     ]
    },
    {
     "name": "stdout",
     "output_type": "stream",
     "text": [
      "IoU so far: 0.034010684763145914\n",
      "Inference on unlabelled data...\n"
     ]
    },
    {
     "name": "stderr",
     "output_type": "stream",
     "text": [
      "100%|██████████| 183/183 [00:12<00:00, 15.20it/s]"
     ]
    },
    {
     "name": "stdout",
     "output_type": "stream",
     "text": [
      "Min margin: 4.57,             Mean margin: 5.24,             Max margin: 5.42\n",
      "Labelled set size:  80\n",
      "Unlabelled set size:  173\n",
      "\n",
      "Training a model for 1 epochs...\n"
     ]
    },
    {
     "name": "stderr",
     "output_type": "stream",
     "text": [
      "\n",
      "  1%|          | 2/173 [00:00<00:10, 16.93it/s]"
     ]
    },
    {
     "name": "stdout",
     "output_type": "stream",
     "text": [
      "IoU so far: 0.17468648071926424\n",
      "Inference on unlabelled data...\n"
     ]
    },
    {
     "name": "stderr",
     "output_type": "stream",
     "text": [
      "100%|██████████| 173/173 [00:11<00:00, 14.69it/s]\n"
     ]
    },
    {
     "name": "stdout",
     "output_type": "stream",
     "text": [
      "Min margin: 3.70,             Mean margin: 4.42,             Max margin: 5.38\n",
      "Labelled set size:  90\n",
      "Unlabelled set size:  163\n",
      "\n",
      "Training a model for 1 epochs...\n"
     ]
    },
    {
     "name": "stderr",
     "output_type": "stream",
     "text": [
      "  1%|          | 2/163 [00:00<00:09, 17.42it/s]"
     ]
    },
    {
     "name": "stdout",
     "output_type": "stream",
     "text": [
      "IoU so far: 0.19509417364502898\n",
      "Inference on unlabelled data...\n"
     ]
    },
    {
     "name": "stderr",
     "output_type": "stream",
     "text": [
      "100%|██████████| 163/163 [00:09<00:00, 17.40it/s]"
     ]
    },
    {
     "name": "stdout",
     "output_type": "stream",
     "text": [
      "Min margin: 3.53,             Mean margin: 4.41,             Max margin: 5.36\n",
      "Labelled set size:  100\n",
      "Unlabelled set size:  153\n",
      "\n",
      "Training a model for 1 epochs...\n"
     ]
    },
    {
     "name": "stderr",
     "output_type": "stream",
     "text": [
      "\n",
      "  1%|▏         | 2/153 [00:00<00:08, 16.82it/s]"
     ]
    },
    {
     "name": "stdout",
     "output_type": "stream",
     "text": [
      "IoU so far: 0.2409656434366018\n",
      "Inference on unlabelled data...\n"
     ]
    },
    {
     "name": "stderr",
     "output_type": "stream",
     "text": [
      "100%|██████████| 153/153 [00:09<00:00, 16.68it/s]"
     ]
    },
    {
     "name": "stdout",
     "output_type": "stream",
     "text": [
      "Min margin: 3.13,             Mean margin: 3.82,             Max margin: 4.73\n",
      "Labelled set size:  110\n",
      "Unlabelled set size:  143\n",
      "\n",
      "Training a model for 1 epochs...\n"
     ]
    },
    {
     "name": "stderr",
     "output_type": "stream",
     "text": [
      "\n",
      "  1%|▏         | 2/143 [00:00<00:12, 11.48it/s]"
     ]
    },
    {
     "name": "stdout",
     "output_type": "stream",
     "text": [
      "IoU so far: 0.2853275894528568\n",
      "Inference on unlabelled data...\n"
     ]
    },
    {
     "name": "stderr",
     "output_type": "stream",
     "text": [
      "100%|██████████| 143/143 [00:09<00:00, 15.26it/s]"
     ]
    },
    {
     "name": "stdout",
     "output_type": "stream",
     "text": [
      "Min margin: 2.95,             Mean margin: 3.41,             Max margin: 4.20\n",
      "Labelled set size:  120\n",
      "Unlabelled set size:  133\n",
      "\n",
      "Training a model for 1 epochs...\n"
     ]
    },
    {
     "name": "stderr",
     "output_type": "stream",
     "text": [
      "\n",
      "  2%|▏         | 2/133 [00:00<00:07, 17.52it/s]"
     ]
    },
    {
     "name": "stdout",
     "output_type": "stream",
     "text": [
      "IoU so far: 0.3095909236091199\n",
      "Inference on unlabelled data...\n"
     ]
    },
    {
     "name": "stderr",
     "output_type": "stream",
     "text": [
      "100%|██████████| 133/133 [00:08<00:00, 15.14it/s]"
     ]
    },
    {
     "name": "stdout",
     "output_type": "stream",
     "text": [
      "Min margin: 2.91,             Mean margin: 3.34,             Max margin: 3.76\n",
      "Labelled set size:  130\n",
      "Unlabelled set size:  123\n",
      "\n",
      "Training a model for 1 epochs...\n"
     ]
    },
    {
     "name": "stderr",
     "output_type": "stream",
     "text": [
      "\n",
      "  2%|▏         | 2/123 [00:00<00:06, 17.37it/s]"
     ]
    },
    {
     "name": "stdout",
     "output_type": "stream",
     "text": [
      "IoU so far: 0.3285019675103745\n",
      "Inference on unlabelled data...\n"
     ]
    },
    {
     "name": "stderr",
     "output_type": "stream",
     "text": [
      "100%|██████████| 123/123 [00:07<00:00, 17.48it/s]"
     ]
    },
    {
     "name": "stdout",
     "output_type": "stream",
     "text": [
      "Min margin: 2.75,             Mean margin: 3.06,             Max margin: 3.45\n",
      "Labelled set size:  140\n",
      "Unlabelled set size:  113\n",
      "\n",
      "Training a model for 1 epochs...\n"
     ]
    },
    {
     "name": "stderr",
     "output_type": "stream",
     "text": [
      "\n",
      "  2%|▏         | 2/113 [00:00<00:06, 17.66it/s]"
     ]
    },
    {
     "name": "stdout",
     "output_type": "stream",
     "text": [
      "IoU so far: 0.3370883190395807\n",
      "Inference on unlabelled data...\n"
     ]
    },
    {
     "name": "stderr",
     "output_type": "stream",
     "text": [
      "100%|██████████| 113/113 [00:06<00:00, 17.01it/s]"
     ]
    },
    {
     "name": "stdout",
     "output_type": "stream",
     "text": [
      "Min margin: 2.68,             Mean margin: 2.87,             Max margin: 3.43\n",
      "Labelled set size:  150\n",
      "Unlabelled set size:  103\n",
      "\n",
      "Training a model for 1 epochs...\n"
     ]
    },
    {
     "name": "stderr",
     "output_type": "stream",
     "text": [
      "\n",
      "  2%|▏         | 2/103 [00:00<00:08, 12.27it/s]"
     ]
    },
    {
     "name": "stdout",
     "output_type": "stream",
     "text": [
      "IoU so far: 0.3394067983816166\n",
      "Inference on unlabelled data...\n"
     ]
    },
    {
     "name": "stderr",
     "output_type": "stream",
     "text": [
      "100%|██████████| 103/103 [00:06<00:00, 15.38it/s]"
     ]
    },
    {
     "name": "stdout",
     "output_type": "stream",
     "text": [
      "Min margin: 2.68,             Mean margin: 2.83,             Max margin: 3.21\n",
      "Labelled set size:  160\n",
      "Unlabelled set size:  93\n",
      "\n",
      "Training a model for 1 epochs...\n"
     ]
    },
    {
     "name": "stderr",
     "output_type": "stream",
     "text": [
      "\n",
      "  2%|▏         | 2/93 [00:00<00:05, 17.51it/s]"
     ]
    },
    {
     "name": "stdout",
     "output_type": "stream",
     "text": [
      "IoU so far: 0.3440803044503279\n",
      "Inference on unlabelled data...\n"
     ]
    },
    {
     "name": "stderr",
     "output_type": "stream",
     "text": [
      "100%|██████████| 93/93 [00:06<00:00, 14.59it/s]"
     ]
    },
    {
     "name": "stdout",
     "output_type": "stream",
     "text": [
      "Min margin: 2.59,             Mean margin: 2.72,             Max margin: 3.03\n",
      "Labelled set size:  170\n",
      "Unlabelled set size:  83\n",
      "\n",
      "Training a model for 1 epochs...\n"
     ]
    },
    {
     "name": "stderr",
     "output_type": "stream",
     "text": [
      "\n",
      "  2%|▏         | 2/83 [00:00<00:04, 17.44it/s]"
     ]
    },
    {
     "name": "stdout",
     "output_type": "stream",
     "text": [
      "IoU so far: 0.367713554955945\n",
      "Inference on unlabelled data...\n"
     ]
    },
    {
     "name": "stderr",
     "output_type": "stream",
     "text": [
      "100%|██████████| 83/83 [00:04<00:00, 17.59it/s]"
     ]
    },
    {
     "name": "stdout",
     "output_type": "stream",
     "text": [
      "Min margin: 2.54,             Mean margin: 2.65,             Max margin: 2.85\n",
      "Labelled set size:  180\n",
      "Unlabelled set size:  73\n",
      "\n",
      "Training a model for 1 epochs...\n"
     ]
    },
    {
     "name": "stderr",
     "output_type": "stream",
     "text": [
      "\n",
      "  3%|▎         | 2/73 [00:00<00:04, 17.18it/s]"
     ]
    },
    {
     "name": "stdout",
     "output_type": "stream",
     "text": [
      "IoU so far: 0.3683803057906651\n",
      "Inference on unlabelled data...\n"
     ]
    },
    {
     "name": "stderr",
     "output_type": "stream",
     "text": [
      "100%|██████████| 73/73 [00:04<00:00, 17.12it/s]"
     ]
    },
    {
     "name": "stdout",
     "output_type": "stream",
     "text": [
      "Min margin: 2.52,             Mean margin: 2.62,             Max margin: 2.89\n",
      "Labelled set size:  190\n",
      "Unlabelled set size:  63\n",
      "\n",
      "Training a model for 1 epochs...\n"
     ]
    },
    {
     "name": "stderr",
     "output_type": "stream",
     "text": [
      "\n",
      "  3%|▎         | 2/63 [00:00<00:03, 16.93it/s]"
     ]
    },
    {
     "name": "stdout",
     "output_type": "stream",
     "text": [
      "IoU so far: 0.37101971188394156\n",
      "Inference on unlabelled data...\n"
     ]
    },
    {
     "name": "stderr",
     "output_type": "stream",
     "text": [
      "100%|██████████| 63/63 [00:03<00:00, 18.40it/s]"
     ]
    },
    {
     "name": "stdout",
     "output_type": "stream",
     "text": [
      "Min margin: 2.40,             Mean margin: 2.50,             Max margin: 2.67\n",
      "Labelled set size:  200\n",
      "Unlabelled set size:  53\n",
      "\n",
      "Training a model for 1 epochs...\n"
     ]
    },
    {
     "name": "stderr",
     "output_type": "stream",
     "text": [
      "\n",
      "  4%|▍         | 2/53 [00:00<00:02, 18.45it/s]"
     ]
    },
    {
     "name": "stdout",
     "output_type": "stream",
     "text": [
      "IoU so far: 0.3752150473618271\n",
      "Inference on unlabelled data...\n"
     ]
    },
    {
     "name": "stderr",
     "output_type": "stream",
     "text": [
      "100%|██████████| 53/53 [00:03<00:00, 17.21it/s]"
     ]
    },
    {
     "name": "stdout",
     "output_type": "stream",
     "text": [
      "Min margin: 2.28,             Mean margin: 2.40,             Max margin: 2.64\n",
      "Labelled set size:  210\n",
      "Unlabelled set size:  43\n",
      "\n",
      "Training a model for 1 epochs...\n"
     ]
    },
    {
     "name": "stderr",
     "output_type": "stream",
     "text": [
      "\n",
      "  5%|▍         | 2/43 [00:00<00:02, 17.13it/s]"
     ]
    },
    {
     "name": "stdout",
     "output_type": "stream",
     "text": [
      "IoU so far: 0.37684866579452353\n",
      "Inference on unlabelled data...\n"
     ]
    },
    {
     "name": "stderr",
     "output_type": "stream",
     "text": [
      "100%|██████████| 43/43 [00:02<00:00, 18.34it/s]"
     ]
    },
    {
     "name": "stdout",
     "output_type": "stream",
     "text": [
      "Min margin: 2.23,             Mean margin: 2.34,             Max margin: 2.50\n",
      "Labelled set size:  220\n",
      "Unlabelled set size:  33\n",
      "\n",
      "Training a model for 1 epochs...\n"
     ]
    },
    {
     "name": "stderr",
     "output_type": "stream",
     "text": [
      "\n",
      "  6%|▌         | 2/33 [00:00<00:01, 18.35it/s]"
     ]
    },
    {
     "name": "stdout",
     "output_type": "stream",
     "text": [
      "IoU so far: 0.3781771444448149\n",
      "Inference on unlabelled data...\n"
     ]
    },
    {
     "name": "stderr",
     "output_type": "stream",
     "text": [
      "100%|██████████| 33/33 [00:01<00:00, 18.84it/s]\n"
     ]
    },
    {
     "name": "stdout",
     "output_type": "stream",
     "text": [
      "Min margin: 2.28,             Mean margin: 2.36,             Max margin: 2.50\n",
      "Max IoU score: 0.3781771444448149\n",
      "----------------------------------------\n",
      "\n",
      "\n",
      "Number of samples to label on one iteration, k=20\n",
      "------------------------------------\n",
      "Labelled set size:  20\n",
      "Unlabelled set size:  233\n",
      "\n",
      "Training a model for 1 epochs...\n"
     ]
    },
    {
     "name": "stderr",
     "output_type": "stream",
     "text": [
      "  1%|          | 2/233 [00:00<00:19, 11.70it/s]"
     ]
    },
    {
     "name": "stdout",
     "output_type": "stream",
     "text": [
      "IoU so far: 5.425347129016378e-13\n",
      "Inference on unlabelled data...\n"
     ]
    },
    {
     "name": "stderr",
     "output_type": "stream",
     "text": [
      "100%|██████████| 233/233 [00:15<00:00, 15.38it/s]"
     ]
    },
    {
     "name": "stdout",
     "output_type": "stream",
     "text": [
      "Min margin: 5.08,             Mean margin: 5.13,             Max margin: 5.20\n",
      "Labelled set size:  40\n",
      "Unlabelled set size:  213\n",
      "\n",
      "Training a model for 1 epochs...\n"
     ]
    },
    {
     "name": "stderr",
     "output_type": "stream",
     "text": [
      "\n",
      "  1%|          | 2/213 [00:00<00:12, 16.59it/s]"
     ]
    },
    {
     "name": "stdout",
     "output_type": "stream",
     "text": [
      "IoU so far: 5.425347129016378e-13\n",
      "Inference on unlabelled data...\n"
     ]
    },
    {
     "name": "stderr",
     "output_type": "stream",
     "text": [
      "100%|██████████| 213/213 [00:13<00:00, 15.29it/s]"
     ]
    },
    {
     "name": "stdout",
     "output_type": "stream",
     "text": [
      "Min margin: 4.98,             Mean margin: 5.03,             Max margin: 5.13\n",
      "Labelled set size:  60\n",
      "Unlabelled set size:  193\n",
      "\n",
      "Training a model for 1 epochs...\n"
     ]
    },
    {
     "name": "stderr",
     "output_type": "stream",
     "text": [
      "\n",
      "  1%|          | 2/193 [00:00<00:11, 17.24it/s]"
     ]
    },
    {
     "name": "stdout",
     "output_type": "stream",
     "text": [
      "IoU so far: 5.425347129016378e-13\n",
      "Inference on unlabelled data...\n"
     ]
    },
    {
     "name": "stderr",
     "output_type": "stream",
     "text": [
      "100%|██████████| 193/193 [00:12<00:00, 15.05it/s]\n"
     ]
    },
    {
     "name": "stdout",
     "output_type": "stream",
     "text": [
      "Min margin: 5.05,             Mean margin: 5.11,             Max margin: 5.21\n",
      "Labelled set size:  80\n",
      "Unlabelled set size:  173\n",
      "\n",
      "Training a model for 1 epochs...\n"
     ]
    },
    {
     "name": "stderr",
     "output_type": "stream",
     "text": [
      "  1%|          | 2/173 [00:00<00:11, 14.71it/s]"
     ]
    },
    {
     "name": "stdout",
     "output_type": "stream",
     "text": [
      "IoU so far: 4.445974067448188e-05\n",
      "Inference on unlabelled data...\n"
     ]
    },
    {
     "name": "stderr",
     "output_type": "stream",
     "text": [
      "100%|██████████| 173/173 [00:10<00:00, 15.91it/s]"
     ]
    },
    {
     "name": "stdout",
     "output_type": "stream",
     "text": [
      "Min margin: 4.95,             Mean margin: 5.13,             Max margin: 5.18\n",
      "Labelled set size:  100\n",
      "Unlabelled set size:  153\n",
      "\n",
      "Training a model for 1 epochs...\n"
     ]
    },
    {
     "name": "stderr",
     "output_type": "stream",
     "text": [
      "\n",
      "  1%|▏         | 2/153 [00:00<00:09, 15.87it/s]"
     ]
    },
    {
     "name": "stdout",
     "output_type": "stream",
     "text": [
      "IoU so far: 0.022113150732573306\n",
      "Inference on unlabelled data...\n"
     ]
    },
    {
     "name": "stderr",
     "output_type": "stream",
     "text": [
      "100%|██████████| 153/153 [00:09<00:00, 15.47it/s]"
     ]
    },
    {
     "name": "stdout",
     "output_type": "stream",
     "text": [
      "Min margin: 4.64,             Mean margin: 5.15,             Max margin: 5.34\n",
      "Labelled set size:  120\n",
      "Unlabelled set size:  133\n",
      "\n",
      "Training a model for 1 epochs...\n"
     ]
    },
    {
     "name": "stderr",
     "output_type": "stream",
     "text": [
      "\n",
      "  2%|▏         | 2/133 [00:00<00:07, 16.51it/s]"
     ]
    },
    {
     "name": "stdout",
     "output_type": "stream",
     "text": [
      "IoU so far: 0.07871941296328412\n",
      "Inference on unlabelled data...\n"
     ]
    },
    {
     "name": "stderr",
     "output_type": "stream",
     "text": [
      "100%|██████████| 133/133 [00:09<00:00, 14.48it/s]"
     ]
    },
    {
     "name": "stdout",
     "output_type": "stream",
     "text": [
      "Min margin: 3.36,             Mean margin: 4.36,             Max margin: 5.32\n",
      "Labelled set size:  140\n",
      "Unlabelled set size:  113\n",
      "\n",
      "Training a model for 1 epochs...\n"
     ]
    },
    {
     "name": "stderr",
     "output_type": "stream",
     "text": [
      "\n",
      "  2%|▏         | 2/113 [00:00<00:06, 16.08it/s]"
     ]
    },
    {
     "name": "stdout",
     "output_type": "stream",
     "text": [
      "IoU so far: 0.13402048033652922\n",
      "Inference on unlabelled data...\n"
     ]
    },
    {
     "name": "stderr",
     "output_type": "stream",
     "text": [
      "100%|██████████| 113/113 [00:07<00:00, 14.71it/s]"
     ]
    },
    {
     "name": "stdout",
     "output_type": "stream",
     "text": [
      "Min margin: 2.92,             Mean margin: 3.90,             Max margin: 5.27\n",
      "Labelled set size:  160\n",
      "Unlabelled set size:  93\n",
      "\n",
      "Training a model for 1 epochs...\n"
     ]
    },
    {
     "name": "stderr",
     "output_type": "stream",
     "text": [
      "\n",
      "  2%|▏         | 2/93 [00:00<00:05, 16.85it/s]"
     ]
    },
    {
     "name": "stdout",
     "output_type": "stream",
     "text": [
      "IoU so far: 0.14772235314444734\n",
      "Inference on unlabelled data...\n"
     ]
    },
    {
     "name": "stderr",
     "output_type": "stream",
     "text": [
      "100%|██████████| 93/93 [00:05<00:00, 16.88it/s]"
     ]
    },
    {
     "name": "stdout",
     "output_type": "stream",
     "text": [
      "Min margin: 3.26,             Mean margin: 4.13,             Max margin: 5.22\n",
      "Labelled set size:  180\n",
      "Unlabelled set size:  73\n",
      "\n",
      "Training a model for 1 epochs...\n"
     ]
    },
    {
     "name": "stderr",
     "output_type": "stream",
     "text": [
      "\n",
      "  3%|▎         | 2/73 [00:00<00:04, 16.42it/s]"
     ]
    },
    {
     "name": "stdout",
     "output_type": "stream",
     "text": [
      "IoU so far: 0.19149576245558142\n",
      "Inference on unlabelled data...\n"
     ]
    },
    {
     "name": "stderr",
     "output_type": "stream",
     "text": [
      "100%|██████████| 73/73 [00:05<00:00, 13.18it/s]"
     ]
    },
    {
     "name": "stdout",
     "output_type": "stream",
     "text": [
      "Min margin: 2.86,             Mean margin: 3.88,             Max margin: 5.19\n",
      "Labelled set size:  200\n",
      "Unlabelled set size:  53\n",
      "\n",
      "Training a model for 1 epochs...\n"
     ]
    },
    {
     "name": "stderr",
     "output_type": "stream",
     "text": [
      "\n",
      "  4%|▍         | 2/53 [00:00<00:03, 16.76it/s]"
     ]
    },
    {
     "name": "stdout",
     "output_type": "stream",
     "text": [
      "IoU so far: 0.22672417095982209\n",
      "Inference on unlabelled data...\n"
     ]
    },
    {
     "name": "stderr",
     "output_type": "stream",
     "text": [
      "100%|██████████| 53/53 [00:03<00:00, 17.17it/s]"
     ]
    },
    {
     "name": "stdout",
     "output_type": "stream",
     "text": [
      "Min margin: 2.84,             Mean margin: 3.83,             Max margin: 5.13\n",
      "Labelled set size:  220\n",
      "Unlabelled set size:  33\n",
      "\n",
      "Training a model for 1 epochs...\n"
     ]
    },
    {
     "name": "stderr",
     "output_type": "stream",
     "text": [
      "\n",
      "  6%|▌         | 2/33 [00:00<00:01, 16.93it/s]"
     ]
    },
    {
     "name": "stdout",
     "output_type": "stream",
     "text": [
      "IoU so far: 0.24701097769902494\n",
      "Inference on unlabelled data...\n"
     ]
    },
    {
     "name": "stderr",
     "output_type": "stream",
     "text": [
      "100%|██████████| 33/33 [00:01<00:00, 17.18it/s]\n"
     ]
    },
    {
     "name": "stdout",
     "output_type": "stream",
     "text": [
      "Min margin: 2.88,             Mean margin: 3.94,             Max margin: 5.11\n",
      "Max IoU score: 0.24701097769902494\n",
      "----------------------------------------\n",
      "\n",
      "\n",
      "Number of samples to label on one iteration, k=40\n",
      "------------------------------------\n",
      "Labelled set size:  20\n",
      "Unlabelled set size:  233\n",
      "\n",
      "Training a model for 1 epochs...\n"
     ]
    },
    {
     "name": "stderr",
     "output_type": "stream",
     "text": [
      "  1%|          | 2/233 [00:00<00:14, 16.41it/s]"
     ]
    },
    {
     "name": "stdout",
     "output_type": "stream",
     "text": [
      "IoU so far: 5.425347129016378e-13\n",
      "Inference on unlabelled data...\n"
     ]
    },
    {
     "name": "stderr",
     "output_type": "stream",
     "text": [
      "100%|██████████| 233/233 [00:15<00:00, 15.20it/s]"
     ]
    },
    {
     "name": "stdout",
     "output_type": "stream",
     "text": [
      "Min margin: 4.64,             Mean margin: 4.76,             Max margin: 4.88\n",
      "Labelled set size:  60\n",
      "Unlabelled set size:  193\n",
      "\n",
      "Training a model for 1 epochs...\n"
     ]
    },
    {
     "name": "stderr",
     "output_type": "stream",
     "text": [
      "\n",
      "  1%|          | 2/193 [00:00<00:11, 17.33it/s]"
     ]
    },
    {
     "name": "stdout",
     "output_type": "stream",
     "text": [
      "IoU so far: 5.425347129016378e-13\n",
      "Inference on unlabelled data...\n"
     ]
    },
    {
     "name": "stderr",
     "output_type": "stream",
     "text": [
      "100%|██████████| 193/193 [00:12<00:00, 15.37it/s]"
     ]
    },
    {
     "name": "stdout",
     "output_type": "stream",
     "text": [
      "Min margin: 4.55,             Mean margin: 4.71,             Max margin: 4.89\n",
      "Labelled set size:  100\n",
      "Unlabelled set size:  153\n",
      "\n",
      "Training a model for 1 epochs...\n"
     ]
    },
    {
     "name": "stderr",
     "output_type": "stream",
     "text": [
      "\n",
      "  1%|▏         | 2/153 [00:00<00:10, 14.65it/s]"
     ]
    },
    {
     "name": "stdout",
     "output_type": "stream",
     "text": [
      "IoU so far: 0.004219092377968652\n",
      "Inference on unlabelled data...\n"
     ]
    },
    {
     "name": "stderr",
     "output_type": "stream",
     "text": [
      "100%|██████████| 153/153 [00:09<00:00, 16.35it/s]"
     ]
    },
    {
     "name": "stdout",
     "output_type": "stream",
     "text": [
      "Min margin: 4.82,             Mean margin: 4.94,             Max margin: 5.27\n",
      "Labelled set size:  140\n",
      "Unlabelled set size:  113\n",
      "\n",
      "Training a model for 1 epochs...\n"
     ]
    },
    {
     "name": "stderr",
     "output_type": "stream",
     "text": [
      "\n",
      "  2%|▏         | 2/113 [00:00<00:06, 16.25it/s]"
     ]
    },
    {
     "name": "stdout",
     "output_type": "stream",
     "text": [
      "IoU so far: 0.08291514203099923\n",
      "Inference on unlabelled data...\n"
     ]
    },
    {
     "name": "stderr",
     "output_type": "stream",
     "text": [
      "100%|██████████| 113/113 [00:08<00:00, 13.77it/s]"
     ]
    },
    {
     "name": "stdout",
     "output_type": "stream",
     "text": [
      "Min margin: 2.73,             Mean margin: 5.01,             Max margin: 5.37\n",
      "Labelled set size:  180\n",
      "Unlabelled set size:  73\n",
      "\n",
      "Training a model for 1 epochs...\n"
     ]
    },
    {
     "name": "stderr",
     "output_type": "stream",
     "text": [
      "\n",
      "  3%|▎         | 2/73 [00:00<00:04, 16.49it/s]"
     ]
    },
    {
     "name": "stdout",
     "output_type": "stream",
     "text": [
      "IoU so far: 0.09400030196008112\n",
      "Inference on unlabelled data...\n"
     ]
    },
    {
     "name": "stderr",
     "output_type": "stream",
     "text": [
      "100%|██████████| 73/73 [00:04<00:00, 16.80it/s]"
     ]
    },
    {
     "name": "stdout",
     "output_type": "stream",
     "text": [
      "Min margin: 4.50,             Mean margin: 4.86,             Max margin: 5.18\n",
      "Labelled set size:  220\n",
      "Unlabelled set size:  33\n",
      "\n",
      "Training a model for 1 epochs...\n"
     ]
    },
    {
     "name": "stderr",
     "output_type": "stream",
     "text": [
      "\n"
     ]
    },
    {
     "name": "stdout",
     "output_type": "stream",
     "text": [
      "IoU so far: 0.09485954134771142\n",
      "\n",
      "No more images in Unlabelled set\n",
      "Max IoU score: 0.09485954134771142\n",
      "----------------------------------------\n",
      "\n",
      "\n",
      "Number of samples to label on one iteration, k=60\n",
      "------------------------------------\n",
      "Labelled set size:  20\n",
      "Unlabelled set size:  233\n",
      "\n",
      "Training a model for 1 epochs...\n"
     ]
    },
    {
     "name": "stderr",
     "output_type": "stream",
     "text": [
      "  1%|          | 2/233 [00:00<00:12, 18.38it/s]"
     ]
    },
    {
     "name": "stdout",
     "output_type": "stream",
     "text": [
      "IoU so far: 5.425347129016378e-13\n",
      "Inference on unlabelled data...\n"
     ]
    },
    {
     "name": "stderr",
     "output_type": "stream",
     "text": [
      "100%|██████████| 233/233 [00:13<00:00, 17.35it/s]"
     ]
    },
    {
     "name": "stdout",
     "output_type": "stream",
     "text": [
      "Min margin: 4.63,             Mean margin: 4.73,             Max margin: 4.81\n",
      "Labelled set size:  80\n",
      "Unlabelled set size:  173\n",
      "\n",
      "Training a model for 1 epochs...\n"
     ]
    },
    {
     "name": "stderr",
     "output_type": "stream",
     "text": [
      "\n",
      "  1%|          | 2/173 [00:00<00:09, 18.07it/s]"
     ]
    },
    {
     "name": "stdout",
     "output_type": "stream",
     "text": [
      "IoU so far: 5.425347129016378e-13\n",
      "Inference on unlabelled data...\n"
     ]
    },
    {
     "name": "stderr",
     "output_type": "stream",
     "text": [
      "100%|██████████| 173/173 [00:10<00:00, 17.24it/s]"
     ]
    },
    {
     "name": "stdout",
     "output_type": "stream",
     "text": [
      "Min margin: 4.85,             Mean margin: 4.89,             Max margin: 4.91\n",
      "Labelled set size:  140\n",
      "Unlabelled set size:  113\n",
      "\n",
      "Training a model for 1 epochs...\n"
     ]
    },
    {
     "name": "stderr",
     "output_type": "stream",
     "text": [
      "\n",
      "  2%|▏         | 2/113 [00:00<00:09, 11.52it/s]"
     ]
    },
    {
     "name": "stdout",
     "output_type": "stream",
     "text": [
      "IoU so far: 0.0011649624768553695\n",
      "Inference on unlabelled data...\n"
     ]
    },
    {
     "name": "stderr",
     "output_type": "stream",
     "text": [
      "100%|██████████| 113/113 [00:07<00:00, 14.95it/s]"
     ]
    },
    {
     "name": "stdout",
     "output_type": "stream",
     "text": [
      "Min margin: 5.03,             Mean margin: 5.12,             Max margin: 5.35\n",
      "Labelled set size:  200\n",
      "Unlabelled set size:  53\n",
      "\n",
      "Training a model for 1 epochs...\n"
     ]
    },
    {
     "name": "stderr",
     "output_type": "stream",
     "text": [
      "\n"
     ]
    },
    {
     "name": "stdout",
     "output_type": "stream",
     "text": [
      "IoU so far: 0.06919663834689867\n",
      "\n",
      "No more images in Unlabelled set\n",
      "Max IoU score: 0.06919663834689867\n",
      "----------------------------------------\n",
      "\n",
      "\n",
      "Samples selection function: Entropy\n",
      "------------------------------------\n",
      "\n",
      "Number of samples to label on one iteration, k=10\n",
      "------------------------------------\n",
      "Labelled set size:  20\n",
      "Unlabelled set size:  233\n",
      "\n",
      "Training a model for 1 epochs...\n"
     ]
    },
    {
     "name": "stderr",
     "output_type": "stream",
     "text": [
      "  1%|          | 2/233 [00:00<00:13, 16.97it/s]"
     ]
    },
    {
     "name": "stdout",
     "output_type": "stream",
     "text": [
      "IoU so far: 5.425347129016378e-13\n",
      "Inference on unlabelled data...\n"
     ]
    },
    {
     "name": "stderr",
     "output_type": "stream",
     "text": [
      "100%|██████████| 233/233 [00:15<00:00, 15.38it/s]"
     ]
    },
    {
     "name": "stdout",
     "output_type": "stream",
     "text": [
      "Min entropy: 4.73,             Mean Entropy: 4.83,             Max entropy: 4.94\n",
      "Labelled set size:  30\n",
      "Unlabelled set size:  223\n",
      "\n",
      "Training a model for 1 epochs...\n"
     ]
    },
    {
     "name": "stderr",
     "output_type": "stream",
     "text": [
      "\n",
      "  1%|          | 2/223 [00:00<00:14, 15.68it/s]"
     ]
    },
    {
     "name": "stdout",
     "output_type": "stream",
     "text": [
      "IoU so far: 5.425347129016378e-13\n",
      "Inference on unlabelled data...\n"
     ]
    },
    {
     "name": "stderr",
     "output_type": "stream",
     "text": [
      "100%|██████████| 223/223 [00:13<00:00, 16.35it/s]"
     ]
    },
    {
     "name": "stdout",
     "output_type": "stream",
     "text": [
      "Min entropy: 4.51,             Mean Entropy: 4.56,             Max entropy: 4.64\n",
      "Labelled set size:  40\n",
      "Unlabelled set size:  213\n",
      "\n",
      "Training a model for 1 epochs...\n"
     ]
    },
    {
     "name": "stderr",
     "output_type": "stream",
     "text": [
      "\n",
      "  1%|          | 2/213 [00:00<00:11, 18.05it/s]"
     ]
    },
    {
     "name": "stdout",
     "output_type": "stream",
     "text": [
      "IoU so far: 5.425347129016378e-13\n",
      "Inference on unlabelled data...\n"
     ]
    },
    {
     "name": "stderr",
     "output_type": "stream",
     "text": [
      "100%|██████████| 213/213 [00:12<00:00, 17.17it/s]"
     ]
    },
    {
     "name": "stdout",
     "output_type": "stream",
     "text": [
      "Min entropy: 4.59,             Mean Entropy: 4.68,             Max entropy: 4.78\n",
      "Labelled set size:  50\n",
      "Unlabelled set size:  203\n",
      "\n",
      "Training a model for 1 epochs...\n"
     ]
    },
    {
     "name": "stderr",
     "output_type": "stream",
     "text": [
      "\n",
      "  1%|          | 2/203 [00:00<00:17, 11.46it/s]"
     ]
    },
    {
     "name": "stdout",
     "output_type": "stream",
     "text": [
      "IoU so far: 5.425347129016378e-13\n",
      "Inference on unlabelled data...\n"
     ]
    },
    {
     "name": "stderr",
     "output_type": "stream",
     "text": [
      "100%|██████████| 203/203 [00:12<00:00, 16.22it/s]"
     ]
    },
    {
     "name": "stdout",
     "output_type": "stream",
     "text": [
      "Min entropy: 4.76,             Mean Entropy: 4.87,             Max entropy: 4.96\n",
      "Labelled set size:  60\n",
      "Unlabelled set size:  193\n",
      "\n",
      "Training a model for 1 epochs...\n"
     ]
    },
    {
     "name": "stderr",
     "output_type": "stream",
     "text": [
      "\n",
      "  1%|          | 2/193 [00:00<00:17, 11.10it/s]"
     ]
    },
    {
     "name": "stdout",
     "output_type": "stream",
     "text": [
      "IoU so far: 2.6256331308181624e-05\n",
      "Inference on unlabelled data...\n"
     ]
    },
    {
     "name": "stderr",
     "output_type": "stream",
     "text": [
      "100%|██████████| 193/193 [00:12<00:00, 15.47it/s]"
     ]
    },
    {
     "name": "stdout",
     "output_type": "stream",
     "text": [
      "Min entropy: 5.01,             Mean Entropy: 5.07,             Max entropy: 5.25\n",
      "Labelled set size:  70\n",
      "Unlabelled set size:  183\n",
      "\n",
      "Training a model for 1 epochs...\n"
     ]
    },
    {
     "name": "stderr",
     "output_type": "stream",
     "text": [
      "\n",
      "  1%|          | 2/183 [00:00<00:11, 16.41it/s]"
     ]
    },
    {
     "name": "stdout",
     "output_type": "stream",
     "text": [
      "IoU so far: 0.00042297139632432624\n",
      "Inference on unlabelled data...\n"
     ]
    },
    {
     "name": "stderr",
     "output_type": "stream",
     "text": [
      "100%|██████████| 183/183 [00:10<00:00, 16.74it/s]"
     ]
    },
    {
     "name": "stdout",
     "output_type": "stream",
     "text": [
      "Min entropy: 4.93,             Mean Entropy: 5.04,             Max entropy: 5.17\n",
      "Labelled set size:  80\n",
      "Unlabelled set size:  173\n",
      "\n",
      "Training a model for 1 epochs...\n"
     ]
    },
    {
     "name": "stderr",
     "output_type": "stream",
     "text": [
      "\n",
      "  1%|          | 2/173 [00:00<00:09, 17.24it/s]"
     ]
    },
    {
     "name": "stdout",
     "output_type": "stream",
     "text": [
      "IoU so far: 0.011639628236615423\n",
      "Inference on unlabelled data...\n"
     ]
    },
    {
     "name": "stderr",
     "output_type": "stream",
     "text": [
      "100%|██████████| 173/173 [00:11<00:00, 14.90it/s]"
     ]
    },
    {
     "name": "stdout",
     "output_type": "stream",
     "text": [
      "Min entropy: 4.20,             Mean Entropy: 4.69,             Max entropy: 4.84\n",
      "Labelled set size:  90\n",
      "Unlabelled set size:  163\n",
      "\n",
      "Training a model for 1 epochs...\n"
     ]
    },
    {
     "name": "stderr",
     "output_type": "stream",
     "text": [
      "\n",
      "  1%|          | 2/163 [00:00<00:09, 17.47it/s]"
     ]
    },
    {
     "name": "stdout",
     "output_type": "stream",
     "text": [
      "IoU so far: 0.029612301784281682\n",
      "Inference on unlabelled data...\n"
     ]
    },
    {
     "name": "stderr",
     "output_type": "stream",
     "text": [
      "100%|██████████| 163/163 [00:09<00:00, 16.90it/s]"
     ]
    },
    {
     "name": "stdout",
     "output_type": "stream",
     "text": [
      "Min entropy: 3.87,             Mean Entropy: 4.34,             Max entropy: 4.56\n",
      "Labelled set size:  100\n",
      "Unlabelled set size:  153\n",
      "\n",
      "Training a model for 1 epochs...\n"
     ]
    },
    {
     "name": "stderr",
     "output_type": "stream",
     "text": [
      "\n",
      "  1%|▏         | 2/153 [00:00<00:12, 12.52it/s]"
     ]
    },
    {
     "name": "stdout",
     "output_type": "stream",
     "text": [
      "IoU so far: 0.06123293025216255\n",
      "Inference on unlabelled data...\n"
     ]
    },
    {
     "name": "stderr",
     "output_type": "stream",
     "text": [
      "100%|██████████| 153/153 [00:10<00:00, 14.83it/s]"
     ]
    },
    {
     "name": "stdout",
     "output_type": "stream",
     "text": [
      "Min entropy: 3.52,             Mean Entropy: 4.07,             Max entropy: 4.26\n",
      "Labelled set size:  110\n",
      "Unlabelled set size:  143\n",
      "\n",
      "Training a model for 1 epochs...\n"
     ]
    },
    {
     "name": "stderr",
     "output_type": "stream",
     "text": [
      "\n",
      "  1%|▏         | 2/143 [00:00<00:13, 10.84it/s]"
     ]
    },
    {
     "name": "stdout",
     "output_type": "stream",
     "text": [
      "IoU so far: 0.11775628160132037\n",
      "Inference on unlabelled data...\n"
     ]
    },
    {
     "name": "stderr",
     "output_type": "stream",
     "text": [
      "100%|██████████| 143/143 [00:09<00:00, 14.81it/s]"
     ]
    },
    {
     "name": "stdout",
     "output_type": "stream",
     "text": [
      "Min entropy: 3.60,             Mean Entropy: 3.86,             Max entropy: 4.20\n",
      "Labelled set size:  120\n",
      "Unlabelled set size:  133\n",
      "\n",
      "Training a model for 1 epochs...\n"
     ]
    },
    {
     "name": "stderr",
     "output_type": "stream",
     "text": [
      "\n",
      "  2%|▏         | 2/133 [00:00<00:08, 15.87it/s]"
     ]
    },
    {
     "name": "stdout",
     "output_type": "stream",
     "text": [
      "IoU so far: 0.18990560628399988\n",
      "Inference on unlabelled data...\n"
     ]
    },
    {
     "name": "stderr",
     "output_type": "stream",
     "text": [
      "100%|██████████| 133/133 [00:07<00:00, 16.63it/s]"
     ]
    },
    {
     "name": "stdout",
     "output_type": "stream",
     "text": [
      "Min entropy: 3.03,             Mean Entropy: 3.57,             Max entropy: 3.87\n",
      "Labelled set size:  130\n",
      "Unlabelled set size:  123\n",
      "\n",
      "Training a model for 1 epochs...\n"
     ]
    },
    {
     "name": "stderr",
     "output_type": "stream",
     "text": [
      "\n",
      "  2%|▏         | 2/123 [00:00<00:06, 17.89it/s]"
     ]
    },
    {
     "name": "stdout",
     "output_type": "stream",
     "text": [
      "IoU so far: 0.2728565119870821\n",
      "Inference on unlabelled data...\n"
     ]
    },
    {
     "name": "stderr",
     "output_type": "stream",
     "text": [
      "100%|██████████| 123/123 [00:07<00:00, 16.34it/s]\n"
     ]
    },
    {
     "name": "stdout",
     "output_type": "stream",
     "text": [
      "Min entropy: 3.02,             Mean Entropy: 3.47,             Max entropy: 3.75\n",
      "Labelled set size:  140\n",
      "Unlabelled set size:  113\n",
      "\n",
      "Training a model for 1 epochs...\n"
     ]
    },
    {
     "name": "stderr",
     "output_type": "stream",
     "text": [
      "  2%|▏         | 2/113 [00:00<00:06, 17.13it/s]"
     ]
    },
    {
     "name": "stdout",
     "output_type": "stream",
     "text": [
      "IoU so far: 0.3656445588215743\n",
      "Inference on unlabelled data...\n"
     ]
    },
    {
     "name": "stderr",
     "output_type": "stream",
     "text": [
      "100%|██████████| 113/113 [00:07<00:00, 14.62it/s]"
     ]
    },
    {
     "name": "stdout",
     "output_type": "stream",
     "text": [
      "Min entropy: 2.63,             Mean Entropy: 3.13,             Max entropy: 3.47\n",
      "Labelled set size:  150\n",
      "Unlabelled set size:  103\n",
      "\n",
      "Training a model for 1 epochs...\n"
     ]
    },
    {
     "name": "stderr",
     "output_type": "stream",
     "text": [
      "\n",
      "  2%|▏         | 2/103 [00:00<00:06, 16.40it/s]"
     ]
    },
    {
     "name": "stdout",
     "output_type": "stream",
     "text": [
      "IoU so far: 0.4156231679538688\n",
      "Inference on unlabelled data...\n"
     ]
    },
    {
     "name": "stderr",
     "output_type": "stream",
     "text": [
      "100%|██████████| 103/103 [00:05<00:00, 17.25it/s]"
     ]
    },
    {
     "name": "stdout",
     "output_type": "stream",
     "text": [
      "Min entropy: 2.38,             Mean Entropy: 2.84,             Max entropy: 3.14\n",
      "Labelled set size:  160\n",
      "Unlabelled set size:  93\n",
      "\n",
      "Training a model for 1 epochs...\n"
     ]
    },
    {
     "name": "stderr",
     "output_type": "stream",
     "text": [
      "\n",
      "  2%|▏         | 2/93 [00:00<00:05, 18.16it/s]"
     ]
    },
    {
     "name": "stdout",
     "output_type": "stream",
     "text": [
      "IoU so far: 0.4328537016811936\n",
      "Inference on unlabelled data...\n"
     ]
    },
    {
     "name": "stderr",
     "output_type": "stream",
     "text": [
      "100%|██████████| 93/93 [00:06<00:00, 14.22it/s]"
     ]
    },
    {
     "name": "stdout",
     "output_type": "stream",
     "text": [
      "Min entropy: 2.33,             Mean Entropy: 2.75,             Max entropy: 2.97\n",
      "Labelled set size:  170\n",
      "Unlabelled set size:  83\n",
      "\n",
      "Training a model for 1 epochs...\n"
     ]
    },
    {
     "name": "stderr",
     "output_type": "stream",
     "text": [
      "\n",
      "  2%|▏         | 2/83 [00:00<00:04, 17.90it/s]"
     ]
    },
    {
     "name": "stdout",
     "output_type": "stream",
     "text": [
      "IoU so far: 0.4694166567065928\n",
      "Inference on unlabelled data...\n"
     ]
    },
    {
     "name": "stderr",
     "output_type": "stream",
     "text": [
      "100%|██████████| 83/83 [00:04<00:00, 17.85it/s]"
     ]
    },
    {
     "name": "stdout",
     "output_type": "stream",
     "text": [
      "Min entropy: 2.15,             Mean Entropy: 2.57,             Max entropy: 2.78\n",
      "Labelled set size:  180\n",
      "Unlabelled set size:  73\n",
      "\n",
      "Training a model for 1 epochs...\n"
     ]
    },
    {
     "name": "stderr",
     "output_type": "stream",
     "text": [
      "\n",
      "  3%|▎         | 2/73 [00:00<00:04, 17.68it/s]"
     ]
    },
    {
     "name": "stdout",
     "output_type": "stream",
     "text": [
      "IoU so far: 0.4713950927304749\n",
      "Inference on unlabelled data...\n"
     ]
    },
    {
     "name": "stderr",
     "output_type": "stream",
     "text": [
      "100%|██████████| 73/73 [00:04<00:00, 16.69it/s]\n"
     ]
    },
    {
     "name": "stdout",
     "output_type": "stream",
     "text": [
      "Min entropy: 1.91,             Mean Entropy: 2.31,             Max entropy: 2.51\n",
      "Labelled set size:  190\n",
      "Unlabelled set size:  63\n",
      "\n",
      "Training a model for 1 epochs...\n"
     ]
    },
    {
     "name": "stderr",
     "output_type": "stream",
     "text": [
      "  3%|▎         | 2/63 [00:00<00:03, 16.87it/s]"
     ]
    },
    {
     "name": "stdout",
     "output_type": "stream",
     "text": [
      "IoU so far: 0.4794473836917688\n",
      "Inference on unlabelled data...\n"
     ]
    },
    {
     "name": "stderr",
     "output_type": "stream",
     "text": [
      "100%|██████████| 63/63 [00:03<00:00, 17.70it/s]"
     ]
    },
    {
     "name": "stdout",
     "output_type": "stream",
     "text": [
      "Min entropy: 1.84,             Mean Entropy: 2.13,             Max entropy: 2.36\n",
      "Labelled set size:  200\n",
      "Unlabelled set size:  53\n",
      "\n",
      "Training a model for 1 epochs...\n"
     ]
    },
    {
     "name": "stderr",
     "output_type": "stream",
     "text": [
      "\n",
      "  4%|▍         | 2/53 [00:00<00:03, 16.35it/s]"
     ]
    },
    {
     "name": "stdout",
     "output_type": "stream",
     "text": [
      "IoU so far: 0.4959090331403334\n",
      "Inference on unlabelled data...\n"
     ]
    },
    {
     "name": "stderr",
     "output_type": "stream",
     "text": [
      "100%|██████████| 53/53 [00:03<00:00, 16.41it/s]"
     ]
    },
    {
     "name": "stdout",
     "output_type": "stream",
     "text": [
      "Min entropy: 1.69,             Mean Entropy: 1.97,             Max entropy: 2.11\n",
      "Labelled set size:  210\n",
      "Unlabelled set size:  43\n",
      "\n",
      "Training a model for 1 epochs...\n"
     ]
    },
    {
     "name": "stderr",
     "output_type": "stream",
     "text": [
      "\n",
      "  5%|▍         | 2/43 [00:00<00:02, 17.62it/s]"
     ]
    },
    {
     "name": "stdout",
     "output_type": "stream",
     "text": [
      "IoU so far: 0.5058017378986475\n",
      "Inference on unlabelled data...\n"
     ]
    },
    {
     "name": "stderr",
     "output_type": "stream",
     "text": [
      "100%|██████████| 43/43 [00:02<00:00, 17.91it/s]"
     ]
    },
    {
     "name": "stdout",
     "output_type": "stream",
     "text": [
      "Min entropy: 1.60,             Mean Entropy: 1.81,             Max entropy: 1.97\n",
      "Labelled set size:  220\n",
      "Unlabelled set size:  33\n",
      "\n",
      "Training a model for 1 epochs...\n"
     ]
    },
    {
     "name": "stderr",
     "output_type": "stream",
     "text": [
      "\n",
      "  6%|▌         | 2/33 [00:00<00:01, 18.49it/s]"
     ]
    },
    {
     "name": "stdout",
     "output_type": "stream",
     "text": [
      "IoU so far: 0.5216709478656842\n",
      "Inference on unlabelled data...\n"
     ]
    },
    {
     "name": "stderr",
     "output_type": "stream",
     "text": [
      "100%|██████████| 33/33 [00:01<00:00, 18.69it/s]\n"
     ]
    },
    {
     "name": "stdout",
     "output_type": "stream",
     "text": [
      "Min entropy: 1.42,             Mean Entropy: 1.66,             Max entropy: 1.89\n",
      "Max IoU score: 0.5216709478656842\n",
      "----------------------------------------\n",
      "\n",
      "\n",
      "Number of samples to label on one iteration, k=20\n",
      "------------------------------------\n",
      "Labelled set size:  20\n",
      "Unlabelled set size:  233\n",
      "\n",
      "Training a model for 1 epochs...\n"
     ]
    },
    {
     "name": "stderr",
     "output_type": "stream",
     "text": [
      "  1%|          | 2/233 [00:00<00:13, 17.67it/s]"
     ]
    },
    {
     "name": "stdout",
     "output_type": "stream",
     "text": [
      "IoU so far: 5.425347129016378e-13\n",
      "Inference on unlabelled data...\n"
     ]
    },
    {
     "name": "stderr",
     "output_type": "stream",
     "text": [
      "100%|██████████| 233/233 [00:15<00:00, 15.48it/s]\n"
     ]
    },
    {
     "name": "stdout",
     "output_type": "stream",
     "text": [
      "Min entropy: 5.05,             Mean Entropy: 5.13,             Max entropy: 5.18\n",
      "Labelled set size:  40\n",
      "Unlabelled set size:  213\n",
      "\n",
      "Training a model for 1 epochs...\n"
     ]
    },
    {
     "name": "stderr",
     "output_type": "stream",
     "text": [
      "  1%|          | 2/213 [00:00<00:12, 17.36it/s]"
     ]
    },
    {
     "name": "stdout",
     "output_type": "stream",
     "text": [
      "IoU so far: 5.425347129016378e-13\n",
      "Inference on unlabelled data...\n"
     ]
    },
    {
     "name": "stderr",
     "output_type": "stream",
     "text": [
      "100%|██████████| 213/213 [00:13<00:00, 15.91it/s]"
     ]
    },
    {
     "name": "stdout",
     "output_type": "stream",
     "text": [
      "Min entropy: 5.04,             Mean Entropy: 5.10,             Max entropy: 5.14\n",
      "Labelled set size:  60\n",
      "Unlabelled set size:  193\n",
      "\n",
      "Training a model for 1 epochs...\n"
     ]
    },
    {
     "name": "stderr",
     "output_type": "stream",
     "text": [
      "\n",
      "  1%|          | 2/193 [00:00<00:12, 15.74it/s]"
     ]
    },
    {
     "name": "stdout",
     "output_type": "stream",
     "text": [
      "IoU so far: 5.425347129016378e-13\n",
      "Inference on unlabelled data...\n"
     ]
    },
    {
     "name": "stderr",
     "output_type": "stream",
     "text": [
      "100%|██████████| 193/193 [00:12<00:00, 15.63it/s]"
     ]
    },
    {
     "name": "stdout",
     "output_type": "stream",
     "text": [
      "Min entropy: 5.20,             Mean Entropy: 5.23,             Max entropy: 5.25\n",
      "Labelled set size:  80\n",
      "Unlabelled set size:  173\n",
      "\n",
      "Training a model for 1 epochs...\n"
     ]
    },
    {
     "name": "stderr",
     "output_type": "stream",
     "text": [
      "\n",
      "  1%|          | 2/173 [00:00<00:11, 15.18it/s]"
     ]
    },
    {
     "name": "stdout",
     "output_type": "stream",
     "text": [
      "IoU so far: 5.425338723765874e-13\n",
      "Inference on unlabelled data...\n"
     ]
    },
    {
     "name": "stderr",
     "output_type": "stream",
     "text": [
      "100%|██████████| 173/173 [00:10<00:00, 16.41it/s]"
     ]
    },
    {
     "name": "stdout",
     "output_type": "stream",
     "text": [
      "Min entropy: 5.13,             Mean Entropy: 5.20,             Max entropy: 5.23\n",
      "Labelled set size:  100\n",
      "Unlabelled set size:  153\n",
      "\n",
      "Training a model for 1 epochs...\n"
     ]
    },
    {
     "name": "stderr",
     "output_type": "stream",
     "text": [
      "\n",
      "  1%|▏         | 2/153 [00:00<00:09, 16.66it/s]"
     ]
    },
    {
     "name": "stdout",
     "output_type": "stream",
     "text": [
      "IoU so far: 0.031232640405397614\n",
      "Inference on unlabelled data...\n"
     ]
    },
    {
     "name": "stderr",
     "output_type": "stream",
     "text": [
      "100%|██████████| 153/153 [00:09<00:00, 15.84it/s]"
     ]
    },
    {
     "name": "stdout",
     "output_type": "stream",
     "text": [
      "Min entropy: 4.68,             Mean Entropy: 4.94,             Max entropy: 5.06\n",
      "Labelled set size:  120\n",
      "Unlabelled set size:  133\n",
      "\n",
      "Training a model for 1 epochs...\n"
     ]
    },
    {
     "name": "stderr",
     "output_type": "stream",
     "text": [
      "\n",
      "  2%|▏         | 2/133 [00:00<00:07, 16.73it/s]"
     ]
    },
    {
     "name": "stdout",
     "output_type": "stream",
     "text": [
      "IoU so far: 0.09633839565633547\n",
      "Inference on unlabelled data...\n"
     ]
    },
    {
     "name": "stderr",
     "output_type": "stream",
     "text": [
      "100%|██████████| 133/133 [00:07<00:00, 16.93it/s]"
     ]
    },
    {
     "name": "stdout",
     "output_type": "stream",
     "text": [
      "Min entropy: 3.75,             Mean Entropy: 4.37,             Max entropy: 4.90\n",
      "Labelled set size:  140\n",
      "Unlabelled set size:  113\n",
      "\n",
      "Training a model for 1 epochs...\n"
     ]
    },
    {
     "name": "stderr",
     "output_type": "stream",
     "text": [
      "\n",
      "  2%|▏         | 2/113 [00:00<00:10, 10.89it/s]"
     ]
    },
    {
     "name": "stdout",
     "output_type": "stream",
     "text": [
      "IoU so far: 0.17538394343734975\n",
      "Inference on unlabelled data...\n"
     ]
    },
    {
     "name": "stderr",
     "output_type": "stream",
     "text": [
      "100%|██████████| 113/113 [00:07<00:00, 14.96it/s]"
     ]
    },
    {
     "name": "stdout",
     "output_type": "stream",
     "text": [
      "Min entropy: 3.08,             Mean Entropy: 3.72,             Max entropy: 4.53\n",
      "Labelled set size:  160\n",
      "Unlabelled set size:  93\n",
      "\n",
      "Training a model for 1 epochs...\n"
     ]
    },
    {
     "name": "stderr",
     "output_type": "stream",
     "text": [
      "\n",
      "  2%|▏         | 2/93 [00:00<00:05, 16.03it/s]"
     ]
    },
    {
     "name": "stdout",
     "output_type": "stream",
     "text": [
      "IoU so far: 0.22917964523381526\n",
      "Inference on unlabelled data...\n"
     ]
    },
    {
     "name": "stderr",
     "output_type": "stream",
     "text": [
      "100%|██████████| 93/93 [00:06<00:00, 14.17it/s]"
     ]
    },
    {
     "name": "stdout",
     "output_type": "stream",
     "text": [
      "Min entropy: 2.71,             Mean Entropy: 3.15,             Max entropy: 3.76\n",
      "Labelled set size:  180\n",
      "Unlabelled set size:  73\n",
      "\n",
      "Training a model for 1 epochs...\n"
     ]
    },
    {
     "name": "stderr",
     "output_type": "stream",
     "text": [
      "\n",
      "  3%|▎         | 2/73 [00:00<00:04, 16.96it/s]"
     ]
    },
    {
     "name": "stdout",
     "output_type": "stream",
     "text": [
      "IoU so far: 0.2912772356873692\n",
      "Inference on unlabelled data...\n"
     ]
    },
    {
     "name": "stderr",
     "output_type": "stream",
     "text": [
      "100%|██████████| 73/73 [00:04<00:00, 17.48it/s]"
     ]
    },
    {
     "name": "stdout",
     "output_type": "stream",
     "text": [
      "Min entropy: 2.46,             Mean Entropy: 2.72,             Max entropy: 3.01\n",
      "Labelled set size:  200\n",
      "Unlabelled set size:  53\n",
      "\n",
      "Training a model for 1 epochs...\n"
     ]
    },
    {
     "name": "stderr",
     "output_type": "stream",
     "text": [
      "\n",
      "  4%|▍         | 2/53 [00:00<00:02, 18.60it/s]"
     ]
    },
    {
     "name": "stdout",
     "output_type": "stream",
     "text": [
      "IoU so far: 0.31203092560909773\n",
      "Inference on unlabelled data...\n"
     ]
    },
    {
     "name": "stderr",
     "output_type": "stream",
     "text": [
      "100%|██████████| 53/53 [00:02<00:00, 18.61it/s]"
     ]
    },
    {
     "name": "stdout",
     "output_type": "stream",
     "text": [
      "Min entropy: 2.44,             Mean Entropy: 2.63,             Max entropy: 2.81\n",
      "Labelled set size:  220\n",
      "Unlabelled set size:  33\n",
      "\n",
      "Training a model for 1 epochs...\n"
     ]
    },
    {
     "name": "stderr",
     "output_type": "stream",
     "text": [
      "\n",
      "  6%|▌         | 2/33 [00:00<00:01, 18.17it/s]"
     ]
    },
    {
     "name": "stdout",
     "output_type": "stream",
     "text": [
      "IoU so far: 0.3281488610376226\n",
      "Inference on unlabelled data...\n"
     ]
    },
    {
     "name": "stderr",
     "output_type": "stream",
     "text": [
      "100%|██████████| 33/33 [00:01<00:00, 18.74it/s]\n"
     ]
    },
    {
     "name": "stdout",
     "output_type": "stream",
     "text": [
      "Min entropy: 2.26,             Mean Entropy: 2.41,             Max entropy: 2.55\n",
      "Max IoU score: 0.3281488610376226\n",
      "----------------------------------------\n",
      "\n",
      "\n",
      "Number of samples to label on one iteration, k=40\n",
      "------------------------------------\n",
      "Labelled set size:  20\n",
      "Unlabelled set size:  233\n",
      "\n",
      "Training a model for 1 epochs...\n"
     ]
    },
    {
     "name": "stderr",
     "output_type": "stream",
     "text": [
      "  1%|          | 2/233 [00:00<00:13, 17.16it/s]"
     ]
    },
    {
     "name": "stdout",
     "output_type": "stream",
     "text": [
      "IoU so far: 5.425347129016378e-13\n",
      "Inference on unlabelled data...\n"
     ]
    },
    {
     "name": "stderr",
     "output_type": "stream",
     "text": [
      "100%|██████████| 233/233 [00:14<00:00, 15.77it/s]"
     ]
    },
    {
     "name": "stdout",
     "output_type": "stream",
     "text": [
      "Min entropy: 4.79,             Mean Entropy: 4.92,             Max entropy: 5.09\n",
      "Labelled set size:  60\n",
      "Unlabelled set size:  193\n",
      "\n",
      "Training a model for 1 epochs...\n"
     ]
    },
    {
     "name": "stderr",
     "output_type": "stream",
     "text": [
      "\n",
      "  1%|          | 2/193 [00:00<00:10, 17.77it/s]"
     ]
    },
    {
     "name": "stdout",
     "output_type": "stream",
     "text": [
      "IoU so far: 5.425347129016378e-13\n",
      "Inference on unlabelled data...\n"
     ]
    },
    {
     "name": "stderr",
     "output_type": "stream",
     "text": [
      "100%|██████████| 193/193 [00:12<00:00, 15.73it/s]"
     ]
    },
    {
     "name": "stdout",
     "output_type": "stream",
     "text": [
      "Min entropy: 4.36,             Mean Entropy: 4.41,             Max entropy: 4.48\n",
      "Labelled set size:  100\n",
      "Unlabelled set size:  153\n",
      "\n",
      "Training a model for 1 epochs...\n"
     ]
    },
    {
     "name": "stderr",
     "output_type": "stream",
     "text": [
      "\n",
      "  1%|▏         | 2/153 [00:00<00:08, 17.03it/s]"
     ]
    },
    {
     "name": "stdout",
     "output_type": "stream",
     "text": [
      "IoU so far: 5.425346259507705e-13\n",
      "Inference on unlabelled data...\n"
     ]
    },
    {
     "name": "stderr",
     "output_type": "stream",
     "text": [
      "100%|██████████| 153/153 [00:10<00:00, 14.96it/s]"
     ]
    },
    {
     "name": "stdout",
     "output_type": "stream",
     "text": [
      "Min entropy: 4.76,             Mean Entropy: 4.87,             Max entropy: 4.98\n",
      "Labelled set size:  140\n",
      "Unlabelled set size:  113\n",
      "\n",
      "Training a model for 1 epochs...\n"
     ]
    },
    {
     "name": "stderr",
     "output_type": "stream",
     "text": [
      "\n",
      "  2%|▏         | 2/113 [00:00<00:06, 17.28it/s]"
     ]
    },
    {
     "name": "stdout",
     "output_type": "stream",
     "text": [
      "IoU so far: 0.004004191400340326\n",
      "Inference on unlabelled data...\n"
     ]
    },
    {
     "name": "stderr",
     "output_type": "stream",
     "text": [
      "100%|██████████| 113/113 [00:06<00:00, 16.74it/s]"
     ]
    },
    {
     "name": "stdout",
     "output_type": "stream",
     "text": [
      "Min entropy: 5.13,             Mean Entropy: 5.30,             Max entropy: 5.49\n",
      "Labelled set size:  180\n",
      "Unlabelled set size:  73\n",
      "\n",
      "Training a model for 1 epochs...\n"
     ]
    },
    {
     "name": "stderr",
     "output_type": "stream",
     "text": [
      "\n",
      "  3%|▎         | 2/73 [00:00<00:04, 17.67it/s]"
     ]
    },
    {
     "name": "stdout",
     "output_type": "stream",
     "text": [
      "IoU so far: 0.06302284401389632\n",
      "Inference on unlabelled data...\n"
     ]
    },
    {
     "name": "stderr",
     "output_type": "stream",
     "text": [
      "100%|██████████| 73/73 [00:04<00:00, 17.22it/s]"
     ]
    },
    {
     "name": "stdout",
     "output_type": "stream",
     "text": [
      "Min entropy: 3.50,             Mean Entropy: 4.71,             Max entropy: 5.26\n",
      "Labelled set size:  220\n",
      "Unlabelled set size:  33\n",
      "\n",
      "Training a model for 1 epochs...\n"
     ]
    },
    {
     "name": "stderr",
     "output_type": "stream",
     "text": [
      "\n"
     ]
    },
    {
     "name": "stdout",
     "output_type": "stream",
     "text": [
      "IoU so far: 0.17569702738287424\n",
      "\n",
      "No more images in Unlabelled set\n",
      "Max IoU score: 0.17569702738287424\n",
      "----------------------------------------\n",
      "\n",
      "\n",
      "Number of samples to label on one iteration, k=60\n",
      "------------------------------------\n",
      "Labelled set size:  20\n",
      "Unlabelled set size:  233\n",
      "\n",
      "Training a model for 1 epochs...\n"
     ]
    },
    {
     "name": "stderr",
     "output_type": "stream",
     "text": [
      "  1%|          | 2/233 [00:00<00:14, 15.67it/s]"
     ]
    },
    {
     "name": "stdout",
     "output_type": "stream",
     "text": [
      "IoU so far: 5.425347129016378e-13\n",
      "Inference on unlabelled data...\n"
     ]
    },
    {
     "name": "stderr",
     "output_type": "stream",
     "text": [
      "100%|██████████| 233/233 [00:15<00:00, 15.41it/s]"
     ]
    },
    {
     "name": "stdout",
     "output_type": "stream",
     "text": [
      "Min entropy: 4.79,             Mean Entropy: 4.89,             Max entropy: 4.98\n",
      "Labelled set size:  80\n",
      "Unlabelled set size:  173\n",
      "\n",
      "Training a model for 1 epochs...\n"
     ]
    },
    {
     "name": "stderr",
     "output_type": "stream",
     "text": [
      "\n",
      "  1%|          | 2/173 [00:00<00:11, 15.37it/s]"
     ]
    },
    {
     "name": "stdout",
     "output_type": "stream",
     "text": [
      "IoU so far: 5.425347129016378e-13\n",
      "Inference on unlabelled data...\n"
     ]
    },
    {
     "name": "stderr",
     "output_type": "stream",
     "text": [
      "100%|██████████| 173/173 [00:10<00:00, 17.00it/s]"
     ]
    },
    {
     "name": "stdout",
     "output_type": "stream",
     "text": [
      "Min entropy: 4.54,             Mean Entropy: 4.60,             Max entropy: 4.73\n",
      "Labelled set size:  140\n",
      "Unlabelled set size:  113\n",
      "\n",
      "Training a model for 1 epochs...\n"
     ]
    },
    {
     "name": "stderr",
     "output_type": "stream",
     "text": [
      "\n",
      "  2%|▏         | 2/113 [00:00<00:07, 15.63it/s]"
     ]
    },
    {
     "name": "stdout",
     "output_type": "stream",
     "text": [
      "IoU so far: 0.011732326405547042\n",
      "Inference on unlabelled data...\n"
     ]
    },
    {
     "name": "stderr",
     "output_type": "stream",
     "text": [
      "100%|██████████| 113/113 [00:07<00:00, 15.37it/s]"
     ]
    },
    {
     "name": "stdout",
     "output_type": "stream",
     "text": [
      "Min entropy: 4.96,             Mean Entropy: 5.24,             Max entropy: 5.36\n",
      "Labelled set size:  200\n",
      "Unlabelled set size:  53\n",
      "\n",
      "Training a model for 1 epochs...\n"
     ]
    },
    {
     "name": "stderr",
     "output_type": "stream",
     "text": [
      "\n"
     ]
    },
    {
     "name": "stdout",
     "output_type": "stream",
     "text": [
      "IoU so far: 0.06297247827348142\n",
      "\n",
      "No more images in Unlabelled set\n",
      "Max IoU score: 0.06297247827348142\n",
      "----------------------------------------\n",
      "\n",
      "saved Unet_Linknet_Nsamples_220_epochs_1_N0_20_Ks_10_20_40_60_Random_Margin_Entropy_.pkl /home/ruslan/Desktop/DoEdu/src/active_learning/src ['data', 'anomaly_detection.py', 'weights', 'Unet_Nsamples_120_epochs_1_N0_20_Ks_10_Random_.pkl', 'augmentations.py', 'segmodel.py', 'utils.py', 'Unet_Nsamples_120_epochs_1_N0_20_Ks_10_Random_Margin_Entropy_.pkl', 'results', 'Unet_Nsamples_120_epochs_5_N0_20_Ks_10_Random_.pkl', 'al_runs', '__pycache__', 'best_model.pth', 'active_learning_semantic_segmentation.ipynb', 'Active_Learning_Tutorial.ipynb', 'Perception_4_ActiveLearning_7_OnlineLearning.png', 'dataset.py', '.ipynb_checkpoints', '.gitignore', 'train_semantic_segmentation.ipynb', 'Unet_Linknet_Nsamples_220_epochs_1_N0_20_Ks_10_20_40_60_Random_Margin_Entropy_.pkl', 'fpn_best_model.pth']\n"
     ]
    }
   ],
   "source": [
    "results = {}\n",
    "\n",
    "# choose model\n",
    "for model_str in MODELS:\n",
    "    print(f'\\nModel name: {model_str}')\n",
    "    print('------------------------------------')\n",
    "    results[model_str] = {}\n",
    "    \n",
    "    # choose samples selection function\n",
    "    for samples_selection_str in SAMPLES_SELECTIONS:\n",
    "        print(f'\\nSamples selection function: {samples_selection_str}')\n",
    "        print('------------------------------------')\n",
    "        results[model_str][samples_selection_str] = {}\n",
    "        \n",
    "        # choose number of samples to select for labelling from inference results\n",
    "        for k in NUM_UNCERTAIN_IMAGES:\n",
    "            print(f'\\nNumber of samples to label on one iteration, k={k}')\n",
    "            print('------------------------------------')\n",
    "            results[model_str][samples_selection_str][str(k)] = {}\n",
    "            \n",
    "            NAME = f'{model_str}-{samples_selection_str}-{k}'\n",
    "            IoUs, N_train_samples = al_experiment(model_str, samples_selection_str, k, NAME, verbose_train=False)\n",
    "            \n",
    "            results[model_str][samples_selection_str][str(k)]['IoUs'] = IoUs\n",
    "            results[model_str][samples_selection_str][str(k)]['N_train_samples'] = N_train_samples\n",
    "            \n",
    "pickle_save('results/'+RESULTS_FNAME, results)"
   ]
  },
  {
   "cell_type": "markdown",
   "metadata": {},
   "source": [
    "## Results"
   ]
  },
  {
   "cell_type": "code",
   "execution_count": 7,
   "metadata": {},
   "outputs": [
    {
     "data": {
      "image/png": "[encoded data removed]",
      "text/plain": [
       "<Figure size 576x576 with 1 Axes>"
      ]
     },
     "metadata": {
      "needs_background": "light"
     },
     "output_type": "display_data"
    }
   ],
   "source": [
    "results = pickle_load('results/'+RESULTS_FNAME)\n",
    "\n",
    "plt.figure(figsize=(8,8))\n",
    "\n",
    "# choose model\n",
    "for model_str in MODELS:    \n",
    "    # choose samples selection function\n",
    "    for samples_selection_str in SAMPLES_SELECTIONS:        \n",
    "        # choose number of samples to select for labelling from inference results\n",
    "        for k in NUM_UNCERTAIN_IMAGES:\n",
    "\n",
    "            ious = results[model_str][samples_selection_str][str(k)]['IoUs']\n",
    "            n_train = results[model_str][samples_selection_str][str(k)]['N_train_samples']\n",
    "\n",
    "            plt.plot(np.array(n_train[1:])/len(X_train_paths), ious[1:], label=model_str+'_'+samples_selection_str+'_k='+str(k))\n",
    "        \n",
    "plt.grid()\n",
    "plt.title('Active Learning Results', fontsize=18)\n",
    "plt.xlabel('N images / full train set size', fontsize=16)\n",
    "plt.ylabel('IoU', fontsize=16)\n",
    "plt.legend();"
   ]
  },
  {
   "cell_type": "markdown",
   "metadata": {},
   "source": [
    "### Queery by committee"
   ]
  },
  {
   "cell_type": "code",
   "execution_count": 8,
   "metadata": {},
   "outputs": [],
   "source": [
    "# unet = SegModel(smp.Unet)\n",
    "# fpn = SegModel(smp.FPN)\n",
    "# unet.model = torch.load('./unet_best_model.pth')\n",
    "# fpn.model = torch.load('./fpn_best_model.pth')\n",
    "\n",
    "# path = X_test_paths[10]\n",
    "# img = cv2.imread(path)[...,(2,1,0)]\n",
    "# pred1 = unet.predict([path]).squeeze().cpu().numpy()\n",
    "# pred2 = fpn.predict([path]).squeeze().cpu().numpy()\n",
    "\n",
    "# img_i = 8\n",
    "# visualize(image=img, mask1=pred1[img_i,...], mask2=pred2[img_i,...])\n",
    "\n",
    "# from sklearn.metrics import jaccard_similarity_score\n",
    "\n",
    "# def mean_iou(pred_np1, pred_np2):\n",
    "#     ious = []\n",
    "#     for i in range(pred_np1.shape[0]):\n",
    "#         mask1 = pred_np1[i,...].round().flatten()\n",
    "#         mask2 = pred_np2[i,...].round().flatten()\n",
    "#         iou = jaccard_similarity_score(mask1, mask2, normalize=True)\n",
    "#         ious.append(iou)\n",
    "#     return np.mean(ious)\n",
    "\n",
    "# print(f'Mean IoU: {mean_iou(pred1, pred2)}')"
   ]
  }
 ],
 "metadata": {
  "kernelspec": {
   "display_name": "Python 3",
   "language": "python",
   "name": "python3"
  },
  "language_info": {
   "codemirror_mode": {
    "name": "ipython",
    "version": 3
   },
   "file_extension": ".py",
   "mimetype": "text/x-python",
   "name": "python",
   "nbconvert_exporter": "python",
   "pygments_lexer": "ipython3",
   "version": "3.6.10"
  }
 },
 "nbformat": 4,
 "nbformat_minor": 4
}
