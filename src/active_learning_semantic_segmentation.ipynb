{
 "cells": [
  {
   "cell_type": "markdown",
   "metadata": {},
   "source": [
    "## Active learning"
   ]
  },
  {
   "cell_type": "markdown",
   "metadata": {},
   "source": [
    "<img src=\"./Perception_4_ActiveLearning_7_OnlineLearning.png\" alt=\"Drawing\" style=\"width: 800px;\"/>"
   ]
  },
  {
   "cell_type": "code",
   "execution_count": 1,
   "metadata": {},
   "outputs": [],
   "source": [
    "import os\n",
    "os.environ['CUDA_VISIBLE_DEVICES'] = '0'\n",
    "\n",
    "import numpy as np\n",
    "import cv2\n",
    "import matplotlib.pyplot as plt\n",
    "from utils import Dataset, visualize, pickle_load, pickle_save\n",
    "from augmentations import get_preprocessing, get_training_augmentation, get_validation_augmentation\n",
    "import torch\n",
    "import numpy as np\n",
    "from tqdm import tqdm\n",
    "import segmentation_models_pytorch as smp\n",
    "from torch.utils.data import DataLoader\n",
    "from torch.utils.data import Dataset as BaseDataset"
   ]
  },
  {
   "cell_type": "markdown",
   "metadata": {},
   "source": [
    "### Load data"
   ]
  },
  {
   "cell_type": "code",
   "execution_count": 2,
   "metadata": {},
   "outputs": [],
   "source": [
    "DATA_DIR = './data/CamVid/'\n",
    "\n",
    "x_train_dir = os.path.join(DATA_DIR, 'train')\n",
    "y_train_dir = os.path.join(DATA_DIR, 'trainannot')\n",
    "\n",
    "x_valid_dir = os.path.join(DATA_DIR, 'val')\n",
    "y_valid_dir = os.path.join(DATA_DIR, 'valannot')\n",
    "\n",
    "x_test_dir = os.path.join(DATA_DIR, 'test')\n",
    "y_test_dir = os.path.join(DATA_DIR, 'testannot')\n",
    "\n",
    "# all data paths\n",
    "X_train_paths = np.array([os.path.join(x_train_dir, image_name) for image_name in os.listdir(x_train_dir)])\n",
    "y_train_paths = np.array([os.path.join(y_train_dir, image_name) for image_name in os.listdir(y_train_dir)])\n",
    "\n",
    "X_valid_paths = np.array([os.path.join(x_valid_dir, image_name) for image_name in os.listdir(x_valid_dir)])\n",
    "y_valid_paths = np.array([os.path.join(y_valid_dir, image_name) for image_name in os.listdir(y_valid_dir)])\n",
    "\n",
    "X_test_paths = np.array([os.path.join(x_test_dir, image_name) for image_name in os.listdir(x_test_dir)])\n",
    "y_test_paths = np.array([os.path.join(y_test_dir, image_name) for image_name in os.listdir(y_test_dir)])"
   ]
  },
  {
   "cell_type": "markdown",
   "metadata": {},
   "source": [
    "### Create model"
   ]
  },
  {
   "cell_type": "code",
   "execution_count": 3,
   "metadata": {},
   "outputs": [],
   "source": [
    "from abc import ABC, abstractmethod\n",
    "\n",
    "class BaseModel(ABC):\n",
    "\n",
    "    def __init__(self):\n",
    "        pass\n",
    "\n",
    "    @abstractmethod\n",
    "    def train(self):\n",
    "        pass\n",
    "    \n",
    "    @abstractmethod\n",
    "    def predict(self):\n",
    "        pass\n",
    "\n",
    "\n",
    "class Unet(BaseModel):\n",
    "    \n",
    "    model_type = 'Unet Resnet18'\n",
    "    \n",
    "    def __init__(self):\n",
    "        super(Unet, self).__init__()\n",
    "        # model params\n",
    "        self.encoder = 'resnet18'\n",
    "        self.encoder_weights = 'imagenet'\n",
    "        # self.classes = ['car', 'road']\n",
    "        self.classes = ['sky', 'building', 'pole', 'road', 'pavement', \n",
    "                        'tree', 'signsymbol', 'fence', 'car', \n",
    "                        'pedestrian', 'bicyclist']\n",
    "        self.n_classes = 1 if len(self.classes) == 1 else (len(self.classes) + 1)\n",
    "        self.activation = 'sigmoid' if len(self.classes) == 1 else 'softmax2d'\n",
    "        # training params\n",
    "        self.learning_rate = 1e-4\n",
    "        self.device = 'cuda'\n",
    "        self.epochs = 1\n",
    "        self.batch_size = 8\n",
    "        self.model = None\n",
    "        self.max_iou_score = 0\n",
    "        self.preprocessing_fn = smp.encoders.get_preprocessing_fn(self.encoder, self.encoder_weights)\n",
    "        \n",
    "    def create_model(self):\n",
    "        self.model = smp.Unet(encoder_name=self.encoder,\n",
    "                              encoder_weights=self.encoder_weights,\n",
    "                              classes=self.n_classes,\n",
    "                              activation=self.activation)\n",
    "        return self.model\n",
    "    \n",
    "    def create_epoch_runners(self, verbose=False):\n",
    "        # Dice/F1 score - https://en.wikipedia.org/wiki/S%C3%B8rensen%E2%80%93Dice_coefficient\n",
    "        # IoU/Jaccard score - https://en.wikipedia.org/wiki/Jaccard_index\n",
    "        loss = smp.utils.losses.DiceLoss()\n",
    "        metrics = [\n",
    "            smp.utils.metrics.IoU(threshold=0.5),\n",
    "        ]\n",
    "        optimizer = torch.optim.Adam([ \n",
    "            dict(params=self.model.parameters(), lr=self.learning_rate),\n",
    "        ])\n",
    "        # create epoch runners \n",
    "        # it is a simple loop of iterating over dataloader`s samples\n",
    "        train_epoch = smp.utils.train.TrainEpoch(\n",
    "            self.model, \n",
    "            loss=loss, \n",
    "            metrics=metrics, \n",
    "            optimizer=optimizer,\n",
    "            device=self.device,\n",
    "            verbose=verbose,\n",
    "        )\n",
    "        valid_epoch = smp.utils.train.ValidEpoch(\n",
    "            self.model, \n",
    "            loss=loss, \n",
    "            metrics=metrics, \n",
    "            device=self.device,\n",
    "            verbose=verbose,\n",
    "        )\n",
    "        \n",
    "        return train_epoch, valid_epoch\n",
    "        \n",
    "    def create_datasets(self, train_images_paths, train_masks_paths, valid_images_paths, valid_masks_paths):\n",
    "        train_dataset = Dataset(\n",
    "            train_images_paths, \n",
    "            train_masks_paths, \n",
    "            augmentation=get_training_augmentation(), \n",
    "            preprocessing=get_preprocessing(self.preprocessing_fn),\n",
    "            classes=self.classes,\n",
    "        )\n",
    "        valid_dataset = Dataset(\n",
    "            valid_images_paths,\n",
    "            valid_masks_paths,\n",
    "            augmentation=get_validation_augmentation(), \n",
    "            preprocessing=get_preprocessing(self.preprocessing_fn),\n",
    "            classes=self.classes,\n",
    "        )\n",
    "        return train_dataset, valid_dataset\n",
    "    \n",
    "    def train(self, train_images_paths, train_masks_paths, valid_images_paths, valid_masks_paths, verbose=False):\n",
    "        if self.model is None: self.create_model()\n",
    "        train_epoch, valid_epoch = self.create_epoch_runners(verbose=verbose)\n",
    "        train_dataset, valid_dataset = self.create_datasets(train_images_paths,\n",
    "                                                            train_masks_paths,\n",
    "                                                            valid_images_paths,\n",
    "                                                            valid_masks_paths)\n",
    "        train_loader = DataLoader(train_dataset, batch_size=self.batch_size, shuffle=True, num_workers=12)\n",
    "        valid_loader = DataLoader(valid_dataset, batch_size=1, shuffle=False, num_workers=4)\n",
    "        # train loop\n",
    "        max_score = 0\n",
    "        for i in range(0, self.epochs):\n",
    "            if verbose: print('\\nEpoch: {}'.format(i))\n",
    "            train_logs = train_epoch.run(train_loader)\n",
    "            valid_logs = valid_epoch.run(valid_loader)\n",
    "            # do something (save model, change lr, etc.)\n",
    "            if max_score < valid_logs['iou_score']:\n",
    "                max_score = valid_logs['iou_score']\n",
    "                torch.save(self.model, './unet_best_model.pth')\n",
    "                if verbose: print('Model saved!')\n",
    "        # update model with the best saved\n",
    "        self.max_iou_score = max_score\n",
    "        self.model = torch.load('./unet_best_model.pth')\n",
    "        \n",
    "    def predict(self, image_paths):\n",
    "        images = []\n",
    "        for image_path in image_paths:\n",
    "            # input preprocessing\n",
    "            image_raw = cv2.cvtColor(cv2.imread(image_path), cv2.COLOR_BGR2RGB)\n",
    "            image = np.copy(image_raw)\n",
    "            image = cv2.resize(image, (320, 320))\n",
    "            preprocessing = get_preprocessing(self.preprocessing_fn)\n",
    "            image = preprocessing(image=image)['image']\n",
    "            images.append(image)\n",
    "        # convert to torch tensor and do inference\n",
    "        x_tensor = torch.tensor(images).to(self.device)\n",
    "        predictions = self.model.predict(x_tensor)\n",
    "        return predictions\n",
    "    \n",
    "def model_selection_function(name):\n",
    "    if name=='Unet': return Unet()\n",
    "    else: print('Supported sample selection functions: Unet')"
   ]
  },
  {
   "cell_type": "markdown",
   "metadata": {},
   "source": [
    "### Active Learning experiment\n",
    "\n",
    "- X_train, y_train: is used partially to train a model\n",
    "- X_valid, y_valid: is used fully for validation\n",
    "- X_test, y_test: is used as an unlabelled set to detect anomalies and add labels to train set"
   ]
  },
  {
   "cell_type": "markdown",
   "metadata": {},
   "source": [
    "#### Firstly we define Anomaly detection functions here"
   ]
  },
  {
   "cell_type": "code",
   "execution_count": 4,
   "metadata": {},
   "outputs": [],
   "source": [
    "def normalize(x):\n",
    "    \"\"\"Scale image to range 0..1 for correct entropy calculation\"\"\"\n",
    "    x_max = np.percentile(x, 98)\n",
    "    x_min = np.percentile(x, 2)    \n",
    "    x = (x - x_min) / (x_max - x_min)\n",
    "    x = x.clip(0, 1)\n",
    "    return x\n",
    "def entropy(mask_np, eps=1e-9):\n",
    "    mask_np = normalize(mask_np)\n",
    "    # mask_np.shape = (3, N, M)\n",
    "    e = np.mean( (-mask_np * np.log2(mask_np+eps)).sum(axis=0) )\n",
    "    return e\n",
    "def entropy_selection(X_test_paths, n_samples, model):\n",
    "    # do inference and compute entropy for each image\n",
    "    entropies = []\n",
    "    print('Inference on unlabelled data...')\n",
    "    for img_path in tqdm(X_test_paths):\n",
    "        pr_mask = model.predict([img_path])\n",
    "        mask_np = pr_mask.squeeze().cpu().numpy()\n",
    "        entropies.append(entropy(mask_np))\n",
    "    # Model is mostly uncertain in images with High entropy\n",
    "    #print('Choosing uncertain images to label...')\n",
    "    selected_images_indexes = (np.argsort(entropies))[::-1][:n_samples]\n",
    "    print(f'Min entropy: {np.min(entropies):.2f}, \\\n",
    "            Mean Entropy: {np.mean(entropies):.2f}, \\\n",
    "            Max entropy: {np.max(entropies):.2f}')\n",
    "    return selected_images_indexes\n",
    "\n",
    "def random_samples_selection(X, n_samples, model=None):\n",
    "    selected_images_indexes = np.random.choice(len(X), n_samples, replace=False)\n",
    "    return selected_images_indexes\n",
    "\n",
    "def sample_selection_function(name):\n",
    "    if name=='Random': return random_samples_selection\n",
    "    elif name=='Entropy': return entropy_selection\n",
    "    else: print('Supported sample selection functions: Random, Entropy')"
   ]
  },
  {
   "cell_type": "markdown",
   "metadata": {},
   "source": [
    "#### Main AL experiment"
   ]
  },
  {
   "cell_type": "code",
   "execution_count": 5,
   "metadata": {},
   "outputs": [],
   "source": [
    "def al_experiment(model_str, samples_selection_fn, k, visualize_most_uncertain=False, verbose_train=False):\n",
    "    # define model from its name\n",
    "    model = model_selection_function(model_str)\n",
    "    model.epochs = MODEL_TRAIN_EPOCHS\n",
    "    # define samples selection function from its name\n",
    "    samples_selection_fn = sample_selection_function(samples_selection_str)\n",
    "    \n",
    "    IoUs = [0.]\n",
    "    N_train_samples = [0]\n",
    "\n",
    "    # select k random samples from initial dataset and treat it as initially labelled data\n",
    "    X = np.copy(X_train_paths)\n",
    "    y = np.copy(y_train_paths)\n",
    "    selection = np.random.choice(len(X), INITIAL_N_TRAIN_IMAGES, replace=False) # k\n",
    "    X_train_paths_part = X[selection]\n",
    "    y_train_paths_part = y[selection]\n",
    "\n",
    "    X_test = np.copy(X_test_paths)\n",
    "    y_test = np.copy(y_test_paths)\n",
    "\n",
    "    # main loop\n",
    "    while len(X_train_paths_part) < MAX_QUEERY_IMAGES:\n",
    "        # train model\n",
    "        print('Labelled set size: ', len(X_train_paths_part))\n",
    "        print('Unlabelled set size: ', len(X_test))\n",
    "        print(f'\\nTraining a model for {MODEL_TRAIN_EPOCHS} epochs...')\n",
    "        model.train(X_train_paths_part, y_train_paths_part, X_valid_paths, y_valid_paths, verbose=verbose_train)\n",
    "\n",
    "        # remeber results\n",
    "        print(f'IoU so far: {model.max_iou_score}')\n",
    "        IoUs.append(model.max_iou_score)\n",
    "        N_train_samples.append(len(X_train_paths_part))\n",
    "        \n",
    "        if len(X_test) == 0:\n",
    "            print('\\nNo more images in Unlabelled set')\n",
    "            break\n",
    "            \n",
    "        selected_images_indexes = samples_selection_fn(X_test, k, model)\n",
    "\n",
    "        # Add labels for uncertain images to train data\n",
    "        #print('Labelled set before: ', len(X_train_paths_part))\n",
    "        X_train_paths_part = np.concatenate([X_train_paths_part, X_test_paths[selected_images_indexes]])\n",
    "        y_train_paths_part = np.concatenate([y_train_paths_part, y_test_paths[selected_images_indexes]])\n",
    "        #print('Labelled set after: ', len(X_train_paths_part))\n",
    "\n",
    "        # Visualization\n",
    "        if visualize_most_uncertain:\n",
    "            print('Visualizing most uncertain results so far:')\n",
    "            for i in selected_images_indexes[:1]:\n",
    "                img_path = X_test[i]\n",
    "                image = cv2.imread(img_path)[...,(2,1,0)]\n",
    "                gt_mask = cv2.imread(y_test_paths[i])\n",
    "                pr_mask = model.predict([img_path])\n",
    "                mask_np = pr_mask.squeeze().cpu().numpy().round()\n",
    "\n",
    "                visualize(image=image, car_mask=mask_np[0,...], road_mask=mask_np[1,...])\n",
    "\n",
    "        # Remove labelled data from validation set\n",
    "        #print('Unlabelled set before: ', len(X_test))\n",
    "        X_test = np.delete(X_test, selected_images_indexes)\n",
    "        y_test = np.delete(y_test, selected_images_indexes)\n",
    "        #print('Unlabelled set after: ', len(X_test))\n",
    "        \n",
    "    print(f'Max IoU score: {np.max(IoUs)}')\n",
    "    print('----------------------------------------\\n')\n",
    "    return IoUs, N_train_samples"
   ]
  },
  {
   "cell_type": "code",
   "execution_count": 6,
   "metadata": {},
   "outputs": [],
   "source": [
    "MAX_QUEERY_IMAGES = 210 # 120 # maximum number of images to train on during AL loop\n",
    "MODEL_TRAIN_EPOCHS = 5 # 5 # number of epochs to train a model during one AL cicle\n",
    "INITIAL_N_TRAIN_IMAGES = 30 # 20, initial number of accessible labelled images\n",
    "NUM_UNCERTAIN_IMAGES = [10, 20, 40, 60] # k: number of uncertain images to label at each AL cicle\n",
    "SAMPLES_SELECTIONS = ['Entropy', 'Random']\n",
    "MODELS = ['Unet']"
   ]
  },
  {
   "cell_type": "code",
   "execution_count": 7,
   "metadata": {
    "scrolled": false
   },
   "outputs": [
    {
     "name": "stdout",
     "output_type": "stream",
     "text": [
      "\n",
      "Model name: Unet\n",
      "------------------------------------\n",
      "\n",
      "Samples selection function: Entropy\n",
      "------------------------------------\n",
      "\n",
      "Number of samples to label on one iteration, k=10\n",
      "------------------------------------\n",
      "Labelled set size:  30\n",
      "Unlabelled set size:  233\n",
      "\n",
      "Training a model for 5 epochs...\n"
     ]
    },
    {
     "name": "stderr",
     "output_type": "stream",
     "text": [
      "  1%|          | 2/233 [00:00<00:14, 16.40it/s]"
     ]
    },
    {
     "name": "stdout",
     "output_type": "stream",
     "text": [
      "IoU so far: 0.08334891490712025\n",
      "Inference on unlabelled data...\n"
     ]
    },
    {
     "name": "stderr",
     "output_type": "stream",
     "text": [
      "100%|██████████| 233/233 [00:14<00:00, 16.12it/s]"
     ]
    },
    {
     "name": "stdout",
     "output_type": "stream",
     "text": [
      "Min entropy: 2.49,             Mean Entropy: 4.62,             Max entropy: 5.33\n",
      "Labelled set size:  40\n",
      "Unlabelled set size:  223\n",
      "\n",
      "Training a model for 5 epochs...\n"
     ]
    },
    {
     "name": "stderr",
     "output_type": "stream",
     "text": [
      "\n",
      "  1%|          | 2/223 [00:00<00:13, 16.19it/s]"
     ]
    },
    {
     "name": "stdout",
     "output_type": "stream",
     "text": [
      "IoU so far: 0.30248947869433024\n",
      "Inference on unlabelled data...\n"
     ]
    },
    {
     "name": "stderr",
     "output_type": "stream",
     "text": [
      "100%|██████████| 223/223 [00:13<00:00, 16.60it/s]"
     ]
    },
    {
     "name": "stdout",
     "output_type": "stream",
     "text": [
      "Min entropy: 1.85,             Mean Entropy: 3.31,             Max entropy: 5.13\n",
      "Labelled set size:  50\n",
      "Unlabelled set size:  213\n",
      "\n",
      "Training a model for 5 epochs...\n"
     ]
    },
    {
     "name": "stderr",
     "output_type": "stream",
     "text": [
      "\n",
      "  1%|          | 2/213 [00:00<00:12, 17.03it/s]"
     ]
    },
    {
     "name": "stdout",
     "output_type": "stream",
     "text": [
      "IoU so far: 0.34689596767472736\n",
      "Inference on unlabelled data...\n"
     ]
    },
    {
     "name": "stderr",
     "output_type": "stream",
     "text": [
      "100%|██████████| 213/213 [00:12<00:00, 17.11it/s]"
     ]
    },
    {
     "name": "stdout",
     "output_type": "stream",
     "text": [
      "Min entropy: 1.73,             Mean Entropy: 2.95,             Max entropy: 3.77\n",
      "Labelled set size:  60\n",
      "Unlabelled set size:  203\n",
      "\n",
      "Training a model for 5 epochs...\n"
     ]
    },
    {
     "name": "stderr",
     "output_type": "stream",
     "text": [
      "\n",
      "  1%|          | 2/203 [00:00<00:11, 17.36it/s]"
     ]
    },
    {
     "name": "stdout",
     "output_type": "stream",
     "text": [
      "IoU so far: 0.3676424861544429\n",
      "Inference on unlabelled data...\n"
     ]
    },
    {
     "name": "stderr",
     "output_type": "stream",
     "text": [
      "100%|██████████| 203/203 [00:11<00:00, 17.44it/s]"
     ]
    },
    {
     "name": "stdout",
     "output_type": "stream",
     "text": [
      "Min entropy: 1.51,             Mean Entropy: 2.45,             Max entropy: 2.81\n",
      "Labelled set size:  70\n",
      "Unlabelled set size:  193\n",
      "\n",
      "Training a model for 5 epochs...\n"
     ]
    },
    {
     "name": "stderr",
     "output_type": "stream",
     "text": [
      "\n",
      "  1%|          | 2/193 [00:00<00:12, 15.37it/s]"
     ]
    },
    {
     "name": "stdout",
     "output_type": "stream",
     "text": [
      "IoU so far: 0.5490147716338092\n",
      "Inference on unlabelled data...\n"
     ]
    },
    {
     "name": "stderr",
     "output_type": "stream",
     "text": [
      "100%|██████████| 193/193 [00:11<00:00, 17.43it/s]"
     ]
    },
    {
     "name": "stdout",
     "output_type": "stream",
     "text": [
      "Min entropy: 1.32,             Mean Entropy: 2.09,             Max entropy: 2.71\n",
      "Labelled set size:  80\n",
      "Unlabelled set size:  183\n",
      "\n",
      "Training a model for 5 epochs...\n"
     ]
    },
    {
     "name": "stderr",
     "output_type": "stream",
     "text": [
      "\n",
      "  1%|          | 2/183 [00:00<00:10, 16.96it/s]"
     ]
    },
    {
     "name": "stdout",
     "output_type": "stream",
     "text": [
      "IoU so far: 0.5801471371461854\n",
      "Inference on unlabelled data...\n"
     ]
    },
    {
     "name": "stderr",
     "output_type": "stream",
     "text": [
      "100%|██████████| 183/183 [00:10<00:00, 17.27it/s]"
     ]
    },
    {
     "name": "stdout",
     "output_type": "stream",
     "text": [
      "Min entropy: 0.78,             Mean Entropy: 1.32,             Max entropy: 2.08\n",
      "Labelled set size:  90\n",
      "Unlabelled set size:  173\n",
      "\n",
      "Training a model for 5 epochs...\n"
     ]
    },
    {
     "name": "stderr",
     "output_type": "stream",
     "text": [
      "\n",
      "  1%|          | 2/173 [00:00<00:10, 15.81it/s]"
     ]
    },
    {
     "name": "stdout",
     "output_type": "stream",
     "text": [
      "IoU so far: 0.5840959070932746\n",
      "Inference on unlabelled data...\n"
     ]
    },
    {
     "name": "stderr",
     "output_type": "stream",
     "text": [
      "100%|██████████| 173/173 [00:10<00:00, 17.16it/s]"
     ]
    },
    {
     "name": "stdout",
     "output_type": "stream",
     "text": [
      "Min entropy: 0.60,             Mean Entropy: 1.13,             Max entropy: 1.94\n",
      "Labelled set size:  100\n",
      "Unlabelled set size:  163\n",
      "\n",
      "Training a model for 5 epochs...\n"
     ]
    },
    {
     "name": "stderr",
     "output_type": "stream",
     "text": [
      "\n",
      "  1%|          | 2/163 [00:00<00:08, 18.06it/s]"
     ]
    },
    {
     "name": "stdout",
     "output_type": "stream",
     "text": [
      "IoU so far: 0.5910282341560515\n",
      "Inference on unlabelled data...\n"
     ]
    },
    {
     "name": "stderr",
     "output_type": "stream",
     "text": [
      "100%|██████████| 163/163 [00:09<00:00, 17.38it/s]"
     ]
    },
    {
     "name": "stdout",
     "output_type": "stream",
     "text": [
      "Min entropy: 0.35,             Mean Entropy: 0.75,             Max entropy: 1.28\n",
      "Labelled set size:  110\n",
      "Unlabelled set size:  153\n",
      "\n",
      "Training a model for 5 epochs...\n"
     ]
    },
    {
     "name": "stderr",
     "output_type": "stream",
     "text": [
      "\n",
      "  1%|▏         | 2/153 [00:00<00:08, 16.94it/s]"
     ]
    },
    {
     "name": "stdout",
     "output_type": "stream",
     "text": [
      "IoU so far: 0.588792607335761\n",
      "Inference on unlabelled data...\n"
     ]
    },
    {
     "name": "stderr",
     "output_type": "stream",
     "text": [
      "100%|██████████| 153/153 [00:08<00:00, 17.25it/s]"
     ]
    },
    {
     "name": "stdout",
     "output_type": "stream",
     "text": [
      "Min entropy: 0.35,             Mean Entropy: 0.67,             Max entropy: 1.13\n",
      "Labelled set size:  120\n",
      "Unlabelled set size:  143\n",
      "\n",
      "Training a model for 5 epochs...\n"
     ]
    },
    {
     "name": "stderr",
     "output_type": "stream",
     "text": [
      "\n",
      "  1%|▏         | 2/143 [00:00<00:08, 17.28it/s]"
     ]
    },
    {
     "name": "stdout",
     "output_type": "stream",
     "text": [
      "IoU so far: 0.5920607081734305\n",
      "Inference on unlabelled data...\n"
     ]
    },
    {
     "name": "stderr",
     "output_type": "stream",
     "text": [
      "100%|██████████| 143/143 [00:08<00:00, 17.32it/s]"
     ]
    },
    {
     "name": "stdout",
     "output_type": "stream",
     "text": [
      "Min entropy: 0.18,             Mean Entropy: 0.49,             Max entropy: 0.82\n",
      "Labelled set size:  130\n",
      "Unlabelled set size:  133\n",
      "\n",
      "Training a model for 5 epochs...\n"
     ]
    },
    {
     "name": "stderr",
     "output_type": "stream",
     "text": [
      "\n",
      "  2%|▏         | 2/133 [00:00<00:08, 16.17it/s]"
     ]
    },
    {
     "name": "stdout",
     "output_type": "stream",
     "text": [
      "IoU so far: 0.6447211639715894\n",
      "Inference on unlabelled data...\n"
     ]
    },
    {
     "name": "stderr",
     "output_type": "stream",
     "text": [
      "100%|██████████| 133/133 [00:07<00:00, 17.06it/s]"
     ]
    },
    {
     "name": "stdout",
     "output_type": "stream",
     "text": [
      "Min entropy: 0.14,             Mean Entropy: 0.40,             Max entropy: 0.70\n",
      "Labelled set size:  140\n",
      "Unlabelled set size:  123\n",
      "\n",
      "Training a model for 5 epochs...\n"
     ]
    },
    {
     "name": "stderr",
     "output_type": "stream",
     "text": [
      "\n",
      "  2%|▏         | 2/123 [00:00<00:06, 17.44it/s]"
     ]
    },
    {
     "name": "stdout",
     "output_type": "stream",
     "text": [
      "IoU so far: 0.6515116431925556\n",
      "Inference on unlabelled data...\n"
     ]
    },
    {
     "name": "stderr",
     "output_type": "stream",
     "text": [
      "100%|██████████| 123/123 [00:06<00:00, 17.60it/s]"
     ]
    },
    {
     "name": "stdout",
     "output_type": "stream",
     "text": [
      "Min entropy: 0.11,             Mean Entropy: 0.32,             Max entropy: 0.59\n",
      "Labelled set size:  150\n",
      "Unlabelled set size:  113\n",
      "\n",
      "Training a model for 5 epochs...\n"
     ]
    },
    {
     "name": "stderr",
     "output_type": "stream",
     "text": [
      "\n",
      "  2%|▏         | 2/113 [00:00<00:06, 16.74it/s]"
     ]
    },
    {
     "name": "stdout",
     "output_type": "stream",
     "text": [
      "IoU so far: 0.6472148954278174\n",
      "Inference on unlabelled data...\n"
     ]
    },
    {
     "name": "stderr",
     "output_type": "stream",
     "text": [
      "100%|██████████| 113/113 [00:06<00:00, 17.30it/s]"
     ]
    },
    {
     "name": "stdout",
     "output_type": "stream",
     "text": [
      "Min entropy: 0.07,             Mean Entropy: 0.19,             Max entropy: 0.33\n",
      "Labelled set size:  160\n",
      "Unlabelled set size:  103\n",
      "\n",
      "Training a model for 5 epochs...\n"
     ]
    },
    {
     "name": "stderr",
     "output_type": "stream",
     "text": [
      "\n",
      "  2%|▏         | 2/103 [00:00<00:05, 17.78it/s]"
     ]
    },
    {
     "name": "stdout",
     "output_type": "stream",
     "text": [
      "IoU so far: 0.6548168021853604\n",
      "Inference on unlabelled data...\n"
     ]
    },
    {
     "name": "stderr",
     "output_type": "stream",
     "text": [
      "100%|██████████| 103/103 [00:05<00:00, 17.70it/s]"
     ]
    },
    {
     "name": "stdout",
     "output_type": "stream",
     "text": [
      "Min entropy: 0.11,             Mean Entropy: 0.22,             Max entropy: 0.43\n",
      "Labelled set size:  170\n",
      "Unlabelled set size:  93\n",
      "\n",
      "Training a model for 5 epochs...\n"
     ]
    },
    {
     "name": "stderr",
     "output_type": "stream",
     "text": [
      "\n",
      "  2%|▏         | 2/93 [00:00<00:05, 16.19it/s]"
     ]
    },
    {
     "name": "stdout",
     "output_type": "stream",
     "text": [
      "IoU so far: 0.6651078562925357\n",
      "Inference on unlabelled data...\n"
     ]
    },
    {
     "name": "stderr",
     "output_type": "stream",
     "text": [
      "100%|██████████| 93/93 [00:05<00:00, 17.32it/s]"
     ]
    },
    {
     "name": "stdout",
     "output_type": "stream",
     "text": [
      "Min entropy: 0.04,             Mean Entropy: 0.11,             Max entropy: 0.26\n",
      "Labelled set size:  180\n",
      "Unlabelled set size:  83\n",
      "\n",
      "Training a model for 5 epochs...\n"
     ]
    },
    {
     "name": "stderr",
     "output_type": "stream",
     "text": [
      "\n",
      "  2%|▏         | 2/83 [00:00<00:04, 17.39it/s]"
     ]
    },
    {
     "name": "stdout",
     "output_type": "stream",
     "text": [
      "IoU so far: 0.7921972133145476\n",
      "Inference on unlabelled data...\n"
     ]
    },
    {
     "name": "stderr",
     "output_type": "stream",
     "text": [
      "100%|██████████| 83/83 [00:04<00:00, 16.94it/s]"
     ]
    },
    {
     "name": "stdout",
     "output_type": "stream",
     "text": [
      "Min entropy: 0.06,             Mean Entropy: 0.10,             Max entropy: 0.14\n",
      "Labelled set size:  190\n",
      "Unlabelled set size:  73\n",
      "\n",
      "Training a model for 5 epochs...\n"
     ]
    },
    {
     "name": "stderr",
     "output_type": "stream",
     "text": [
      "\n",
      "  3%|▎         | 2/73 [00:00<00:04, 16.81it/s]"
     ]
    },
    {
     "name": "stdout",
     "output_type": "stream",
     "text": [
      "IoU so far: 0.7974635846544019\n",
      "Inference on unlabelled data...\n"
     ]
    },
    {
     "name": "stderr",
     "output_type": "stream",
     "text": [
      "100%|██████████| 73/73 [00:04<00:00, 17.05it/s]"
     ]
    },
    {
     "name": "stdout",
     "output_type": "stream",
     "text": [
      "Min entropy: 0.04,             Mean Entropy: 0.06,             Max entropy: 0.09\n",
      "Labelled set size:  200\n",
      "Unlabelled set size:  63\n",
      "\n",
      "Training a model for 5 epochs...\n"
     ]
    },
    {
     "name": "stderr",
     "output_type": "stream",
     "text": [
      "\n",
      "  3%|▎         | 2/63 [00:00<00:03, 16.26it/s]"
     ]
    },
    {
     "name": "stdout",
     "output_type": "stream",
     "text": [
      "IoU so far: 0.8017090700640536\n",
      "Inference on unlabelled data...\n"
     ]
    },
    {
     "name": "stderr",
     "output_type": "stream",
     "text": [
      "100%|██████████| 63/63 [00:03<00:00, 16.59it/s]\n"
     ]
    },
    {
     "name": "stdout",
     "output_type": "stream",
     "text": [
      "Min entropy: 0.04,             Mean Entropy: 0.05,             Max entropy: 0.08\n",
      "Max IoU score: 0.8017090700640536\n",
      "----------------------------------------\n",
      "\n",
      "\n",
      "Number of samples to label on one iteration, k=20\n",
      "------------------------------------\n",
      "Labelled set size:  30\n",
      "Unlabelled set size:  233\n",
      "\n",
      "Training a model for 5 epochs...\n"
     ]
    },
    {
     "name": "stderr",
     "output_type": "stream",
     "text": [
      "  1%|          | 2/233 [00:00<00:15, 14.53it/s]"
     ]
    },
    {
     "name": "stdout",
     "output_type": "stream",
     "text": [
      "IoU so far: 0.12051634811381304\n",
      "Inference on unlabelled data...\n"
     ]
    },
    {
     "name": "stderr",
     "output_type": "stream",
     "text": [
      "100%|██████████| 233/233 [00:15<00:00, 15.06it/s]"
     ]
    },
    {
     "name": "stdout",
     "output_type": "stream",
     "text": [
      "Min entropy: 2.64,             Mean Entropy: 4.09,             Max entropy: 5.00\n",
      "Labelled set size:  50\n",
      "Unlabelled set size:  213\n",
      "\n",
      "Training a model for 5 epochs...\n"
     ]
    },
    {
     "name": "stderr",
     "output_type": "stream",
     "text": [
      "\n",
      "  1%|          | 2/213 [00:00<00:12, 16.34it/s]"
     ]
    },
    {
     "name": "stdout",
     "output_type": "stream",
     "text": [
      "IoU so far: 0.4734528129643734\n",
      "Inference on unlabelled data...\n"
     ]
    },
    {
     "name": "stderr",
     "output_type": "stream",
     "text": [
      "100%|██████████| 213/213 [00:13<00:00, 16.34it/s]"
     ]
    },
    {
     "name": "stdout",
     "output_type": "stream",
     "text": [
      "Min entropy: 1.76,             Mean Entropy: 2.29,             Max entropy: 2.72\n",
      "Labelled set size:  70\n",
      "Unlabelled set size:  193\n",
      "\n",
      "Training a model for 5 epochs...\n"
     ]
    },
    {
     "name": "stderr",
     "output_type": "stream",
     "text": [
      "\n",
      "  1%|          | 2/193 [00:00<00:11, 16.59it/s]"
     ]
    },
    {
     "name": "stdout",
     "output_type": "stream",
     "text": [
      "IoU so far: 0.560221866510882\n",
      "Inference on unlabelled data...\n"
     ]
    },
    {
     "name": "stderr",
     "output_type": "stream",
     "text": [
      "100%|██████████| 193/193 [00:11<00:00, 16.86it/s]"
     ]
    },
    {
     "name": "stdout",
     "output_type": "stream",
     "text": [
      "Min entropy: 1.51,             Mean Entropy: 1.94,             Max entropy: 2.31\n",
      "Labelled set size:  90\n",
      "Unlabelled set size:  173\n",
      "\n",
      "Training a model for 5 epochs...\n"
     ]
    },
    {
     "name": "stderr",
     "output_type": "stream",
     "text": [
      "\n",
      "  1%|          | 2/173 [00:00<00:10, 16.95it/s]"
     ]
    },
    {
     "name": "stdout",
     "output_type": "stream",
     "text": [
      "IoU so far: 0.6689569778961713\n",
      "Inference on unlabelled data...\n"
     ]
    },
    {
     "name": "stderr",
     "output_type": "stream",
     "text": [
      "100%|██████████| 173/173 [00:10<00:00, 17.02it/s]"
     ]
    },
    {
     "name": "stdout",
     "output_type": "stream",
     "text": [
      "Min entropy: 1.19,             Mean Entropy: 1.45,             Max entropy: 1.72\n",
      "Labelled set size:  110\n",
      "Unlabelled set size:  153\n",
      "\n",
      "Training a model for 5 epochs...\n"
     ]
    },
    {
     "name": "stderr",
     "output_type": "stream",
     "text": [
      "\n",
      "  1%|▏         | 2/153 [00:00<00:09, 16.46it/s]"
     ]
    },
    {
     "name": "stdout",
     "output_type": "stream",
     "text": [
      "IoU so far: 0.6957298275267724\n",
      "Inference on unlabelled data...\n"
     ]
    },
    {
     "name": "stderr",
     "output_type": "stream",
     "text": [
      "100%|██████████| 153/153 [00:09<00:00, 16.59it/s]"
     ]
    },
    {
     "name": "stdout",
     "output_type": "stream",
     "text": [
      "Min entropy: 0.73,             Mean Entropy: 1.01,             Max entropy: 1.30\n",
      "Labelled set size:  130\n",
      "Unlabelled set size:  133\n",
      "\n",
      "Training a model for 5 epochs...\n"
     ]
    },
    {
     "name": "stderr",
     "output_type": "stream",
     "text": [
      "\n",
      "  2%|▏         | 2/133 [00:00<00:07, 17.53it/s]"
     ]
    },
    {
     "name": "stdout",
     "output_type": "stream",
     "text": [
      "IoU so far: 0.7154277940787891\n",
      "Inference on unlabelled data...\n"
     ]
    },
    {
     "name": "stderr",
     "output_type": "stream",
     "text": [
      "100%|██████████| 133/133 [00:07<00:00, 17.32it/s]"
     ]
    },
    {
     "name": "stdout",
     "output_type": "stream",
     "text": [
      "Min entropy: 0.49,             Mean Entropy: 0.71,             Max entropy: 0.88\n",
      "Labelled set size:  150\n",
      "Unlabelled set size:  113\n",
      "\n",
      "Training a model for 5 epochs...\n"
     ]
    },
    {
     "name": "stderr",
     "output_type": "stream",
     "text": [
      "\n",
      "  2%|▏         | 2/113 [00:00<00:06, 16.03it/s]"
     ]
    },
    {
     "name": "stdout",
     "output_type": "stream",
     "text": [
      "IoU so far: 0.7168863958651476\n",
      "Inference on unlabelled data...\n"
     ]
    },
    {
     "name": "stderr",
     "output_type": "stream",
     "text": [
      "100%|██████████| 113/113 [00:06<00:00, 17.13it/s]"
     ]
    },
    {
     "name": "stdout",
     "output_type": "stream",
     "text": [
      "Min entropy: 0.32,             Mean Entropy: 0.53,             Max entropy: 0.72\n",
      "Labelled set size:  170\n",
      "Unlabelled set size:  93\n",
      "\n",
      "Training a model for 5 epochs...\n"
     ]
    },
    {
     "name": "stderr",
     "output_type": "stream",
     "text": [
      "\n",
      "  2%|▏         | 2/93 [00:00<00:05, 16.90it/s]"
     ]
    },
    {
     "name": "stdout",
     "output_type": "stream",
     "text": [
      "IoU so far: 0.72298396754973\n",
      "Inference on unlabelled data...\n"
     ]
    },
    {
     "name": "stderr",
     "output_type": "stream",
     "text": [
      "100%|██████████| 93/93 [00:05<00:00, 16.89it/s]"
     ]
    },
    {
     "name": "stdout",
     "output_type": "stream",
     "text": [
      "Min entropy: 0.24,             Mean Entropy: 0.42,             Max entropy: 0.56\n",
      "Labelled set size:  190\n",
      "Unlabelled set size:  73\n",
      "\n",
      "Training a model for 5 epochs...\n"
     ]
    },
    {
     "name": "stderr",
     "output_type": "stream",
     "text": [
      "\n",
      "  3%|▎         | 2/73 [00:00<00:04, 16.82it/s]"
     ]
    },
    {
     "name": "stdout",
     "output_type": "stream",
     "text": [
      "IoU so far: 0.7207937748125284\n",
      "Inference on unlabelled data...\n"
     ]
    },
    {
     "name": "stderr",
     "output_type": "stream",
     "text": [
      "100%|██████████| 73/73 [00:04<00:00, 15.79it/s]\n"
     ]
    },
    {
     "name": "stdout",
     "output_type": "stream",
     "text": [
      "Min entropy: 0.16,             Mean Entropy: 0.33,             Max entropy: 0.42\n",
      "Max IoU score: 0.72298396754973\n",
      "----------------------------------------\n",
      "\n",
      "\n",
      "Number of samples to label on one iteration, k=40\n",
      "------------------------------------\n",
      "Labelled set size:  30\n",
      "Unlabelled set size:  233\n",
      "\n",
      "Training a model for 5 epochs...\n"
     ]
    },
    {
     "name": "stderr",
     "output_type": "stream",
     "text": [
      "  1%|          | 2/233 [00:00<00:15, 14.47it/s]"
     ]
    },
    {
     "name": "stdout",
     "output_type": "stream",
     "text": [
      "IoU so far: 0.18440962280377307\n",
      "Inference on unlabelled data...\n"
     ]
    },
    {
     "name": "stderr",
     "output_type": "stream",
     "text": [
      "100%|██████████| 233/233 [00:15<00:00, 14.85it/s]\n"
     ]
    },
    {
     "name": "stdout",
     "output_type": "stream",
     "text": [
      "Min entropy: 2.87,             Mean Entropy: 4.63,             Max entropy: 5.33\n",
      "Labelled set size:  70\n",
      "Unlabelled set size:  193\n",
      "\n",
      "Training a model for 5 epochs...\n"
     ]
    },
    {
     "name": "stderr",
     "output_type": "stream",
     "text": [
      "  1%|          | 2/193 [00:00<00:11, 16.17it/s]"
     ]
    },
    {
     "name": "stdout",
     "output_type": "stream",
     "text": [
      "IoU so far: 0.4319635018853856\n",
      "Inference on unlabelled data...\n"
     ]
    },
    {
     "name": "stderr",
     "output_type": "stream",
     "text": [
      "100%|██████████| 193/193 [00:11<00:00, 16.61it/s]"
     ]
    },
    {
     "name": "stdout",
     "output_type": "stream",
     "text": [
      "Min entropy: 2.42,             Mean Entropy: 3.05,             Max entropy: 3.56\n",
      "Labelled set size:  110\n",
      "Unlabelled set size:  153\n",
      "\n",
      "Training a model for 5 epochs...\n"
     ]
    },
    {
     "name": "stderr",
     "output_type": "stream",
     "text": [
      "\n",
      "  1%|▏         | 2/153 [00:00<00:09, 16.52it/s]"
     ]
    },
    {
     "name": "stdout",
     "output_type": "stream",
     "text": [
      "IoU so far: 0.6751165443127698\n",
      "Inference on unlabelled data...\n"
     ]
    },
    {
     "name": "stderr",
     "output_type": "stream",
     "text": [
      "100%|██████████| 153/153 [00:09<00:00, 16.95it/s]"
     ]
    },
    {
     "name": "stdout",
     "output_type": "stream",
     "text": [
      "Min entropy: 1.70,             Mean Entropy: 2.02,             Max entropy: 2.28\n",
      "Labelled set size:  150\n",
      "Unlabelled set size:  113\n",
      "\n",
      "Training a model for 5 epochs...\n"
     ]
    },
    {
     "name": "stderr",
     "output_type": "stream",
     "text": [
      "\n",
      "  2%|▏         | 2/113 [00:00<00:07, 15.68it/s]"
     ]
    },
    {
     "name": "stdout",
     "output_type": "stream",
     "text": [
      "IoU so far: 0.7083470662041466\n",
      "Inference on unlabelled data...\n"
     ]
    },
    {
     "name": "stderr",
     "output_type": "stream",
     "text": [
      "100%|██████████| 113/113 [00:07<00:00, 16.09it/s]"
     ]
    },
    {
     "name": "stdout",
     "output_type": "stream",
     "text": [
      "Min entropy: 0.87,             Mean Entropy: 1.13,             Max entropy: 1.39\n",
      "Labelled set size:  190\n",
      "Unlabelled set size:  73\n",
      "\n",
      "Training a model for 5 epochs...\n"
     ]
    },
    {
     "name": "stderr",
     "output_type": "stream",
     "text": [
      "\n",
      "  3%|▎         | 2/73 [00:00<00:04, 15.61it/s]"
     ]
    },
    {
     "name": "stdout",
     "output_type": "stream",
     "text": [
      "IoU so far: 0.7272219168077599\n",
      "Inference on unlabelled data...\n"
     ]
    },
    {
     "name": "stderr",
     "output_type": "stream",
     "text": [
      "100%|██████████| 73/73 [00:04<00:00, 16.41it/s]\n"
     ]
    },
    {
     "name": "stdout",
     "output_type": "stream",
     "text": [
      "Min entropy: 0.44,             Mean Entropy: 0.62,             Max entropy: 0.93\n",
      "Max IoU score: 0.7272219168077599\n",
      "----------------------------------------\n",
      "\n",
      "\n",
      "Number of samples to label on one iteration, k=60\n",
      "------------------------------------\n",
      "Labelled set size:  30\n",
      "Unlabelled set size:  233\n",
      "\n",
      "Training a model for 5 epochs...\n"
     ]
    },
    {
     "name": "stderr",
     "output_type": "stream",
     "text": [
      "  1%|          | 2/233 [00:00<00:14, 15.52it/s]"
     ]
    },
    {
     "name": "stdout",
     "output_type": "stream",
     "text": [
      "IoU so far: 0.24520113901926735\n",
      "Inference on unlabelled data...\n"
     ]
    },
    {
     "name": "stderr",
     "output_type": "stream",
     "text": [
      "100%|██████████| 233/233 [00:14<00:00, 16.49it/s]"
     ]
    },
    {
     "name": "stdout",
     "output_type": "stream",
     "text": [
      "Min entropy: 2.19,             Mean Entropy: 3.59,             Max entropy: 5.52\n",
      "Labelled set size:  90\n",
      "Unlabelled set size:  173\n",
      "\n",
      "Training a model for 5 epochs...\n"
     ]
    },
    {
     "name": "stderr",
     "output_type": "stream",
     "text": [
      "\n",
      "  1%|          | 2/173 [00:00<00:10, 16.35it/s]"
     ]
    },
    {
     "name": "stdout",
     "output_type": "stream",
     "text": [
      "IoU so far: 0.36298566318974623\n",
      "Inference on unlabelled data...\n"
     ]
    },
    {
     "name": "stderr",
     "output_type": "stream",
     "text": [
      "100%|██████████| 173/173 [00:10<00:00, 16.69it/s]"
     ]
    },
    {
     "name": "stdout",
     "output_type": "stream",
     "text": [
      "Min entropy: 1.94,             Mean Entropy: 2.89,             Max entropy: 3.39\n",
      "Labelled set size:  150\n",
      "Unlabelled set size:  113\n",
      "\n",
      "Training a model for 5 epochs...\n"
     ]
    },
    {
     "name": "stderr",
     "output_type": "stream",
     "text": [
      "\n",
      "  2%|▏         | 2/113 [00:00<00:06, 16.72it/s]"
     ]
    },
    {
     "name": "stdout",
     "output_type": "stream",
     "text": [
      "IoU so far: 0.4145325268849287\n",
      "Inference on unlabelled data...\n"
     ]
    },
    {
     "name": "stderr",
     "output_type": "stream",
     "text": [
      "100%|██████████| 113/113 [00:06<00:00, 17.12it/s]\n"
     ]
    },
    {
     "name": "stdout",
     "output_type": "stream",
     "text": [
      "Min entropy: 1.33,             Mean Entropy: 1.87,             Max entropy: 2.36\n",
      "Max IoU score: 0.4145325268849287\n",
      "----------------------------------------\n",
      "\n",
      "\n",
      "Samples selection function: Random\n",
      "------------------------------------\n",
      "\n",
      "Number of samples to label on one iteration, k=10\n",
      "------------------------------------\n",
      "Labelled set size:  30\n",
      "Unlabelled set size:  233\n",
      "\n",
      "Training a model for 5 epochs...\n",
      "IoU so far: 0.287777629376638\n",
      "Labelled set size:  40\n",
      "Unlabelled set size:  223\n",
      "\n",
      "Training a model for 5 epochs...\n",
      "IoU so far: 0.4971616654702934\n",
      "Labelled set size:  50\n",
      "Unlabelled set size:  213\n",
      "\n",
      "Training a model for 5 epochs...\n",
      "IoU so far: 0.6251470729856208\n",
      "Labelled set size:  60\n",
      "Unlabelled set size:  203\n",
      "\n",
      "Training a model for 5 epochs...\n",
      "IoU so far: 0.689965487706779\n",
      "Labelled set size:  70\n",
      "Unlabelled set size:  193\n",
      "\n",
      "Training a model for 5 epochs...\n",
      "IoU so far: 0.6935507242042241\n",
      "Labelled set size:  80\n",
      "Unlabelled set size:  183\n",
      "\n",
      "Training a model for 5 epochs...\n",
      "IoU so far: 0.7095258719850298\n",
      "Labelled set size:  90\n",
      "Unlabelled set size:  173\n",
      "\n",
      "Training a model for 5 epochs...\n",
      "IoU so far: 0.7570112459730394\n",
      "Labelled set size:  100\n",
      "Unlabelled set size:  163\n",
      "\n",
      "Training a model for 5 epochs...\n",
      "IoU so far: 0.7884422723609622\n",
      "Labelled set size:  110\n",
      "Unlabelled set size:  153\n",
      "\n",
      "Training a model for 5 epochs...\n",
      "IoU so far: 0.78092358726086\n",
      "Labelled set size:  120\n",
      "Unlabelled set size:  143\n",
      "\n",
      "Training a model for 5 epochs...\n",
      "IoU so far: 0.7810723994037894\n",
      "Labelled set size:  130\n",
      "Unlabelled set size:  133\n",
      "\n",
      "Training a model for 5 epochs...\n",
      "IoU so far: 0.7815330246887587\n",
      "Labelled set size:  140\n",
      "Unlabelled set size:  123\n",
      "\n",
      "Training a model for 5 epochs...\n",
      "IoU so far: 0.7798077003790602\n",
      "Labelled set size:  150\n",
      "Unlabelled set size:  113\n",
      "\n",
      "Training a model for 5 epochs...\n",
      "IoU so far: 0.7860023485551964\n",
      "Labelled set size:  160\n",
      "Unlabelled set size:  103\n",
      "\n",
      "Training a model for 5 epochs...\n",
      "IoU so far: 0.794760817938512\n",
      "Labelled set size:  170\n",
      "Unlabelled set size:  93\n",
      "\n",
      "Training a model for 5 epochs...\n",
      "IoU so far: 0.7875344888998727\n",
      "Labelled set size:  180\n",
      "Unlabelled set size:  83\n",
      "\n",
      "Training a model for 5 epochs...\n",
      "IoU so far: 0.7906657215392237\n",
      "Labelled set size:  190\n",
      "Unlabelled set size:  73\n",
      "\n",
      "Training a model for 5 epochs...\n",
      "IoU so far: 0.7942792159495966\n",
      "Labelled set size:  200\n",
      "Unlabelled set size:  63\n",
      "\n",
      "Training a model for 5 epochs...\n",
      "IoU so far: 0.7977891894850403\n",
      "Max IoU score: 0.7977891894850403\n",
      "----------------------------------------\n",
      "\n",
      "\n",
      "Number of samples to label on one iteration, k=20\n",
      "------------------------------------\n",
      "Labelled set size:  30\n",
      "Unlabelled set size:  233\n",
      "\n",
      "Training a model for 5 epochs...\n",
      "IoU so far: 0.24409711493714026\n",
      "Labelled set size:  50\n",
      "Unlabelled set size:  213\n",
      "\n",
      "Training a model for 5 epochs...\n",
      "IoU so far: 0.45431738973844166\n",
      "Labelled set size:  70\n",
      "Unlabelled set size:  193\n",
      "\n",
      "Training a model for 5 epochs...\n",
      "IoU so far: 0.49479519199616834\n",
      "Labelled set size:  90\n",
      "Unlabelled set size:  173\n",
      "\n",
      "Training a model for 5 epochs...\n",
      "IoU so far: 0.5703600922433456\n",
      "Labelled set size:  110\n",
      "Unlabelled set size:  153\n",
      "\n",
      "Training a model for 5 epochs...\n",
      "IoU so far: 0.690627867042428\n",
      "Labelled set size:  130\n",
      "Unlabelled set size:  133\n",
      "\n",
      "Training a model for 5 epochs...\n",
      "IoU so far: 0.7655568966771116\n",
      "Labelled set size:  150\n",
      "Unlabelled set size:  113\n",
      "\n",
      "Training a model for 5 epochs...\n",
      "IoU so far: 0.7866118326045499\n",
      "Labelled set size:  170\n",
      "Unlabelled set size:  93\n",
      "\n",
      "Training a model for 5 epochs...\n",
      "IoU so far: 0.7907908122138221\n",
      "Labelled set size:  190\n",
      "Unlabelled set size:  73\n",
      "\n",
      "Training a model for 5 epochs...\n",
      "IoU so far: 0.7870396906786625\n",
      "Max IoU score: 0.7907908122138221\n",
      "----------------------------------------\n",
      "\n",
      "\n",
      "Number of samples to label on one iteration, k=40\n",
      "------------------------------------\n",
      "Labelled set size:  30\n",
      "Unlabelled set size:  233\n",
      "\n",
      "Training a model for 5 epochs...\n",
      "IoU so far: 0.2923125279421853\n",
      "Labelled set size:  70\n",
      "Unlabelled set size:  193\n",
      "\n",
      "Training a model for 5 epochs...\n",
      "IoU so far: 0.3378800758630921\n",
      "Labelled set size:  110\n",
      "Unlabelled set size:  153\n",
      "\n",
      "Training a model for 5 epochs...\n",
      "IoU so far: 0.6218725206828354\n",
      "Labelled set size:  150\n",
      "Unlabelled set size:  113\n",
      "\n",
      "Training a model for 5 epochs...\n",
      "IoU so far: 0.6841919109372812\n",
      "Labelled set size:  190\n",
      "Unlabelled set size:  73\n",
      "\n",
      "Training a model for 5 epochs...\n",
      "IoU so far: 0.7785019803755354\n",
      "Max IoU score: 0.7785019803755354\n",
      "----------------------------------------\n",
      "\n",
      "\n",
      "Number of samples to label on one iteration, k=60\n",
      "------------------------------------\n",
      "Labelled set size:  30\n",
      "Unlabelled set size:  233\n",
      "\n",
      "Training a model for 5 epochs...\n",
      "IoU so far: 0.32960264281471174\n",
      "Labelled set size:  90\n",
      "Unlabelled set size:  173\n",
      "\n",
      "Training a model for 5 epochs...\n",
      "IoU so far: 0.4539884399659563\n",
      "Labelled set size:  150\n",
      "Unlabelled set size:  113\n",
      "\n",
      "Training a model for 5 epochs...\n",
      "IoU so far: 0.5742955225529058\n",
      "Max IoU score: 0.5742955225529058\n",
      "----------------------------------------\n",
      "\n",
      "saved results.pkl /home/ruslan/Desktop/DoEdu/src/active_learning/src ['data', 'augmentations.py', 'result.pkl', 'utils.py', 'unet_best_model.pth', '__pycache__', 'best_model.pth', 'active_learning_semantic_segmentation.ipynb', 'Active_Learning_Tutorial.ipynb', 'Perception_4_ActiveLearning_7_OnlineLearning.png', '.ipynb_checkpoints', '.gitignore', 'train_semantic_segmentation.ipynb', 'results.pkl']\n"
     ]
    }
   ],
   "source": [
    "results = {}\n",
    "\n",
    "# choose model\n",
    "for model_str in MODELS:\n",
    "    print(f'\\nModel name: {model_str}')\n",
    "    print('------------------------------------')\n",
    "    results[model_str] = {}\n",
    "    \n",
    "    # choose samples selection function\n",
    "    for samples_selection_str in SAMPLES_SELECTIONS:\n",
    "        print(f'\\nSamples selection function: {samples_selection_str}')\n",
    "        print('------------------------------------')\n",
    "        results[model_str][samples_selection_str] = {}\n",
    "        \n",
    "        # choose number of samples to select for labelling from inference results\n",
    "        for k in NUM_UNCERTAIN_IMAGES:\n",
    "            print(f'\\nNumber of samples to label on one iteration, k={k}')\n",
    "            print('------------------------------------')\n",
    "            results[model_str][samples_selection_str][str(k)] = {}\n",
    "            \n",
    "            IoUs, N_train_samples = al_experiment(model_str, samples_selection_str, k, verbose_train=False)\n",
    "            \n",
    "            results[model_str][samples_selection_str][str(k)]['IoUs'] = IoUs\n",
    "            results[model_str][samples_selection_str][str(k)]['N_train_samples'] = N_train_samples\n",
    "            \n",
    "fname = 'results'\n",
    "pickle_save(fname+'.pkl', results)"
   ]
  },
  {
   "cell_type": "markdown",
   "metadata": {},
   "source": [
    "## Results"
   ]
  },
  {
   "cell_type": "code",
   "execution_count": 8,
   "metadata": {},
   "outputs": [
    {
     "data": {
      "image/png": "[encoded data removed]",
      "text/plain": [
       "<Figure size 576x576 with 1 Axes>"
      ]
     },
     "metadata": {
      "needs_background": "light"
     },
     "output_type": "display_data"
    }
   ],
   "source": [
    "results = pickle_load(fname+'.pkl')\n",
    "\n",
    "plt.figure(figsize=(8,8))\n",
    "\n",
    "# choose model\n",
    "for model_str in MODELS:    \n",
    "    # choose samples selection function\n",
    "    for samples_selection_str in SAMPLES_SELECTIONS:        \n",
    "        # choose number of samples to select for labelling from inference results\n",
    "        for k in NUM_UNCERTAIN_IMAGES:\n",
    "\n",
    "            ious = results[model_str][samples_selection_str][str(k)]['IoUs']\n",
    "            n_train = results[model_str][samples_selection_str][str(k)]['N_train_samples']\n",
    "\n",
    "            plt.plot(n_train[1:], ious[1:], label=model_str+'_'+samples_selection_str+'_k='+str(k))\n",
    "        \n",
    "plt.grid()\n",
    "plt.xlabel('N train images')\n",
    "plt.ylabel('IoU')\n",
    "plt.legend();"
   ]
  }
 ],
 "metadata": {
  "kernelspec": {
   "display_name": "Python 3",
   "language": "python",
   "name": "python3"
  },
  "language_info": {
   "codemirror_mode": {
    "name": "ipython",
    "version": 3
   },
   "file_extension": ".py",
   "mimetype": "text/x-python",
   "name": "python",
   "nbconvert_exporter": "python",
   "pygments_lexer": "ipython3",
   "version": "3.6.10"
  }
 },
 "nbformat": 4,
 "nbformat_minor": 4
}
